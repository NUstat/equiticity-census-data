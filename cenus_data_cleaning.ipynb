{
 "metadata": {
  "language_info": {
   "codemirror_mode": {
    "name": "ipython",
    "version": 3
   },
   "file_extension": ".py",
   "mimetype": "text/x-python",
   "name": "python",
   "nbconvert_exporter": "python",
   "pygments_lexer": "ipython3",
   "version": "3.8.5-final"
  },
  "orig_nbformat": 2,
  "kernelspec": {
   "name": "python38564bitfc1cbcb307194b9ba54a54a5c9ad8180",
   "display_name": "Python 3.8.5 64-bit"
  }
 },
 "nbformat": 4,
 "nbformat_minor": 2,
 "cells": [
  {
   "cell_type": "code",
   "execution_count": 87,
   "metadata": {},
   "outputs": [],
   "source": [
    "import numpy as np\n",
    "import pandas as pd"
   ]
  },
  {
   "cell_type": "code",
   "execution_count": 108,
   "metadata": {},
   "outputs": [],
   "source": [
    "edudat_2015_2019 = pd.read_csv(\"/Users/benedictjung/Desktop/STAT349/nhgis0002_csv/nhgis0002_ds244_20195_tract.csv\",encoding='latin-1')\n",
    "edudat_2014_2018 = pd.read_csv(\"/Users/benedictjung/Desktop/STAT349/nhgis0002_csv/nhgis0002_ds239_20185_tract.csv\",encoding='latin-1')\n",
    "edudat_2010_2014 = pd.read_csv(\"/Users/benedictjung/Desktop/STAT349/nhgis0002_csv/nhgis0002_ds206_20145_tract.csv\",encoding='latin-1')\n",
    "dat_2020_q1 = pd.read_csv(\"/Users/benedictjung/Downloads/Divvy_Trips_2020_Q1_data.csv\")\n",
    "tracts_dat = pd.read_csv(\"/Users/benedictjung/Desktop/STAT349/nhgis0002_csv/CensusTractsTIGER2010.csv\")"
   ]
  },
  {
   "cell_type": "code",
   "execution_count": 109,
   "metadata": {},
   "outputs": [
    {
     "output_type": "execute_result",
     "data": {
      "text/plain": "Index(['GISJOIN', 'YEAR', 'STUSAB', 'REGIONA', 'DIVISIONA', 'STATE', 'STATEA',\n       'COUNTY', 'COUNTYA', 'COUSUBA', 'PLACEA', 'TRACTA', 'BLKGRPA',\n       'CONCITA', 'AIANHHA', 'RES_ONLYA', 'TRUSTA', 'AIHHTLI', 'AITS', 'ANRCA',\n       'CBSAA', 'CSAA', 'METDIVA', 'MEMI', 'NECTAA', 'CNECTAA', 'NECTADIVA',\n       'UAA', 'CDCURRA', 'SLDUA', 'SLDLA', 'ZCTA5A', 'SUBMCDA', 'SDELMA',\n       'SDSECA', 'SDUNIA', 'UR', 'PCI', 'PUMA5A', 'GEOID', 'BTTRA', 'BTBGA',\n       'NAME_E', 'ALWGE001', 'ALWGE002', 'ALWGE003', 'ALWGE004', 'ALWGE005',\n       'ALWGE006', 'ALWGE007', 'ALWGE008', 'ALWGE009', 'ALWGE010', 'ALWGE011',\n       'ALWGE012', 'ALWGE013', 'ALWGE014', 'ALWGE015', 'ALWGE016', 'ALWGE017',\n       'ALWGE018', 'ALWGE019', 'ALWGE020', 'ALWGE021', 'ALWGE022', 'ALWGE023',\n       'ALWGE024', 'ALWGE025', 'NAME_M', 'ALWGM001', 'ALWGM002', 'ALWGM003',\n       'ALWGM004', 'ALWGM005', 'ALWGM006', 'ALWGM007', 'ALWGM008', 'ALWGM009',\n       'ALWGM010', 'ALWGM011', 'ALWGM012', 'ALWGM013', 'ALWGM014', 'ALWGM015',\n       'ALWGM016', 'ALWGM017', 'ALWGM018', 'ALWGM019', 'ALWGM020', 'ALWGM021',\n       'ALWGM022', 'ALWGM023', 'ALWGM024', 'ALWGM025'],\n      dtype='object')"
     },
     "metadata": {},
     "execution_count": 109
    }
   ],
   "source": [
    "edudat_2015_2019.columns"
   ]
  },
  {
   "cell_type": "code",
   "execution_count": 110,
   "metadata": {},
   "outputs": [
    {
     "output_type": "execute_result",
     "data": {
      "text/plain": "[<bound method Series.unique of 0      842400\n 1      840300\n 2      841100\n 3      841200\n 4      839000\n         ...  \n 796     70400\n 797     70500\n 798    130300\n 799    292200\n 800    630900\n Name: TRACTCE10, Length: 801, dtype: int64>]"
     },
     "metadata": {},
     "execution_count": 110
    }
   ],
   "source": [
    "tract_list = []\n",
    "tract_list.append(tracts_dat[\"TRACTCE10\"].unique)\n",
    "tract_list"
   ]
  },
  {
   "cell_type": "code",
   "execution_count": 111,
   "metadata": {},
   "outputs": [],
   "source": [
    "edudat_2015_2019.dropna(axis=1, how='all', inplace=True)\n",
    "edudat_2015_2019 = edudat_2015_2019[edudat_2015_2019[\"STATE\"] == \"Illinois\"]\n",
    "edudat_2015_2019 = edudat_2015_2019.reset_index(drop=True)\n",
    "\n",
    "for i in range(edudat_2015_2019.shape[0]):\n",
    "    if edudat_2015_2019.loc[i,\"TRACTA\"] not in tract_list:\n",
    "        edudat_2015_2019.drop(i)"
   ]
  },
  {
   "cell_type": "code",
   "execution_count": 112,
   "metadata": {},
   "outputs": [],
   "source": [
    "column_dict_2015_2019 = {\"GISJOIN\":     \"GIS Join Match Code\",\n",
    "        \"YEAR\":        \"Data File Year\",\n",
    "        \"STUSAB\":      \"State Postal Abbreviation\",\n",
    "        \"REGIONA\":     \"Region Code\",\n",
    "        \"DIVISIONA\":   \"Division Code\",\n",
    "        \"STATE\":       \"State Name\",\n",
    "        \"STATEA\":      \"State Code\",\n",
    "        \"COUNTY\":      \"County Name\",\n",
    "        \"COUNTYA\":     \"County Code\",\n",
    "        \"COUSUBA\":     \"County Subdivision Code\",\n",
    "        \"PLACEA\":      \"Place Code\",\n",
    "        \"TRACTA\":      \"Census Tract Code\",\n",
    "        \"BLKGRPA\":     \"Block Group Code\",\n",
    "        \"CONCITA\":     \"Consolidated City Code\",\n",
    "        \"AIANHHA\":     \"American Indian Area/Alaska Native Area/Hawaiian Home Land Code\",\n",
    "        \"RES_ONLYA\":   \"American Indian Area/Alaska Native Area (Reservation or Statistical Entity Only) Code\",\n",
    "        \"TRUSTA\":      \"American Indian Area (Off-Reservation Trust Land Only)/Hawaiian Home Land Code\",\n",
    "        \"AIHHTLI\":     \"American Indian Trust Land/ Hawaiian Home Land Indicator\",\n",
    "        \"AITS\":        \"American Indian Tribal Subdivision (FIPS)\",\n",
    "        \"ANRCA\":       \"Alaska Native Regional Corporation Code\",\n",
    "        \"CBSAA\":       \"Metropolitan Statistical Area/Micropolitan Statistical Area Code\",\n",
    "        \"CSAA\":        \"Combined Statistical Area Code\",\n",
    "        \"METDIVA\":     \"Metropolitan Division Code\",\n",
    "        \"MEMI\":        \"Metropolitan/Micropolitan Indicator Flag\",\n",
    "        \"NECTAA\":      \"New England City and Town Area Code\",\n",
    "        \"CNECTAA\":     \"Combined New England City and Town Area Code\",\n",
    "        \"NECTADIVA\":   \"New England City and Town Area Division Code\",\n",
    "        \"UAA\":         \"Urban Area Code\",\n",
    "        \"CDCURRA\":     \"Congressional District (2019-2021, 116th Congress) Code\",\n",
    "        \"SLDUA\":       \"State Legislative District (Upper Chamber) Code\",\n",
    "        \"SLDLA\":       \"State Legislative District (Lower Chamber) Code\",\n",
    "        \"ZCTA5A\":      \"5-Digit ZIP Code Tabulation Area Code\",\n",
    "        \"SUBMCDA\":     \"Subminor Civil Division Code\",\n",
    "        \"SDELMA\":      \"School District (Elementary)/Remainder Code\",\n",
    "        \"SDSECA\":      \"School District (Secondary)/Remainder Code\",\n",
    "        \"SDUNIA\":      \"School District (Unified)/Remainder Code\",\n",
    "        \"UR\":          \"Urban/Rural\",\n",
    "        \"PCI\":         \"Principal City Indicator\",\n",
    "        \"PUMA5A\":      \"Public Use Microdata Sample Area (PUMA) Code\",\n",
    "        \"GEOID\":       \"Census Geographic Identifier\",\n",
    "        \"BTTRA\":       \"Tribal Census Tract Code\",\n",
    "        \"BTBGA\":       \"Tribal Block Group Code\",\n",
    "        \"NAME_E\":      \"Area Name (Estimate)\",\n",
    "        \"ALWGE001\":    \"Total (Estimate)\",\n",
    "        \"ALWGE002\":    \"No schooling completed (Estimate)\",\n",
    "        \"ALWGE003\":    \"Nursery school (Estimate)\",\n",
    "        \"ALWGE004\":    \"Kindergarten (Estimate)\",\n",
    "        \"ALWGE005\":    \"1st grade (Estimate)\",\n",
    "        \"ALWGE006\":    \"2nd grade (Estimate)\",\n",
    "        \"ALWGE007\":    \"3rd grade (Estimate)\",\n",
    "        \"ALWGE008\":    \"4th grade (Estimate)\",\n",
    "        \"ALWGE009\":    \"5th grade (Estimate)\",\n",
    "        \"ALWGE010\":    \"6th grade (Estimate)\",\n",
    "        \"ALWGE011\":    \"7th grade (Estimate)\",\n",
    "        \"ALWGE012\":    \"8th grade (Estimate)\",\n",
    "        \"ALWGE013\":    \"9th grade (Estimate)\",\n",
    "        \"ALWGE014\":    \"10th grade (Estimate)\",\n",
    "        \"ALWGE015\":    \"11th grade (Estimate)\",\n",
    "        \"ALWGE016\":    \"12th grade, no diploma (Estimate)\",\n",
    "        \"ALWGE017\":    \"Regular high school diploma (Estimate)\",\n",
    "        \"ALWGE018\":    \"GED or alternative credential (Estimate)\",\n",
    "        \"ALWGE019\":    \"Some college, less than 1 year (Estimate)\",\n",
    "        \"ALWGE020\":    \"Some college, 1 or more years, no degree (Estimate)\",\n",
    "        \"ALWGE021\":    \"Associate's degree (Estimate)\",\n",
    "        \"ALWGE022\":    \"Bachelor's degree (Estimate)\",\n",
    "        \"ALWGE023\":    \"Master's degree (Estimate)\",\n",
    "        \"ALWGE024\":    \"Professional school degree (Estimate)\",\n",
    "        \"ALWGE025\":    \"Doctorate degree (Estimate)\",\n",
    "        \"NAME_M\":      \"Area Name (Margin of Error)\",\n",
    "        \"ALWGM001\":    \"Total (Margin of Error)\",\n",
    "        \"ALWGM002\":    \"No schooling completed (Margin of Error)\",\n",
    "        \"ALWGM003\":    \"Nursery school (Margin of Error)\",\n",
    "        \"ALWGM004\":    \"Kindergarten (Margin of Error)\",\n",
    "        \"ALWGM005\":    \"1st grade (Margin of Error)\",\n",
    "        \"ALWGM006\":    \"2nd grade (Margin of Error)\",\n",
    "        \"ALWGM007\":    \"3rd grade (Margin of Error)\",\n",
    "        \"ALWGM008\":    \"4th grade (Margin of Error)\",\n",
    "        \"ALWGM009\":    \"5th grade (Margin of Error)\",\n",
    "        \"ALWGM010\":    \"6th grade (Margin of Error)\",\n",
    "        \"ALWGM011\":    \"7th grade (Margin of Error)\",\n",
    "        \"ALWGM012\":    \"8th grade (Margin of Error)\",\n",
    "        \"ALWGM013\":    \"9th grade (Margin of Error)\",\n",
    "        \"ALWGM014\":    \"10th grade (Margin of Error)\",\n",
    "        \"ALWGM015\":    \"11th grade (Margin of Error)\",\n",
    "        \"ALWGM016\":    \"12th grade, no diploma (Margin of Error)\",\n",
    "        \"ALWGM017\":    \"Regular high school diploma (Margin of Error)\",\n",
    "        \"ALWGM018\":    \"GED or alternative credential (Margin of Error)\",\n",
    "        \"ALWGM019\":    \"Some college, less than 1 year (Margin of Error)\",\n",
    "        \"ALWGM020\":    \"Some college, 1 or more years, no degree (Margin of Error)\",\n",
    "        \"ALWGM021\":    \"Associate's degree (Margin of Error)\",\n",
    "        \"ALWGM022\":    \"Bachelor's degree (Margin of Error)\",\n",
    "        \"ALWGM023\":    \"Master's degree (Margin of Error)\",\n",
    "        \"ALWGM024\":    \"Professional school degree (Margin of Error)\",\n",
    "        \"ALWGM025\":    \"Doctorate degree (Margin of Error)\"\n",
    "              }"
   ]
  },
  {
   "cell_type": "code",
   "execution_count": 113,
   "metadata": {},
   "outputs": [],
   "source": [
    "col_names = []\n",
    "for i in edudat_2015_2019:\n",
    "    col_names.append(i)"
   ]
  },
  {
   "cell_type": "code",
   "execution_count": 114,
   "metadata": {},
   "outputs": [],
   "source": [
    "for i in range(len(col_names)):\n",
    "    col_names[i] = column_dict_2015_2019[col_names[i]]"
   ]
  },
  {
   "cell_type": "code",
   "execution_count": 115,
   "metadata": {},
   "outputs": [],
   "source": [
    "edudat_2015_2019.columns = col_names"
   ]
  },
  {
   "cell_type": "code",
   "execution_count": 116,
   "metadata": {},
   "outputs": [
    {
     "output_type": "execute_result",
     "data": {
      "text/plain": "     GIS Join Match Code Data File Year State Postal Abbreviation State Name  \\\n0         G1700010000100      2015-2019                        IL   Illinois   \n1         G1700010000201      2015-2019                        IL   Illinois   \n2         G1700010000202      2015-2019                        IL   Illinois   \n3         G1700010000400      2015-2019                        IL   Illinois   \n4         G1700010000500      2015-2019                        IL   Illinois   \n...                  ...            ...                       ...        ...   \n3118      G1702030030501      2015-2019                        IL   Illinois   \n3119      G1702030030502      2015-2019                        IL   Illinois   \n3120      G1702030030601      2015-2019                        IL   Illinois   \n3121      G1702030030602      2015-2019                        IL   Illinois   \n3122      G1702030030700      2015-2019                        IL   Illinois   \n\n      State Code      County Name  County Code  Census Tract Code  \\\n0             17     Adams County            1                100   \n1             17     Adams County            1                201   \n2             17     Adams County            1                202   \n3             17     Adams County            1                400   \n4             17     Adams County            1                500   \n...          ...              ...          ...                ...   \n3118          17  Woodford County          203              30501   \n3119          17  Woodford County          203              30502   \n3120          17  Woodford County          203              30601   \n3121          17  Woodford County          203              30602   \n3122          17  Woodford County          203              30700   \n\n     Census Geographic Identifier  \\\n0              14000US17001000100   \n1              14000US17001000201   \n2              14000US17001000202   \n3              14000US17001000400   \n4              14000US17001000500   \n...                           ...   \n3118           14000US17203030501   \n3119           14000US17203030502   \n3120           14000US17203030601   \n3121           14000US17203030602   \n3122           14000US17203030700   \n\n                                Area Name (Estimate)  ...  \\\n0             Census Tract 1, Adams County, Illinois  ...   \n1          Census Tract 2.01, Adams County, Illinois  ...   \n2          Census Tract 2.02, Adams County, Illinois  ...   \n3             Census Tract 4, Adams County, Illinois  ...   \n4             Census Tract 5, Adams County, Illinois  ...   \n...                                              ...  ...   \n3118  Census Tract 305.01, Woodford County, Illinois  ...   \n3119  Census Tract 305.02, Woodford County, Illinois  ...   \n3120  Census Tract 306.01, Woodford County, Illinois  ...   \n3121  Census Tract 306.02, Woodford County, Illinois  ...   \n3122     Census Tract 307, Woodford County, Illinois  ...   \n\n      12th grade, no diploma (Margin of Error)  \\\n0                                           38   \n1                                           11   \n2                                           10   \n3                                           44   \n4                                           23   \n...                                        ...   \n3118                                        43   \n3119                                        19   \n3120                                        15   \n3121                                        20   \n3122                                        22   \n\n      Regular high school diploma (Margin of Error)  \\\n0                                               246   \n1                                                66   \n2                                               139   \n3                                               177   \n4                                               143   \n...                                             ...   \n3118                                            207   \n3119                                            160   \n3120                                            203   \n3121                                            112   \n3122                                            117   \n\n      GED or alternative credential (Margin of Error)  \\\n0                                                 112   \n1                                                  32   \n2                                                  67   \n3                                                 141   \n4                                                  41   \n...                                               ...   \n3118                                               73   \n3119                                               37   \n3120                                               60   \n3121                                               24   \n3122                                               63   \n\n      Some college, less than 1 year (Margin of Error)  \\\n0                                                  132   \n1                                                   64   \n2                                                   66   \n3                                                  108   \n4                                                   61   \n...                                                ...   \n3118                                               127   \n3119                                                46   \n3120                                                89   \n3121                                                35   \n3122                                                54   \n\n      Some college, 1 or more years, no degree (Margin of Error)  \\\n0                                                   166            \n1                                                    56            \n2                                                    79            \n3                                                   103            \n4                                                    91            \n...                                                 ...            \n3118                                                136            \n3119                                                 83            \n3120                                                161            \n3121                                                 78            \n3122                                                 78            \n\n      Associate's degree (Margin of Error)  \\\n0                                      100   \n1                                       50   \n2                                       71   \n3                                       75   \n4                                       31   \n...                                    ...   \n3118                                   171   \n3119                                    61   \n3120                                   117   \n3121                                    74   \n3122                                    78   \n\n      Bachelor's degree (Margin of Error)  Master's degree (Margin of Error)  \\\n0                                     122                                 96   \n1                                      94                                 40   \n2                                      86                                 40   \n3                                      82                                 50   \n4                                      48                                 29   \n...                                   ...                                ...   \n3118                                  271                                171   \n3119                                   75                                 30   \n3120                                  203                                197   \n3121                                   80                                109   \n3122                                  109                                 44   \n\n      Professional school degree (Margin of Error)  \\\n0                                               28   \n1                                               13   \n2                                               36   \n3                                               21   \n4                                               11   \n...                                            ...   \n3118                                            92   \n3119                                             8   \n3120                                            16   \n3121                                            16   \n3122                                            13   \n\n      Doctorate degree (Margin of Error)  \n0                                     21  \n1                                      7  \n2                                     11  \n3                                     11  \n4                                      8  \n...                                  ...  \n3118                                  86  \n3119                                  11  \n3120                                  35  \n3121                                  22  \n3122                                  17  \n\n[3123 rows x 61 columns]",
      "text/html": "<div>\n<style scoped>\n    .dataframe tbody tr th:only-of-type {\n        vertical-align: middle;\n    }\n\n    .dataframe tbody tr th {\n        vertical-align: top;\n    }\n\n    .dataframe thead th {\n        text-align: right;\n    }\n</style>\n<table border=\"1\" class=\"dataframe\">\n  <thead>\n    <tr style=\"text-align: right;\">\n      <th></th>\n      <th>GIS Join Match Code</th>\n      <th>Data File Year</th>\n      <th>State Postal Abbreviation</th>\n      <th>State Name</th>\n      <th>State Code</th>\n      <th>County Name</th>\n      <th>County Code</th>\n      <th>Census Tract Code</th>\n      <th>Census Geographic Identifier</th>\n      <th>Area Name (Estimate)</th>\n      <th>...</th>\n      <th>12th grade, no diploma (Margin of Error)</th>\n      <th>Regular high school diploma (Margin of Error)</th>\n      <th>GED or alternative credential (Margin of Error)</th>\n      <th>Some college, less than 1 year (Margin of Error)</th>\n      <th>Some college, 1 or more years, no degree (Margin of Error)</th>\n      <th>Associate's degree (Margin of Error)</th>\n      <th>Bachelor's degree (Margin of Error)</th>\n      <th>Master's degree (Margin of Error)</th>\n      <th>Professional school degree (Margin of Error)</th>\n      <th>Doctorate degree (Margin of Error)</th>\n    </tr>\n  </thead>\n  <tbody>\n    <tr>\n      <th>0</th>\n      <td>G1700010000100</td>\n      <td>2015-2019</td>\n      <td>IL</td>\n      <td>Illinois</td>\n      <td>17</td>\n      <td>Adams County</td>\n      <td>1</td>\n      <td>100</td>\n      <td>14000US17001000100</td>\n      <td>Census Tract 1, Adams County, Illinois</td>\n      <td>...</td>\n      <td>38</td>\n      <td>246</td>\n      <td>112</td>\n      <td>132</td>\n      <td>166</td>\n      <td>100</td>\n      <td>122</td>\n      <td>96</td>\n      <td>28</td>\n      <td>21</td>\n    </tr>\n    <tr>\n      <th>1</th>\n      <td>G1700010000201</td>\n      <td>2015-2019</td>\n      <td>IL</td>\n      <td>Illinois</td>\n      <td>17</td>\n      <td>Adams County</td>\n      <td>1</td>\n      <td>201</td>\n      <td>14000US17001000201</td>\n      <td>Census Tract 2.01, Adams County, Illinois</td>\n      <td>...</td>\n      <td>11</td>\n      <td>66</td>\n      <td>32</td>\n      <td>64</td>\n      <td>56</td>\n      <td>50</td>\n      <td>94</td>\n      <td>40</td>\n      <td>13</td>\n      <td>7</td>\n    </tr>\n    <tr>\n      <th>2</th>\n      <td>G1700010000202</td>\n      <td>2015-2019</td>\n      <td>IL</td>\n      <td>Illinois</td>\n      <td>17</td>\n      <td>Adams County</td>\n      <td>1</td>\n      <td>202</td>\n      <td>14000US17001000202</td>\n      <td>Census Tract 2.02, Adams County, Illinois</td>\n      <td>...</td>\n      <td>10</td>\n      <td>139</td>\n      <td>67</td>\n      <td>66</td>\n      <td>79</td>\n      <td>71</td>\n      <td>86</td>\n      <td>40</td>\n      <td>36</td>\n      <td>11</td>\n    </tr>\n    <tr>\n      <th>3</th>\n      <td>G1700010000400</td>\n      <td>2015-2019</td>\n      <td>IL</td>\n      <td>Illinois</td>\n      <td>17</td>\n      <td>Adams County</td>\n      <td>1</td>\n      <td>400</td>\n      <td>14000US17001000400</td>\n      <td>Census Tract 4, Adams County, Illinois</td>\n      <td>...</td>\n      <td>44</td>\n      <td>177</td>\n      <td>141</td>\n      <td>108</td>\n      <td>103</td>\n      <td>75</td>\n      <td>82</td>\n      <td>50</td>\n      <td>21</td>\n      <td>11</td>\n    </tr>\n    <tr>\n      <th>4</th>\n      <td>G1700010000500</td>\n      <td>2015-2019</td>\n      <td>IL</td>\n      <td>Illinois</td>\n      <td>17</td>\n      <td>Adams County</td>\n      <td>1</td>\n      <td>500</td>\n      <td>14000US17001000500</td>\n      <td>Census Tract 5, Adams County, Illinois</td>\n      <td>...</td>\n      <td>23</td>\n      <td>143</td>\n      <td>41</td>\n      <td>61</td>\n      <td>91</td>\n      <td>31</td>\n      <td>48</td>\n      <td>29</td>\n      <td>11</td>\n      <td>8</td>\n    </tr>\n    <tr>\n      <th>...</th>\n      <td>...</td>\n      <td>...</td>\n      <td>...</td>\n      <td>...</td>\n      <td>...</td>\n      <td>...</td>\n      <td>...</td>\n      <td>...</td>\n      <td>...</td>\n      <td>...</td>\n      <td>...</td>\n      <td>...</td>\n      <td>...</td>\n      <td>...</td>\n      <td>...</td>\n      <td>...</td>\n      <td>...</td>\n      <td>...</td>\n      <td>...</td>\n      <td>...</td>\n      <td>...</td>\n    </tr>\n    <tr>\n      <th>3118</th>\n      <td>G1702030030501</td>\n      <td>2015-2019</td>\n      <td>IL</td>\n      <td>Illinois</td>\n      <td>17</td>\n      <td>Woodford County</td>\n      <td>203</td>\n      <td>30501</td>\n      <td>14000US17203030501</td>\n      <td>Census Tract 305.01, Woodford County, Illinois</td>\n      <td>...</td>\n      <td>43</td>\n      <td>207</td>\n      <td>73</td>\n      <td>127</td>\n      <td>136</td>\n      <td>171</td>\n      <td>271</td>\n      <td>171</td>\n      <td>92</td>\n      <td>86</td>\n    </tr>\n    <tr>\n      <th>3119</th>\n      <td>G1702030030502</td>\n      <td>2015-2019</td>\n      <td>IL</td>\n      <td>Illinois</td>\n      <td>17</td>\n      <td>Woodford County</td>\n      <td>203</td>\n      <td>30502</td>\n      <td>14000US17203030502</td>\n      <td>Census Tract 305.02, Woodford County, Illinois</td>\n      <td>...</td>\n      <td>19</td>\n      <td>160</td>\n      <td>37</td>\n      <td>46</td>\n      <td>83</td>\n      <td>61</td>\n      <td>75</td>\n      <td>30</td>\n      <td>8</td>\n      <td>11</td>\n    </tr>\n    <tr>\n      <th>3120</th>\n      <td>G1702030030601</td>\n      <td>2015-2019</td>\n      <td>IL</td>\n      <td>Illinois</td>\n      <td>17</td>\n      <td>Woodford County</td>\n      <td>203</td>\n      <td>30601</td>\n      <td>14000US17203030601</td>\n      <td>Census Tract 306.01, Woodford County, Illinois</td>\n      <td>...</td>\n      <td>15</td>\n      <td>203</td>\n      <td>60</td>\n      <td>89</td>\n      <td>161</td>\n      <td>117</td>\n      <td>203</td>\n      <td>197</td>\n      <td>16</td>\n      <td>35</td>\n    </tr>\n    <tr>\n      <th>3121</th>\n      <td>G1702030030602</td>\n      <td>2015-2019</td>\n      <td>IL</td>\n      <td>Illinois</td>\n      <td>17</td>\n      <td>Woodford County</td>\n      <td>203</td>\n      <td>30602</td>\n      <td>14000US17203030602</td>\n      <td>Census Tract 306.02, Woodford County, Illinois</td>\n      <td>...</td>\n      <td>20</td>\n      <td>112</td>\n      <td>24</td>\n      <td>35</td>\n      <td>78</td>\n      <td>74</td>\n      <td>80</td>\n      <td>109</td>\n      <td>16</td>\n      <td>22</td>\n    </tr>\n    <tr>\n      <th>3122</th>\n      <td>G1702030030700</td>\n      <td>2015-2019</td>\n      <td>IL</td>\n      <td>Illinois</td>\n      <td>17</td>\n      <td>Woodford County</td>\n      <td>203</td>\n      <td>30700</td>\n      <td>14000US17203030700</td>\n      <td>Census Tract 307, Woodford County, Illinois</td>\n      <td>...</td>\n      <td>22</td>\n      <td>117</td>\n      <td>63</td>\n      <td>54</td>\n      <td>78</td>\n      <td>78</td>\n      <td>109</td>\n      <td>44</td>\n      <td>13</td>\n      <td>17</td>\n    </tr>\n  </tbody>\n</table>\n<p>3123 rows × 61 columns</p>\n</div>"
     },
     "metadata": {},
     "execution_count": 116
    }
   ],
   "source": [
    "edudat_2015_2019"
   ]
  },
  {
   "cell_type": "code",
   "execution_count": 117,
   "metadata": {},
   "outputs": [
    {
     "output_type": "execute_result",
     "data": {
      "text/plain": "              GISJOIN       YEAR  REGIONA  DIVISIONA        STATE  STATEA  \\\n0      G0100010020100  2014-2018      NaN        NaN      Alabama       1   \n1      G0100010020200  2014-2018      NaN        NaN      Alabama       1   \n2      G0100010020300  2014-2018      NaN        NaN      Alabama       1   \n3      G0100010020400  2014-2018      NaN        NaN      Alabama       1   \n4      G0100010020500  2014-2018      NaN        NaN      Alabama       1   \n...               ...        ...      ...        ...          ...     ...   \n73996  G7201530750501  2014-2018      NaN        NaN  Puerto Rico      72   \n73997  G7201530750502  2014-2018      NaN        NaN  Puerto Rico      72   \n73998  G7201530750503  2014-2018      NaN        NaN  Puerto Rico      72   \n73999  G7201530750601  2014-2018      NaN        NaN  Puerto Rico      72   \n74000  G7201530750602  2014-2018      NaN        NaN  Puerto Rico      72   \n\n                COUNTY  COUNTYA  COUSUBA  PLACEA  ...  AJYPM016  AJYPM017  \\\n0       Autauga County        1      NaN     NaN  ...        12       124   \n1       Autauga County        1      NaN     NaN  ...        30       150   \n2       Autauga County        1      NaN     NaN  ...        34       202   \n3       Autauga County        1      NaN     NaN  ...        29       205   \n4       Autauga County        1      NaN     NaN  ...        77       326   \n...                ...      ...      ...     ...  ...       ...       ...   \n73996  Yauco Municipio      153      NaN     NaN  ...        61       271   \n73997  Yauco Municipio      153      NaN     NaN  ...         8        70   \n73998  Yauco Municipio      153      NaN     NaN  ...        17        98   \n73999  Yauco Municipio      153      NaN     NaN  ...        21       171   \n74000  Yauco Municipio      153      NaN     NaN  ...        19       340   \n\n       AJYPM018  AJYPM019  AJYPM020  AJYPM021  AJYPM022  AJYPM023  AJYPM024  \\\n0            41        23        68        41       103        55        23   \n1            50        47        86        40        72        28         8   \n2            75        73       155        75       109        84        12   \n3            60        82        94        90       149        74        37   \n4           145       139       289       239       364       266       166   \n...         ...       ...       ...       ...       ...       ...       ...   \n73996       116        91       150       104       266       150        59   \n73997        12        22        71        43       117        58        22   \n73998        14        12        60        72       183        66        14   \n73999        48        56       138       145       243        62        57   \n74000        37        20        27        62       115        39        14   \n\n       AJYPM025  \n0            16  \n1            10  \n2            32  \n3            40  \n4           153  \n...         ...  \n73996        19  \n73997        32  \n73998        20  \n73999        14  \n74000        14  \n\n[74001 rows x 88 columns]",
      "text/html": "<div>\n<style scoped>\n    .dataframe tbody tr th:only-of-type {\n        vertical-align: middle;\n    }\n\n    .dataframe tbody tr th {\n        vertical-align: top;\n    }\n\n    .dataframe thead th {\n        text-align: right;\n    }\n</style>\n<table border=\"1\" class=\"dataframe\">\n  <thead>\n    <tr style=\"text-align: right;\">\n      <th></th>\n      <th>GISJOIN</th>\n      <th>YEAR</th>\n      <th>REGIONA</th>\n      <th>DIVISIONA</th>\n      <th>STATE</th>\n      <th>STATEA</th>\n      <th>COUNTY</th>\n      <th>COUNTYA</th>\n      <th>COUSUBA</th>\n      <th>PLACEA</th>\n      <th>...</th>\n      <th>AJYPM016</th>\n      <th>AJYPM017</th>\n      <th>AJYPM018</th>\n      <th>AJYPM019</th>\n      <th>AJYPM020</th>\n      <th>AJYPM021</th>\n      <th>AJYPM022</th>\n      <th>AJYPM023</th>\n      <th>AJYPM024</th>\n      <th>AJYPM025</th>\n    </tr>\n  </thead>\n  <tbody>\n    <tr>\n      <th>0</th>\n      <td>G0100010020100</td>\n      <td>2014-2018</td>\n      <td>NaN</td>\n      <td>NaN</td>\n      <td>Alabama</td>\n      <td>1</td>\n      <td>Autauga County</td>\n      <td>1</td>\n      <td>NaN</td>\n      <td>NaN</td>\n      <td>...</td>\n      <td>12</td>\n      <td>124</td>\n      <td>41</td>\n      <td>23</td>\n      <td>68</td>\n      <td>41</td>\n      <td>103</td>\n      <td>55</td>\n      <td>23</td>\n      <td>16</td>\n    </tr>\n    <tr>\n      <th>1</th>\n      <td>G0100010020200</td>\n      <td>2014-2018</td>\n      <td>NaN</td>\n      <td>NaN</td>\n      <td>Alabama</td>\n      <td>1</td>\n      <td>Autauga County</td>\n      <td>1</td>\n      <td>NaN</td>\n      <td>NaN</td>\n      <td>...</td>\n      <td>30</td>\n      <td>150</td>\n      <td>50</td>\n      <td>47</td>\n      <td>86</td>\n      <td>40</td>\n      <td>72</td>\n      <td>28</td>\n      <td>8</td>\n      <td>10</td>\n    </tr>\n    <tr>\n      <th>2</th>\n      <td>G0100010020300</td>\n      <td>2014-2018</td>\n      <td>NaN</td>\n      <td>NaN</td>\n      <td>Alabama</td>\n      <td>1</td>\n      <td>Autauga County</td>\n      <td>1</td>\n      <td>NaN</td>\n      <td>NaN</td>\n      <td>...</td>\n      <td>34</td>\n      <td>202</td>\n      <td>75</td>\n      <td>73</td>\n      <td>155</td>\n      <td>75</td>\n      <td>109</td>\n      <td>84</td>\n      <td>12</td>\n      <td>32</td>\n    </tr>\n    <tr>\n      <th>3</th>\n      <td>G0100010020400</td>\n      <td>2014-2018</td>\n      <td>NaN</td>\n      <td>NaN</td>\n      <td>Alabama</td>\n      <td>1</td>\n      <td>Autauga County</td>\n      <td>1</td>\n      <td>NaN</td>\n      <td>NaN</td>\n      <td>...</td>\n      <td>29</td>\n      <td>205</td>\n      <td>60</td>\n      <td>82</td>\n      <td>94</td>\n      <td>90</td>\n      <td>149</td>\n      <td>74</td>\n      <td>37</td>\n      <td>40</td>\n    </tr>\n    <tr>\n      <th>4</th>\n      <td>G0100010020500</td>\n      <td>2014-2018</td>\n      <td>NaN</td>\n      <td>NaN</td>\n      <td>Alabama</td>\n      <td>1</td>\n      <td>Autauga County</td>\n      <td>1</td>\n      <td>NaN</td>\n      <td>NaN</td>\n      <td>...</td>\n      <td>77</td>\n      <td>326</td>\n      <td>145</td>\n      <td>139</td>\n      <td>289</td>\n      <td>239</td>\n      <td>364</td>\n      <td>266</td>\n      <td>166</td>\n      <td>153</td>\n    </tr>\n    <tr>\n      <th>...</th>\n      <td>...</td>\n      <td>...</td>\n      <td>...</td>\n      <td>...</td>\n      <td>...</td>\n      <td>...</td>\n      <td>...</td>\n      <td>...</td>\n      <td>...</td>\n      <td>...</td>\n      <td>...</td>\n      <td>...</td>\n      <td>...</td>\n      <td>...</td>\n      <td>...</td>\n      <td>...</td>\n      <td>...</td>\n      <td>...</td>\n      <td>...</td>\n      <td>...</td>\n      <td>...</td>\n    </tr>\n    <tr>\n      <th>73996</th>\n      <td>G7201530750501</td>\n      <td>2014-2018</td>\n      <td>NaN</td>\n      <td>NaN</td>\n      <td>Puerto Rico</td>\n      <td>72</td>\n      <td>Yauco Municipio</td>\n      <td>153</td>\n      <td>NaN</td>\n      <td>NaN</td>\n      <td>...</td>\n      <td>61</td>\n      <td>271</td>\n      <td>116</td>\n      <td>91</td>\n      <td>150</td>\n      <td>104</td>\n      <td>266</td>\n      <td>150</td>\n      <td>59</td>\n      <td>19</td>\n    </tr>\n    <tr>\n      <th>73997</th>\n      <td>G7201530750502</td>\n      <td>2014-2018</td>\n      <td>NaN</td>\n      <td>NaN</td>\n      <td>Puerto Rico</td>\n      <td>72</td>\n      <td>Yauco Municipio</td>\n      <td>153</td>\n      <td>NaN</td>\n      <td>NaN</td>\n      <td>...</td>\n      <td>8</td>\n      <td>70</td>\n      <td>12</td>\n      <td>22</td>\n      <td>71</td>\n      <td>43</td>\n      <td>117</td>\n      <td>58</td>\n      <td>22</td>\n      <td>32</td>\n    </tr>\n    <tr>\n      <th>73998</th>\n      <td>G7201530750503</td>\n      <td>2014-2018</td>\n      <td>NaN</td>\n      <td>NaN</td>\n      <td>Puerto Rico</td>\n      <td>72</td>\n      <td>Yauco Municipio</td>\n      <td>153</td>\n      <td>NaN</td>\n      <td>NaN</td>\n      <td>...</td>\n      <td>17</td>\n      <td>98</td>\n      <td>14</td>\n      <td>12</td>\n      <td>60</td>\n      <td>72</td>\n      <td>183</td>\n      <td>66</td>\n      <td>14</td>\n      <td>20</td>\n    </tr>\n    <tr>\n      <th>73999</th>\n      <td>G7201530750601</td>\n      <td>2014-2018</td>\n      <td>NaN</td>\n      <td>NaN</td>\n      <td>Puerto Rico</td>\n      <td>72</td>\n      <td>Yauco Municipio</td>\n      <td>153</td>\n      <td>NaN</td>\n      <td>NaN</td>\n      <td>...</td>\n      <td>21</td>\n      <td>171</td>\n      <td>48</td>\n      <td>56</td>\n      <td>138</td>\n      <td>145</td>\n      <td>243</td>\n      <td>62</td>\n      <td>57</td>\n      <td>14</td>\n    </tr>\n    <tr>\n      <th>74000</th>\n      <td>G7201530750602</td>\n      <td>2014-2018</td>\n      <td>NaN</td>\n      <td>NaN</td>\n      <td>Puerto Rico</td>\n      <td>72</td>\n      <td>Yauco Municipio</td>\n      <td>153</td>\n      <td>NaN</td>\n      <td>NaN</td>\n      <td>...</td>\n      <td>19</td>\n      <td>340</td>\n      <td>37</td>\n      <td>20</td>\n      <td>27</td>\n      <td>62</td>\n      <td>115</td>\n      <td>39</td>\n      <td>14</td>\n      <td>14</td>\n    </tr>\n  </tbody>\n</table>\n<p>74001 rows × 88 columns</p>\n</div>"
     },
     "metadata": {},
     "execution_count": 117
    }
   ],
   "source": [
    "edudat_2014_2018"
   ]
  },
  {
   "cell_type": "code",
   "execution_count": 118,
   "metadata": {},
   "outputs": [
    {
     "output_type": "execute_result",
     "data": {
      "text/plain": "Index(['GISJOIN', 'YEAR', 'REGIONA', 'DIVISIONA', 'STATE', 'STATEA', 'COUNTY',\n       'COUNTYA', 'COUSUBA', 'PLACEA', 'TRACTA', 'BLKGRPA', 'CONCITA',\n       'AIANHHA', 'RES_ONLYA', 'TRUSTA', 'AITSCEA', 'ANRCA', 'CBSAA', 'CSAA',\n       'METDIVA', 'NECTAA', 'CNECTAA', 'NECTADIVA', 'UAA', 'CDCURRA', 'SLDUA',\n       'SLDLA', 'ZCTA5A', 'SUBMCDA', 'SDELMA', 'SDSECA', 'SDUNIA', 'PUMA5A',\n       'BTTRA', 'BTBGA', 'NAME_E', 'AJYPE001', 'AJYPE002', 'AJYPE003',\n       'AJYPE004', 'AJYPE005', 'AJYPE006', 'AJYPE007', 'AJYPE008', 'AJYPE009',\n       'AJYPE010', 'AJYPE011', 'AJYPE012', 'AJYPE013', 'AJYPE014', 'AJYPE015',\n       'AJYPE016', 'AJYPE017', 'AJYPE018', 'AJYPE019', 'AJYPE020', 'AJYPE021',\n       'AJYPE022', 'AJYPE023', 'AJYPE024', 'AJYPE025', 'NAME_M', 'AJYPM001',\n       'AJYPM002', 'AJYPM003', 'AJYPM004', 'AJYPM005', 'AJYPM006', 'AJYPM007',\n       'AJYPM008', 'AJYPM009', 'AJYPM010', 'AJYPM011', 'AJYPM012', 'AJYPM013',\n       'AJYPM014', 'AJYPM015', 'AJYPM016', 'AJYPM017', 'AJYPM018', 'AJYPM019',\n       'AJYPM020', 'AJYPM021', 'AJYPM022', 'AJYPM023', 'AJYPM024', 'AJYPM025'],\n      dtype='object')"
     },
     "metadata": {},
     "execution_count": 118
    }
   ],
   "source": [
    "edudat_2014_2018.columns"
   ]
  },
  {
   "cell_type": "code",
   "execution_count": 119,
   "metadata": {},
   "outputs": [],
   "source": [
    "edudat_2014_2018.dropna(axis=1, how='all', inplace=True)\n",
    "edudat_2014_2018 = edudat_2014_2018[edudat_2014_2018[\"STATE\"] == \"Illinois\"]\n",
    "edudat_2014_2018 = edudat_2014_2018.reset_index(drop=True)\n",
    "\n",
    "for i in range(edudat_2014_2018.shape[0]):\n",
    "    if edudat_2014_2018.loc[i,\"TRACTA\"] not in tract_list:\n",
    "        edudat_2014_2018.drop(i)"
   ]
  },
  {
   "cell_type": "code",
   "execution_count": 120,
   "metadata": {},
   "outputs": [
    {
     "output_type": "execute_result",
     "data": {
      "text/plain": "             GISJOIN       YEAR     STATE  STATEA           COUNTY  COUNTYA  \\\n0     G1700010000100  2014-2018  Illinois      17     Adams County        1   \n1     G1700010000201  2014-2018  Illinois      17     Adams County        1   \n2     G1700010000202  2014-2018  Illinois      17     Adams County        1   \n3     G1700010000400  2014-2018  Illinois      17     Adams County        1   \n4     G1700010000500  2014-2018  Illinois      17     Adams County        1   \n...              ...        ...       ...     ...              ...      ...   \n3118  G1702030030501  2014-2018  Illinois      17  Woodford County      203   \n3119  G1702030030502  2014-2018  Illinois      17  Woodford County      203   \n3120  G1702030030601  2014-2018  Illinois      17  Woodford County      203   \n3121  G1702030030602  2014-2018  Illinois      17  Woodford County      203   \n3122  G1702030030700  2014-2018  Illinois      17  Woodford County      203   \n\n      TRACTA                                          NAME_E  AJYPE001  \\\n0        100          Census Tract 1, Adams County, Illinois      3218   \n1        201       Census Tract 2.01, Adams County, Illinois      1381   \n2        202       Census Tract 2.02, Adams County, Illinois      1503   \n3        400          Census Tract 4, Adams County, Illinois      2477   \n4        500          Census Tract 5, Adams County, Illinois      1411   \n...      ...                                             ...       ...   \n3118   30501  Census Tract 305.01, Woodford County, Illinois      5235   \n3119   30502  Census Tract 305.02, Woodford County, Illinois      1865   \n3120   30601  Census Tract 306.01, Woodford County, Illinois      4323   \n3121   30602  Census Tract 306.02, Woodford County, Illinois      2290   \n3122   30700     Census Tract 307, Woodford County, Illinois      2889   \n\n      AJYPE002  ...  AJYPM016  AJYPM017  AJYPM018  AJYPM019  AJYPM020  \\\n0           21  ...        39       218       108       111       174   \n1            3  ...        15        76        35        64        70   \n2            0  ...        15       121        67        62        88   \n3           52  ...        60       148       130        76       142   \n4           37  ...        27       108        39        56        82   \n...        ...  ...       ...       ...       ...       ...       ...   \n3118         0  ...        52       197        75        82       145   \n3119         2  ...        21       153        40        39        71   \n3120         0  ...        15       276        49        91       171   \n3121         0  ...        12       138        32        36        75   \n3122         3  ...        28       124        51        57       100   \n\n      AJYPM021  AJYPM022  AJYPM023  AJYPM024  AJYPM025  \n0           98       141        72        33        17  \n1           53        76        45         9         9  \n2           63        82        48        32        11  \n3          104        77        45        17        12  \n4           37        46        27        11        11  \n...        ...       ...       ...       ...       ...  \n3118       163       249       192        68        78  \n3119        62        71        15         8        11  \n3120       115       205       195        15        42  \n3121        69        71        87        18        20  \n3122        69       104        26        14        20  \n\n[3123 rows x 59 columns]",
      "text/html": "<div>\n<style scoped>\n    .dataframe tbody tr th:only-of-type {\n        vertical-align: middle;\n    }\n\n    .dataframe tbody tr th {\n        vertical-align: top;\n    }\n\n    .dataframe thead th {\n        text-align: right;\n    }\n</style>\n<table border=\"1\" class=\"dataframe\">\n  <thead>\n    <tr style=\"text-align: right;\">\n      <th></th>\n      <th>GISJOIN</th>\n      <th>YEAR</th>\n      <th>STATE</th>\n      <th>STATEA</th>\n      <th>COUNTY</th>\n      <th>COUNTYA</th>\n      <th>TRACTA</th>\n      <th>NAME_E</th>\n      <th>AJYPE001</th>\n      <th>AJYPE002</th>\n      <th>...</th>\n      <th>AJYPM016</th>\n      <th>AJYPM017</th>\n      <th>AJYPM018</th>\n      <th>AJYPM019</th>\n      <th>AJYPM020</th>\n      <th>AJYPM021</th>\n      <th>AJYPM022</th>\n      <th>AJYPM023</th>\n      <th>AJYPM024</th>\n      <th>AJYPM025</th>\n    </tr>\n  </thead>\n  <tbody>\n    <tr>\n      <th>0</th>\n      <td>G1700010000100</td>\n      <td>2014-2018</td>\n      <td>Illinois</td>\n      <td>17</td>\n      <td>Adams County</td>\n      <td>1</td>\n      <td>100</td>\n      <td>Census Tract 1, Adams County, Illinois</td>\n      <td>3218</td>\n      <td>21</td>\n      <td>...</td>\n      <td>39</td>\n      <td>218</td>\n      <td>108</td>\n      <td>111</td>\n      <td>174</td>\n      <td>98</td>\n      <td>141</td>\n      <td>72</td>\n      <td>33</td>\n      <td>17</td>\n    </tr>\n    <tr>\n      <th>1</th>\n      <td>G1700010000201</td>\n      <td>2014-2018</td>\n      <td>Illinois</td>\n      <td>17</td>\n      <td>Adams County</td>\n      <td>1</td>\n      <td>201</td>\n      <td>Census Tract 2.01, Adams County, Illinois</td>\n      <td>1381</td>\n      <td>3</td>\n      <td>...</td>\n      <td>15</td>\n      <td>76</td>\n      <td>35</td>\n      <td>64</td>\n      <td>70</td>\n      <td>53</td>\n      <td>76</td>\n      <td>45</td>\n      <td>9</td>\n      <td>9</td>\n    </tr>\n    <tr>\n      <th>2</th>\n      <td>G1700010000202</td>\n      <td>2014-2018</td>\n      <td>Illinois</td>\n      <td>17</td>\n      <td>Adams County</td>\n      <td>1</td>\n      <td>202</td>\n      <td>Census Tract 2.02, Adams County, Illinois</td>\n      <td>1503</td>\n      <td>0</td>\n      <td>...</td>\n      <td>15</td>\n      <td>121</td>\n      <td>67</td>\n      <td>62</td>\n      <td>88</td>\n      <td>63</td>\n      <td>82</td>\n      <td>48</td>\n      <td>32</td>\n      <td>11</td>\n    </tr>\n    <tr>\n      <th>3</th>\n      <td>G1700010000400</td>\n      <td>2014-2018</td>\n      <td>Illinois</td>\n      <td>17</td>\n      <td>Adams County</td>\n      <td>1</td>\n      <td>400</td>\n      <td>Census Tract 4, Adams County, Illinois</td>\n      <td>2477</td>\n      <td>52</td>\n      <td>...</td>\n      <td>60</td>\n      <td>148</td>\n      <td>130</td>\n      <td>76</td>\n      <td>142</td>\n      <td>104</td>\n      <td>77</td>\n      <td>45</td>\n      <td>17</td>\n      <td>12</td>\n    </tr>\n    <tr>\n      <th>4</th>\n      <td>G1700010000500</td>\n      <td>2014-2018</td>\n      <td>Illinois</td>\n      <td>17</td>\n      <td>Adams County</td>\n      <td>1</td>\n      <td>500</td>\n      <td>Census Tract 5, Adams County, Illinois</td>\n      <td>1411</td>\n      <td>37</td>\n      <td>...</td>\n      <td>27</td>\n      <td>108</td>\n      <td>39</td>\n      <td>56</td>\n      <td>82</td>\n      <td>37</td>\n      <td>46</td>\n      <td>27</td>\n      <td>11</td>\n      <td>11</td>\n    </tr>\n    <tr>\n      <th>...</th>\n      <td>...</td>\n      <td>...</td>\n      <td>...</td>\n      <td>...</td>\n      <td>...</td>\n      <td>...</td>\n      <td>...</td>\n      <td>...</td>\n      <td>...</td>\n      <td>...</td>\n      <td>...</td>\n      <td>...</td>\n      <td>...</td>\n      <td>...</td>\n      <td>...</td>\n      <td>...</td>\n      <td>...</td>\n      <td>...</td>\n      <td>...</td>\n      <td>...</td>\n      <td>...</td>\n    </tr>\n    <tr>\n      <th>3118</th>\n      <td>G1702030030501</td>\n      <td>2014-2018</td>\n      <td>Illinois</td>\n      <td>17</td>\n      <td>Woodford County</td>\n      <td>203</td>\n      <td>30501</td>\n      <td>Census Tract 305.01, Woodford County, Illinois</td>\n      <td>5235</td>\n      <td>0</td>\n      <td>...</td>\n      <td>52</td>\n      <td>197</td>\n      <td>75</td>\n      <td>82</td>\n      <td>145</td>\n      <td>163</td>\n      <td>249</td>\n      <td>192</td>\n      <td>68</td>\n      <td>78</td>\n    </tr>\n    <tr>\n      <th>3119</th>\n      <td>G1702030030502</td>\n      <td>2014-2018</td>\n      <td>Illinois</td>\n      <td>17</td>\n      <td>Woodford County</td>\n      <td>203</td>\n      <td>30502</td>\n      <td>Census Tract 305.02, Woodford County, Illinois</td>\n      <td>1865</td>\n      <td>2</td>\n      <td>...</td>\n      <td>21</td>\n      <td>153</td>\n      <td>40</td>\n      <td>39</td>\n      <td>71</td>\n      <td>62</td>\n      <td>71</td>\n      <td>15</td>\n      <td>8</td>\n      <td>11</td>\n    </tr>\n    <tr>\n      <th>3120</th>\n      <td>G1702030030601</td>\n      <td>2014-2018</td>\n      <td>Illinois</td>\n      <td>17</td>\n      <td>Woodford County</td>\n      <td>203</td>\n      <td>30601</td>\n      <td>Census Tract 306.01, Woodford County, Illinois</td>\n      <td>4323</td>\n      <td>0</td>\n      <td>...</td>\n      <td>15</td>\n      <td>276</td>\n      <td>49</td>\n      <td>91</td>\n      <td>171</td>\n      <td>115</td>\n      <td>205</td>\n      <td>195</td>\n      <td>15</td>\n      <td>42</td>\n    </tr>\n    <tr>\n      <th>3121</th>\n      <td>G1702030030602</td>\n      <td>2014-2018</td>\n      <td>Illinois</td>\n      <td>17</td>\n      <td>Woodford County</td>\n      <td>203</td>\n      <td>30602</td>\n      <td>Census Tract 306.02, Woodford County, Illinois</td>\n      <td>2290</td>\n      <td>0</td>\n      <td>...</td>\n      <td>12</td>\n      <td>138</td>\n      <td>32</td>\n      <td>36</td>\n      <td>75</td>\n      <td>69</td>\n      <td>71</td>\n      <td>87</td>\n      <td>18</td>\n      <td>20</td>\n    </tr>\n    <tr>\n      <th>3122</th>\n      <td>G1702030030700</td>\n      <td>2014-2018</td>\n      <td>Illinois</td>\n      <td>17</td>\n      <td>Woodford County</td>\n      <td>203</td>\n      <td>30700</td>\n      <td>Census Tract 307, Woodford County, Illinois</td>\n      <td>2889</td>\n      <td>3</td>\n      <td>...</td>\n      <td>28</td>\n      <td>124</td>\n      <td>51</td>\n      <td>57</td>\n      <td>100</td>\n      <td>69</td>\n      <td>104</td>\n      <td>26</td>\n      <td>14</td>\n      <td>20</td>\n    </tr>\n  </tbody>\n</table>\n<p>3123 rows × 59 columns</p>\n</div>"
     },
     "metadata": {},
     "execution_count": 120
    }
   ],
   "source": [
    "edudat_2014_2018"
   ]
  },
  {
   "cell_type": "code",
   "execution_count": 121,
   "metadata": {},
   "outputs": [],
   "source": [
    "column_dict_2014_2018 = {\"GISJOIN\":     \"GIS Join Match Code\",\n",
    "        \"YEAR\":        \"Data File Year\",\n",
    "        \"REGIONA\":     \"Region Code\",\n",
    "        \"DIVISIONA\":   \"Division Code\",\n",
    "        \"STATE\":       \"State Name\",\n",
    "        \"STATEA\":      \"State Code\",\n",
    "        \"COUNTY\":      \"County Name\",\n",
    "        \"COUNTYA\":     \"County Code\",\n",
    "        \"COUSUBA\":     \"County Subdivision Code\",\n",
    "        \"PLACEA\":      \"Place Code\",\n",
    "        \"TRACTA\":      \"Census Tract Code\",\n",
    "        \"BLKGRPA\":     \"Block Group Code\",\n",
    "        \"CONCITA\":     \"Consolidated City Code\",\n",
    "        \"AIANHHA\":     \"American Indian Area/Alaska Native Area/Hawaiian Home Land Code\",\n",
    "        \"RES_ONLYA\":   \"American Indian Area/Alaska Native Area (Reservation or Statistical Entity Only) Code\",\n",
    "        \"TRUSTA\":      \"American Indian Area (Off-Reservation Trust Land Only)/Hawaiian Home Land Code\",\n",
    "        \"AITSCEA\":     \"Tribal Subdivision/Remainder Code\",\n",
    "        \"ANRCA\":       \"Alaska Native Regional Corporation Code\",\n",
    "        \"CBSAA\":       \"Metropolitan Statistical Area/Micropolitan Statistical Area Code\",\n",
    "        \"CSAA\":        \"Combined Statistical Area Code\",\n",
    "        \"METDIVA\":     \"Metropolitan Division Code\",\n",
    "        \"NECTAA\":      \"New England City and Town Area Code\",\n",
    "        \"CNECTAA\":     \"Combined New England City and Town Area Code\",\n",
    "        \"NECTADIVA\":   \"New England City and Town Area Division Code\",\n",
    "        \"UAA\":         \"Urban Area Code\",\n",
    "        \"CDCURRA\":     \"Congressional District (2019-2021, 116th Congress) Code\",\n",
    "        \"SLDUA\":       \"State Legislative District (Upper Chamber) Code\",\n",
    "        \"SLDLA\":       \"State Legislative District (Lower Chamber) Code\",\n",
    "        \"ZCTA5A\":      \"5-Digit ZIP Code Tabulation Area Code\",\n",
    "        \"SUBMCDA\":     \"Subminor Civil Division Code\",\n",
    "        \"SDELMA\":      \"School District (Elementary)/Remainder Code\",\n",
    "        \"SDSECA\":      \"School District (Secondary)/Remainder Code\",\n",
    "        \"SDUNIA\":      \"School District (Unified)/Remainder Code\",\n",
    "        \"PUMA5A\":      \"Public Use Microdata Sample Area (PUMA) Code\",\n",
    "        \"BTTRA\":       \"Tribal Census Tract Code\",\n",
    "        \"BTBGA\":       \"Tribal Block Group Code\",\n",
    "        \"NAME_E\":      \"Area Name (Estimate)\",\n",
    "        \"AJYPE001\":    \"Total (Estimate)\",\n",
    "        \"AJYPE002\":    \"No schooling completed (Estimate)\",\n",
    "        \"AJYPE003\":    \"Nursery school (Estimate)\",\n",
    "        \"AJYPE004\":    \"Kindergarten (Estimate)\",\n",
    "        \"AJYPE005\":    \"1st grade (Estimate)\",\n",
    "        \"AJYPE006\":    \"2nd grade (Estimate)\",\n",
    "        \"AJYPE007\":    \"3rd grade (Estimate)\",\n",
    "        \"AJYPE008\":    \"4th grade (Estimate)\",\n",
    "        \"AJYPE009\":    \"5th grade (Estimate)\",\n",
    "        \"AJYPE010\":    \"6th grade (Estimate)\",\n",
    "        \"AJYPE011\":    \"7th grade (Estimate)\",\n",
    "        \"AJYPE012\":    \"8th grade (Estimate)\",\n",
    "        \"AJYPE013\":    \"9th grade (Estimate)\",\n",
    "        \"AJYPE014\":    \"10th grade (Estimate)\",\n",
    "        \"AJYPE015\":    \"11th grade (Estimate)\",\n",
    "        \"AJYPE016\":    \"12th grade, no diploma (Estimate)\",\n",
    "        \"AJYPE017\":    \"Regular high school diploma (Estimate)\",\n",
    "        \"AJYPE018\":    \"GED or alternative credential (Estimate)\",\n",
    "        \"AJYPE019\":    \"Some college, less than 1 year (Estimate)\",\n",
    "        \"AJYPE020\":    \"Some college, 1 or more years, no degree (Estimate)\",\n",
    "        \"AJYPE021\":    \"Associate's degree (Estimate)\",\n",
    "        \"AJYPE022\":    \"Bachelor's degree (Estimate)\",\n",
    "        \"AJYPE023\":    \"Master's degree (Estimate)\",\n",
    "        \"AJYPE024\":    \"Professional school degree (Estimate)\",\n",
    "        \"AJYPE025\":    \"Doctorate degree (Estimate)\",\n",
    "        \"NAME_M\":      \"Area Name (Margin of Error)\",\n",
    "        \"AJYPM001\":    \"Total (Margin of Error)\",\n",
    "        \"AJYPM002\":    \"No schooling completed (Margin of Error)\",\n",
    "        \"AJYPM003\":    \"Nursery school (Margin of Error)\",\n",
    "        \"AJYPM004\":    \"Kindergarten (Margin of Error)\",\n",
    "        \"AJYPM005\":    \"1st grade (Margin of Error)\",\n",
    "        \"AJYPM006\":    \"2nd grade (Margin of Error)\",\n",
    "        \"AJYPM007\":    \"3rd grade (Margin of Error)\",\n",
    "        \"AJYPM008\":    \"4th grade (Margin of Error)\",\n",
    "        \"AJYPM009\":    \"5th grade (Margin of Error)\",\n",
    "        \"AJYPM010\":    \"6th grade (Margin of Error)\",\n",
    "        \"AJYPM011\":    \"7th grade (Margin of Error)\",\n",
    "        \"AJYPM012\":    \"8th grade (Margin of Error)\",\n",
    "        \"AJYPM013\":    \"9th grade (Margin of Error)\",\n",
    "        \"AJYPM014\":    \"10th grade (Margin of Error)\",\n",
    "        \"AJYPM015\":    \"11th grade (Margin of Error)\",\n",
    "        \"AJYPM016\":    \"12th grade, no diploma (Margin of Error)\",\n",
    "        \"AJYPM017\":    \"Regular high school diploma (Margin of Error)\",\n",
    "        \"AJYPM018\":    \"GED or alternative credential (Margin of Error)\",\n",
    "        \"AJYPM019\":    \"Some college, less than 1 year (Margin of Error)\",\n",
    "        \"AJYPM020\":    \"Some college, 1 or more years, no degree (Margin of Error)\",\n",
    "        \"AJYPM021\":    \"Associate's degree (Margin of Error)\",\n",
    "        \"AJYPM022\":    \"Bachelor's degree (Margin of Error)\",\n",
    "        \"AJYPM023\":    \"Master's degree (Margin of Error)\",\n",
    "        \"AJYPM024\":    \"Professional school degree (Margin of Error)\",\n",
    "        \"AJYPM025\":    \"Doctorate degree (Margin of Error)\"\n",
    "}"
   ]
  },
  {
   "cell_type": "code",
   "execution_count": 122,
   "metadata": {},
   "outputs": [],
   "source": [
    "col_names = []\n",
    "for i in edudat_2014_2018:\n",
    "    col_names.append(i)"
   ]
  },
  {
   "cell_type": "code",
   "execution_count": 123,
   "metadata": {},
   "outputs": [],
   "source": [
    "for i in range(len(col_names)):\n",
    "    col_names[i] = column_dict_2014_2018[col_names[i]]\n",
    "edudat_2014_2018.columns = col_names"
   ]
  },
  {
   "cell_type": "code",
   "execution_count": 124,
   "metadata": {},
   "outputs": [
    {
     "output_type": "execute_result",
     "data": {
      "text/plain": "     GIS Join Match Code Data File Year State Name  State Code  \\\n0         G1700010000100      2014-2018   Illinois          17   \n1         G1700010000201      2014-2018   Illinois          17   \n2         G1700010000202      2014-2018   Illinois          17   \n3         G1700010000400      2014-2018   Illinois          17   \n4         G1700010000500      2014-2018   Illinois          17   \n...                  ...            ...        ...         ...   \n3118      G1702030030501      2014-2018   Illinois          17   \n3119      G1702030030502      2014-2018   Illinois          17   \n3120      G1702030030601      2014-2018   Illinois          17   \n3121      G1702030030602      2014-2018   Illinois          17   \n3122      G1702030030700      2014-2018   Illinois          17   \n\n          County Name  County Code  Census Tract Code  \\\n0        Adams County            1                100   \n1        Adams County            1                201   \n2        Adams County            1                202   \n3        Adams County            1                400   \n4        Adams County            1                500   \n...               ...          ...                ...   \n3118  Woodford County          203              30501   \n3119  Woodford County          203              30502   \n3120  Woodford County          203              30601   \n3121  Woodford County          203              30602   \n3122  Woodford County          203              30700   \n\n                                Area Name (Estimate)  Total (Estimate)  \\\n0             Census Tract 1, Adams County, Illinois              3218   \n1          Census Tract 2.01, Adams County, Illinois              1381   \n2          Census Tract 2.02, Adams County, Illinois              1503   \n3             Census Tract 4, Adams County, Illinois              2477   \n4             Census Tract 5, Adams County, Illinois              1411   \n...                                              ...               ...   \n3118  Census Tract 305.01, Woodford County, Illinois              5235   \n3119  Census Tract 305.02, Woodford County, Illinois              1865   \n3120  Census Tract 306.01, Woodford County, Illinois              4323   \n3121  Census Tract 306.02, Woodford County, Illinois              2290   \n3122     Census Tract 307, Woodford County, Illinois              2889   \n\n      No schooling completed (Estimate)  ...  \\\n0                                    21  ...   \n1                                     3  ...   \n2                                     0  ...   \n3                                    52  ...   \n4                                    37  ...   \n...                                 ...  ...   \n3118                                  0  ...   \n3119                                  2  ...   \n3120                                  0  ...   \n3121                                  0  ...   \n3122                                  3  ...   \n\n      12th grade, no diploma (Margin of Error)  \\\n0                                           39   \n1                                           15   \n2                                           15   \n3                                           60   \n4                                           27   \n...                                        ...   \n3118                                        52   \n3119                                        21   \n3120                                        15   \n3121                                        12   \n3122                                        28   \n\n      Regular high school diploma (Margin of Error)  \\\n0                                               218   \n1                                                76   \n2                                               121   \n3                                               148   \n4                                               108   \n...                                             ...   \n3118                                            197   \n3119                                            153   \n3120                                            276   \n3121                                            138   \n3122                                            124   \n\n      GED or alternative credential (Margin of Error)  \\\n0                                                 108   \n1                                                  35   \n2                                                  67   \n3                                                 130   \n4                                                  39   \n...                                               ...   \n3118                                               75   \n3119                                               40   \n3120                                               49   \n3121                                               32   \n3122                                               51   \n\n      Some college, less than 1 year (Margin of Error)  \\\n0                                                  111   \n1                                                   64   \n2                                                   62   \n3                                                   76   \n4                                                   56   \n...                                                ...   \n3118                                                82   \n3119                                                39   \n3120                                                91   \n3121                                                36   \n3122                                                57   \n\n      Some college, 1 or more years, no degree (Margin of Error)  \\\n0                                                   174            \n1                                                    70            \n2                                                    88            \n3                                                   142            \n4                                                    82            \n...                                                 ...            \n3118                                                145            \n3119                                                 71            \n3120                                                171            \n3121                                                 75            \n3122                                                100            \n\n      Associate's degree (Margin of Error)  \\\n0                                       98   \n1                                       53   \n2                                       63   \n3                                      104   \n4                                       37   \n...                                    ...   \n3118                                   163   \n3119                                    62   \n3120                                   115   \n3121                                    69   \n3122                                    69   \n\n      Bachelor's degree (Margin of Error)  Master's degree (Margin of Error)  \\\n0                                     141                                 72   \n1                                      76                                 45   \n2                                      82                                 48   \n3                                      77                                 45   \n4                                      46                                 27   \n...                                   ...                                ...   \n3118                                  249                                192   \n3119                                   71                                 15   \n3120                                  205                                195   \n3121                                   71                                 87   \n3122                                  104                                 26   \n\n      Professional school degree (Margin of Error)  \\\n0                                               33   \n1                                                9   \n2                                               32   \n3                                               17   \n4                                               11   \n...                                            ...   \n3118                                            68   \n3119                                             8   \n3120                                            15   \n3121                                            18   \n3122                                            14   \n\n      Doctorate degree (Margin of Error)  \n0                                     17  \n1                                      9  \n2                                     11  \n3                                     12  \n4                                     11  \n...                                  ...  \n3118                                  78  \n3119                                  11  \n3120                                  42  \n3121                                  20  \n3122                                  20  \n\n[3123 rows x 59 columns]",
      "text/html": "<div>\n<style scoped>\n    .dataframe tbody tr th:only-of-type {\n        vertical-align: middle;\n    }\n\n    .dataframe tbody tr th {\n        vertical-align: top;\n    }\n\n    .dataframe thead th {\n        text-align: right;\n    }\n</style>\n<table border=\"1\" class=\"dataframe\">\n  <thead>\n    <tr style=\"text-align: right;\">\n      <th></th>\n      <th>GIS Join Match Code</th>\n      <th>Data File Year</th>\n      <th>State Name</th>\n      <th>State Code</th>\n      <th>County Name</th>\n      <th>County Code</th>\n      <th>Census Tract Code</th>\n      <th>Area Name (Estimate)</th>\n      <th>Total (Estimate)</th>\n      <th>No schooling completed (Estimate)</th>\n      <th>...</th>\n      <th>12th grade, no diploma (Margin of Error)</th>\n      <th>Regular high school diploma (Margin of Error)</th>\n      <th>GED or alternative credential (Margin of Error)</th>\n      <th>Some college, less than 1 year (Margin of Error)</th>\n      <th>Some college, 1 or more years, no degree (Margin of Error)</th>\n      <th>Associate's degree (Margin of Error)</th>\n      <th>Bachelor's degree (Margin of Error)</th>\n      <th>Master's degree (Margin of Error)</th>\n      <th>Professional school degree (Margin of Error)</th>\n      <th>Doctorate degree (Margin of Error)</th>\n    </tr>\n  </thead>\n  <tbody>\n    <tr>\n      <th>0</th>\n      <td>G1700010000100</td>\n      <td>2014-2018</td>\n      <td>Illinois</td>\n      <td>17</td>\n      <td>Adams County</td>\n      <td>1</td>\n      <td>100</td>\n      <td>Census Tract 1, Adams County, Illinois</td>\n      <td>3218</td>\n      <td>21</td>\n      <td>...</td>\n      <td>39</td>\n      <td>218</td>\n      <td>108</td>\n      <td>111</td>\n      <td>174</td>\n      <td>98</td>\n      <td>141</td>\n      <td>72</td>\n      <td>33</td>\n      <td>17</td>\n    </tr>\n    <tr>\n      <th>1</th>\n      <td>G1700010000201</td>\n      <td>2014-2018</td>\n      <td>Illinois</td>\n      <td>17</td>\n      <td>Adams County</td>\n      <td>1</td>\n      <td>201</td>\n      <td>Census Tract 2.01, Adams County, Illinois</td>\n      <td>1381</td>\n      <td>3</td>\n      <td>...</td>\n      <td>15</td>\n      <td>76</td>\n      <td>35</td>\n      <td>64</td>\n      <td>70</td>\n      <td>53</td>\n      <td>76</td>\n      <td>45</td>\n      <td>9</td>\n      <td>9</td>\n    </tr>\n    <tr>\n      <th>2</th>\n      <td>G1700010000202</td>\n      <td>2014-2018</td>\n      <td>Illinois</td>\n      <td>17</td>\n      <td>Adams County</td>\n      <td>1</td>\n      <td>202</td>\n      <td>Census Tract 2.02, Adams County, Illinois</td>\n      <td>1503</td>\n      <td>0</td>\n      <td>...</td>\n      <td>15</td>\n      <td>121</td>\n      <td>67</td>\n      <td>62</td>\n      <td>88</td>\n      <td>63</td>\n      <td>82</td>\n      <td>48</td>\n      <td>32</td>\n      <td>11</td>\n    </tr>\n    <tr>\n      <th>3</th>\n      <td>G1700010000400</td>\n      <td>2014-2018</td>\n      <td>Illinois</td>\n      <td>17</td>\n      <td>Adams County</td>\n      <td>1</td>\n      <td>400</td>\n      <td>Census Tract 4, Adams County, Illinois</td>\n      <td>2477</td>\n      <td>52</td>\n      <td>...</td>\n      <td>60</td>\n      <td>148</td>\n      <td>130</td>\n      <td>76</td>\n      <td>142</td>\n      <td>104</td>\n      <td>77</td>\n      <td>45</td>\n      <td>17</td>\n      <td>12</td>\n    </tr>\n    <tr>\n      <th>4</th>\n      <td>G1700010000500</td>\n      <td>2014-2018</td>\n      <td>Illinois</td>\n      <td>17</td>\n      <td>Adams County</td>\n      <td>1</td>\n      <td>500</td>\n      <td>Census Tract 5, Adams County, Illinois</td>\n      <td>1411</td>\n      <td>37</td>\n      <td>...</td>\n      <td>27</td>\n      <td>108</td>\n      <td>39</td>\n      <td>56</td>\n      <td>82</td>\n      <td>37</td>\n      <td>46</td>\n      <td>27</td>\n      <td>11</td>\n      <td>11</td>\n    </tr>\n    <tr>\n      <th>...</th>\n      <td>...</td>\n      <td>...</td>\n      <td>...</td>\n      <td>...</td>\n      <td>...</td>\n      <td>...</td>\n      <td>...</td>\n      <td>...</td>\n      <td>...</td>\n      <td>...</td>\n      <td>...</td>\n      <td>...</td>\n      <td>...</td>\n      <td>...</td>\n      <td>...</td>\n      <td>...</td>\n      <td>...</td>\n      <td>...</td>\n      <td>...</td>\n      <td>...</td>\n      <td>...</td>\n    </tr>\n    <tr>\n      <th>3118</th>\n      <td>G1702030030501</td>\n      <td>2014-2018</td>\n      <td>Illinois</td>\n      <td>17</td>\n      <td>Woodford County</td>\n      <td>203</td>\n      <td>30501</td>\n      <td>Census Tract 305.01, Woodford County, Illinois</td>\n      <td>5235</td>\n      <td>0</td>\n      <td>...</td>\n      <td>52</td>\n      <td>197</td>\n      <td>75</td>\n      <td>82</td>\n      <td>145</td>\n      <td>163</td>\n      <td>249</td>\n      <td>192</td>\n      <td>68</td>\n      <td>78</td>\n    </tr>\n    <tr>\n      <th>3119</th>\n      <td>G1702030030502</td>\n      <td>2014-2018</td>\n      <td>Illinois</td>\n      <td>17</td>\n      <td>Woodford County</td>\n      <td>203</td>\n      <td>30502</td>\n      <td>Census Tract 305.02, Woodford County, Illinois</td>\n      <td>1865</td>\n      <td>2</td>\n      <td>...</td>\n      <td>21</td>\n      <td>153</td>\n      <td>40</td>\n      <td>39</td>\n      <td>71</td>\n      <td>62</td>\n      <td>71</td>\n      <td>15</td>\n      <td>8</td>\n      <td>11</td>\n    </tr>\n    <tr>\n      <th>3120</th>\n      <td>G1702030030601</td>\n      <td>2014-2018</td>\n      <td>Illinois</td>\n      <td>17</td>\n      <td>Woodford County</td>\n      <td>203</td>\n      <td>30601</td>\n      <td>Census Tract 306.01, Woodford County, Illinois</td>\n      <td>4323</td>\n      <td>0</td>\n      <td>...</td>\n      <td>15</td>\n      <td>276</td>\n      <td>49</td>\n      <td>91</td>\n      <td>171</td>\n      <td>115</td>\n      <td>205</td>\n      <td>195</td>\n      <td>15</td>\n      <td>42</td>\n    </tr>\n    <tr>\n      <th>3121</th>\n      <td>G1702030030602</td>\n      <td>2014-2018</td>\n      <td>Illinois</td>\n      <td>17</td>\n      <td>Woodford County</td>\n      <td>203</td>\n      <td>30602</td>\n      <td>Census Tract 306.02, Woodford County, Illinois</td>\n      <td>2290</td>\n      <td>0</td>\n      <td>...</td>\n      <td>12</td>\n      <td>138</td>\n      <td>32</td>\n      <td>36</td>\n      <td>75</td>\n      <td>69</td>\n      <td>71</td>\n      <td>87</td>\n      <td>18</td>\n      <td>20</td>\n    </tr>\n    <tr>\n      <th>3122</th>\n      <td>G1702030030700</td>\n      <td>2014-2018</td>\n      <td>Illinois</td>\n      <td>17</td>\n      <td>Woodford County</td>\n      <td>203</td>\n      <td>30700</td>\n      <td>Census Tract 307, Woodford County, Illinois</td>\n      <td>2889</td>\n      <td>3</td>\n      <td>...</td>\n      <td>28</td>\n      <td>124</td>\n      <td>51</td>\n      <td>57</td>\n      <td>100</td>\n      <td>69</td>\n      <td>104</td>\n      <td>26</td>\n      <td>14</td>\n      <td>20</td>\n    </tr>\n  </tbody>\n</table>\n<p>3123 rows × 59 columns</p>\n</div>"
     },
     "metadata": {},
     "execution_count": 124
    }
   ],
   "source": [
    "edudat_2014_2018"
   ]
  },
  {
   "cell_type": "code",
   "execution_count": 125,
   "metadata": {},
   "outputs": [
    {
     "output_type": "execute_result",
     "data": {
      "text/plain": "Index(['GIS Join Match Code', 'Data File Year', 'State Postal Abbreviation',\n       'State Name', 'State Code', 'County Name', 'County Code',\n       'Census Tract Code', 'Census Geographic Identifier',\n       'Area Name (Estimate)', 'Total (Estimate)',\n       'No schooling completed (Estimate)', 'Nursery school (Estimate)',\n       'Kindergarten (Estimate)', '1st grade (Estimate)',\n       '2nd grade (Estimate)', '3rd grade (Estimate)', '4th grade (Estimate)',\n       '5th grade (Estimate)', '6th grade (Estimate)', '7th grade (Estimate)',\n       '8th grade (Estimate)', '9th grade (Estimate)', '10th grade (Estimate)',\n       '11th grade (Estimate)', '12th grade, no diploma (Estimate)',\n       'Regular high school diploma (Estimate)',\n       'GED or alternative credential (Estimate)',\n       'Some college, less than 1 year (Estimate)',\n       'Some college, 1 or more years, no degree (Estimate)',\n       'Associate's degree (Estimate)', 'Bachelor's degree (Estimate)',\n       'Master's degree (Estimate)', 'Professional school degree (Estimate)',\n       'Doctorate degree (Estimate)', 'Area Name (Margin of Error)',\n       'Total (Margin of Error)', 'No schooling completed (Margin of Error)',\n       'Nursery school (Margin of Error)', 'Kindergarten (Margin of Error)',\n       '1st grade (Margin of Error)', '2nd grade (Margin of Error)',\n       '3rd grade (Margin of Error)', '4th grade (Margin of Error)',\n       '5th grade (Margin of Error)', '6th grade (Margin of Error)',\n       '7th grade (Margin of Error)', '8th grade (Margin of Error)',\n       '9th grade (Margin of Error)', '10th grade (Margin of Error)',\n       '11th grade (Margin of Error)',\n       '12th grade, no diploma (Margin of Error)',\n       'Regular high school diploma (Margin of Error)',\n       'GED or alternative credential (Margin of Error)',\n       'Some college, less than 1 year (Margin of Error)',\n       'Some college, 1 or more years, no degree (Margin of Error)',\n       'Associate's degree (Margin of Error)',\n       'Bachelor's degree (Margin of Error)',\n       'Master's degree (Margin of Error)',\n       'Professional school degree (Margin of Error)',\n       'Doctorate degree (Margin of Error)'],\n      dtype='object')"
     },
     "metadata": {},
     "execution_count": 125
    }
   ],
   "source": [
    "edudat_2015_2019.columns"
   ]
  },
  {
   "cell_type": "code",
   "execution_count": 126,
   "metadata": {
    "tags": []
   },
   "outputs": [],
   "source": [
    "for i in edudat_2014_2018.columns:\n",
    "    if i not in edudat_2015_2019.columns:\n",
    "        print(i)"
   ]
  },
  {
   "cell_type": "code",
   "execution_count": 127,
   "metadata": {
    "tags": []
   },
   "outputs": [
    {
     "output_type": "stream",
     "name": "stdout",
     "text": "State Postal Abbreviation\nCensus Geographic Identifier\n"
    }
   ],
   "source": [
    "for i in edudat_2015_2019.columns:\n",
    "    if i not in edudat_2014_2018.columns:\n",
    "        print(i)"
   ]
  },
  {
   "cell_type": "code",
   "execution_count": 138,
   "metadata": {},
   "outputs": [
    {
     "output_type": "execute_result",
     "data": {
      "text/plain": "     GIS Join Match Code Data File Year State Name  State Code  \\\n0         G1700010000100      2015-2019   Illinois          17   \n1         G1700010000201      2015-2019   Illinois          17   \n2         G1700010000202      2015-2019   Illinois          17   \n3         G1700010000400      2015-2019   Illinois          17   \n4         G1700010000500      2015-2019   Illinois          17   \n...                  ...            ...        ...         ...   \n3118      G1702030030501      2015-2019   Illinois          17   \n3119      G1702030030502      2015-2019   Illinois          17   \n3120      G1702030030601      2015-2019   Illinois          17   \n3121      G1702030030602      2015-2019   Illinois          17   \n3122      G1702030030700      2015-2019   Illinois          17   \n\n          County Name  County Code  Census Tract Code  \\\n0        Adams County            1                100   \n1        Adams County            1                201   \n2        Adams County            1                202   \n3        Adams County            1                400   \n4        Adams County            1                500   \n...               ...          ...                ...   \n3118  Woodford County          203              30501   \n3119  Woodford County          203              30502   \n3120  Woodford County          203              30601   \n3121  Woodford County          203              30602   \n3122  Woodford County          203              30700   \n\n                                Area Name (Estimate)  Total (Estimate)  \\\n0             Census Tract 1, Adams County, Illinois              3381   \n1          Census Tract 2.01, Adams County, Illinois              1400   \n2          Census Tract 2.02, Adams County, Illinois              1527   \n3             Census Tract 4, Adams County, Illinois              2536   \n4             Census Tract 5, Adams County, Illinois              1455   \n...                                              ...               ...   \n3118  Census Tract 305.01, Woodford County, Illinois              5199   \n3119  Census Tract 305.02, Woodford County, Illinois              1892   \n3120  Census Tract 306.01, Woodford County, Illinois              4158   \n3121  Census Tract 306.02, Woodford County, Illinois              2310   \n3122     Census Tract 307, Woodford County, Illinois              2909   \n\n      No schooling completed (Estimate)  ...  \\\n0                                    17  ...   \n1                                     2  ...   \n2                                     0  ...   \n3                                    49  ...   \n4                                    40  ...   \n...                                 ...  ...   \n3118                                  0  ...   \n3119                                  1  ...   \n3120                                  0  ...   \n3121                                  0  ...   \n3122                                  9  ...   \n\n      12th grade, no diploma (Margin of Error)  \\\n0                                           38   \n1                                           11   \n2                                           10   \n3                                           44   \n4                                           23   \n...                                        ...   \n3118                                        43   \n3119                                        19   \n3120                                        15   \n3121                                        20   \n3122                                        22   \n\n      Regular high school diploma (Margin of Error)  \\\n0                                               246   \n1                                                66   \n2                                               139   \n3                                               177   \n4                                               143   \n...                                             ...   \n3118                                            207   \n3119                                            160   \n3120                                            203   \n3121                                            112   \n3122                                            117   \n\n      GED or alternative credential (Margin of Error)  \\\n0                                                 112   \n1                                                  32   \n2                                                  67   \n3                                                 141   \n4                                                  41   \n...                                               ...   \n3118                                               73   \n3119                                               37   \n3120                                               60   \n3121                                               24   \n3122                                               63   \n\n      Some college, less than 1 year (Margin of Error)  \\\n0                                                  132   \n1                                                   64   \n2                                                   66   \n3                                                  108   \n4                                                   61   \n...                                                ...   \n3118                                               127   \n3119                                                46   \n3120                                                89   \n3121                                                35   \n3122                                                54   \n\n      Some college, 1 or more years, no degree (Margin of Error)  \\\n0                                                   166            \n1                                                    56            \n2                                                    79            \n3                                                   103            \n4                                                    91            \n...                                                 ...            \n3118                                                136            \n3119                                                 83            \n3120                                                161            \n3121                                                 78            \n3122                                                 78            \n\n      Associate's degree (Margin of Error)  \\\n0                                      100   \n1                                       50   \n2                                       71   \n3                                       75   \n4                                       31   \n...                                    ...   \n3118                                   171   \n3119                                    61   \n3120                                   117   \n3121                                    74   \n3122                                    78   \n\n      Bachelor's degree (Margin of Error)  Master's degree (Margin of Error)  \\\n0                                     122                                 96   \n1                                      94                                 40   \n2                                      86                                 40   \n3                                      82                                 50   \n4                                      48                                 29   \n...                                   ...                                ...   \n3118                                  271                                171   \n3119                                   75                                 30   \n3120                                  203                                197   \n3121                                   80                                109   \n3122                                  109                                 44   \n\n      Professional school degree (Margin of Error)  \\\n0                                               28   \n1                                               13   \n2                                               36   \n3                                               21   \n4                                               11   \n...                                            ...   \n3118                                            92   \n3119                                             8   \n3120                                            16   \n3121                                            16   \n3122                                            13   \n\n      Doctorate degree (Margin of Error)  \n0                                     21  \n1                                      7  \n2                                     11  \n3                                     11  \n4                                      8  \n...                                  ...  \n3118                                  86  \n3119                                  11  \n3120                                  35  \n3121                                  22  \n3122                                  17  \n\n[3123 rows x 59 columns]",
      "text/html": "<div>\n<style scoped>\n    .dataframe tbody tr th:only-of-type {\n        vertical-align: middle;\n    }\n\n    .dataframe tbody tr th {\n        vertical-align: top;\n    }\n\n    .dataframe thead th {\n        text-align: right;\n    }\n</style>\n<table border=\"1\" class=\"dataframe\">\n  <thead>\n    <tr style=\"text-align: right;\">\n      <th></th>\n      <th>GIS Join Match Code</th>\n      <th>Data File Year</th>\n      <th>State Name</th>\n      <th>State Code</th>\n      <th>County Name</th>\n      <th>County Code</th>\n      <th>Census Tract Code</th>\n      <th>Area Name (Estimate)</th>\n      <th>Total (Estimate)</th>\n      <th>No schooling completed (Estimate)</th>\n      <th>...</th>\n      <th>12th grade, no diploma (Margin of Error)</th>\n      <th>Regular high school diploma (Margin of Error)</th>\n      <th>GED or alternative credential (Margin of Error)</th>\n      <th>Some college, less than 1 year (Margin of Error)</th>\n      <th>Some college, 1 or more years, no degree (Margin of Error)</th>\n      <th>Associate's degree (Margin of Error)</th>\n      <th>Bachelor's degree (Margin of Error)</th>\n      <th>Master's degree (Margin of Error)</th>\n      <th>Professional school degree (Margin of Error)</th>\n      <th>Doctorate degree (Margin of Error)</th>\n    </tr>\n  </thead>\n  <tbody>\n    <tr>\n      <th>0</th>\n      <td>G1700010000100</td>\n      <td>2015-2019</td>\n      <td>Illinois</td>\n      <td>17</td>\n      <td>Adams County</td>\n      <td>1</td>\n      <td>100</td>\n      <td>Census Tract 1, Adams County, Illinois</td>\n      <td>3381</td>\n      <td>17</td>\n      <td>...</td>\n      <td>38</td>\n      <td>246</td>\n      <td>112</td>\n      <td>132</td>\n      <td>166</td>\n      <td>100</td>\n      <td>122</td>\n      <td>96</td>\n      <td>28</td>\n      <td>21</td>\n    </tr>\n    <tr>\n      <th>1</th>\n      <td>G1700010000201</td>\n      <td>2015-2019</td>\n      <td>Illinois</td>\n      <td>17</td>\n      <td>Adams County</td>\n      <td>1</td>\n      <td>201</td>\n      <td>Census Tract 2.01, Adams County, Illinois</td>\n      <td>1400</td>\n      <td>2</td>\n      <td>...</td>\n      <td>11</td>\n      <td>66</td>\n      <td>32</td>\n      <td>64</td>\n      <td>56</td>\n      <td>50</td>\n      <td>94</td>\n      <td>40</td>\n      <td>13</td>\n      <td>7</td>\n    </tr>\n    <tr>\n      <th>2</th>\n      <td>G1700010000202</td>\n      <td>2015-2019</td>\n      <td>Illinois</td>\n      <td>17</td>\n      <td>Adams County</td>\n      <td>1</td>\n      <td>202</td>\n      <td>Census Tract 2.02, Adams County, Illinois</td>\n      <td>1527</td>\n      <td>0</td>\n      <td>...</td>\n      <td>10</td>\n      <td>139</td>\n      <td>67</td>\n      <td>66</td>\n      <td>79</td>\n      <td>71</td>\n      <td>86</td>\n      <td>40</td>\n      <td>36</td>\n      <td>11</td>\n    </tr>\n    <tr>\n      <th>3</th>\n      <td>G1700010000400</td>\n      <td>2015-2019</td>\n      <td>Illinois</td>\n      <td>17</td>\n      <td>Adams County</td>\n      <td>1</td>\n      <td>400</td>\n      <td>Census Tract 4, Adams County, Illinois</td>\n      <td>2536</td>\n      <td>49</td>\n      <td>...</td>\n      <td>44</td>\n      <td>177</td>\n      <td>141</td>\n      <td>108</td>\n      <td>103</td>\n      <td>75</td>\n      <td>82</td>\n      <td>50</td>\n      <td>21</td>\n      <td>11</td>\n    </tr>\n    <tr>\n      <th>4</th>\n      <td>G1700010000500</td>\n      <td>2015-2019</td>\n      <td>Illinois</td>\n      <td>17</td>\n      <td>Adams County</td>\n      <td>1</td>\n      <td>500</td>\n      <td>Census Tract 5, Adams County, Illinois</td>\n      <td>1455</td>\n      <td>40</td>\n      <td>...</td>\n      <td>23</td>\n      <td>143</td>\n      <td>41</td>\n      <td>61</td>\n      <td>91</td>\n      <td>31</td>\n      <td>48</td>\n      <td>29</td>\n      <td>11</td>\n      <td>8</td>\n    </tr>\n    <tr>\n      <th>...</th>\n      <td>...</td>\n      <td>...</td>\n      <td>...</td>\n      <td>...</td>\n      <td>...</td>\n      <td>...</td>\n      <td>...</td>\n      <td>...</td>\n      <td>...</td>\n      <td>...</td>\n      <td>...</td>\n      <td>...</td>\n      <td>...</td>\n      <td>...</td>\n      <td>...</td>\n      <td>...</td>\n      <td>...</td>\n      <td>...</td>\n      <td>...</td>\n      <td>...</td>\n      <td>...</td>\n    </tr>\n    <tr>\n      <th>3118</th>\n      <td>G1702030030501</td>\n      <td>2015-2019</td>\n      <td>Illinois</td>\n      <td>17</td>\n      <td>Woodford County</td>\n      <td>203</td>\n      <td>30501</td>\n      <td>Census Tract 305.01, Woodford County, Illinois</td>\n      <td>5199</td>\n      <td>0</td>\n      <td>...</td>\n      <td>43</td>\n      <td>207</td>\n      <td>73</td>\n      <td>127</td>\n      <td>136</td>\n      <td>171</td>\n      <td>271</td>\n      <td>171</td>\n      <td>92</td>\n      <td>86</td>\n    </tr>\n    <tr>\n      <th>3119</th>\n      <td>G1702030030502</td>\n      <td>2015-2019</td>\n      <td>Illinois</td>\n      <td>17</td>\n      <td>Woodford County</td>\n      <td>203</td>\n      <td>30502</td>\n      <td>Census Tract 305.02, Woodford County, Illinois</td>\n      <td>1892</td>\n      <td>1</td>\n      <td>...</td>\n      <td>19</td>\n      <td>160</td>\n      <td>37</td>\n      <td>46</td>\n      <td>83</td>\n      <td>61</td>\n      <td>75</td>\n      <td>30</td>\n      <td>8</td>\n      <td>11</td>\n    </tr>\n    <tr>\n      <th>3120</th>\n      <td>G1702030030601</td>\n      <td>2015-2019</td>\n      <td>Illinois</td>\n      <td>17</td>\n      <td>Woodford County</td>\n      <td>203</td>\n      <td>30601</td>\n      <td>Census Tract 306.01, Woodford County, Illinois</td>\n      <td>4158</td>\n      <td>0</td>\n      <td>...</td>\n      <td>15</td>\n      <td>203</td>\n      <td>60</td>\n      <td>89</td>\n      <td>161</td>\n      <td>117</td>\n      <td>203</td>\n      <td>197</td>\n      <td>16</td>\n      <td>35</td>\n    </tr>\n    <tr>\n      <th>3121</th>\n      <td>G1702030030602</td>\n      <td>2015-2019</td>\n      <td>Illinois</td>\n      <td>17</td>\n      <td>Woodford County</td>\n      <td>203</td>\n      <td>30602</td>\n      <td>Census Tract 306.02, Woodford County, Illinois</td>\n      <td>2310</td>\n      <td>0</td>\n      <td>...</td>\n      <td>20</td>\n      <td>112</td>\n      <td>24</td>\n      <td>35</td>\n      <td>78</td>\n      <td>74</td>\n      <td>80</td>\n      <td>109</td>\n      <td>16</td>\n      <td>22</td>\n    </tr>\n    <tr>\n      <th>3122</th>\n      <td>G1702030030700</td>\n      <td>2015-2019</td>\n      <td>Illinois</td>\n      <td>17</td>\n      <td>Woodford County</td>\n      <td>203</td>\n      <td>30700</td>\n      <td>Census Tract 307, Woodford County, Illinois</td>\n      <td>2909</td>\n      <td>9</td>\n      <td>...</td>\n      <td>22</td>\n      <td>117</td>\n      <td>63</td>\n      <td>54</td>\n      <td>78</td>\n      <td>78</td>\n      <td>109</td>\n      <td>44</td>\n      <td>13</td>\n      <td>17</td>\n    </tr>\n  </tbody>\n</table>\n<p>3123 rows × 59 columns</p>\n</div>"
     },
     "metadata": {},
     "execution_count": 138
    }
   ],
   "source": [
    "edudat_2015_2019.drop([\"State Postal Abbreviation\",\"Census Geographic Identifier\"], axis=1)"
   ]
  },
  {
   "cell_type": "code",
   "execution_count": 128,
   "metadata": {},
   "outputs": [
    {
     "output_type": "execute_result",
     "data": {
      "text/plain": "              GISJOIN       YEAR  REGIONA  DIVISIONA        STATE  STATEA  \\\n0      G0100010020100  2010-2014      NaN        NaN      Alabama       1   \n1      G0100010020200  2010-2014      NaN        NaN      Alabama       1   \n2      G0100010020300  2010-2014      NaN        NaN      Alabama       1   \n3      G0100010020400  2010-2014      NaN        NaN      Alabama       1   \n4      G0100010020500  2010-2014      NaN        NaN      Alabama       1   \n...               ...        ...      ...        ...          ...     ...   \n73996  G7201530750501  2010-2014      NaN        NaN  Puerto Rico      72   \n73997  G7201530750502  2010-2014      NaN        NaN  Puerto Rico      72   \n73998  G7201530750503  2010-2014      NaN        NaN  Puerto Rico      72   \n73999  G7201530750601  2010-2014      NaN        NaN  Puerto Rico      72   \n74000  G7201530750602  2010-2014      NaN        NaN  Puerto Rico      72   \n\n                COUNTY  COUNTYA  COUSUBA  PLACEA  ...  ABC4M016  ABC4M017  \\\n0       Autauga County        1      NaN     NaN  ...        24       100   \n1       Autauga County        1      NaN     NaN  ...        40       120   \n2       Autauga County        1      NaN     NaN  ...        53       149   \n3       Autauga County        1      NaN     NaN  ...        11       177   \n4       Autauga County        1      NaN     NaN  ...        61       341   \n...                ...      ...      ...     ...  ...       ...       ...   \n73996  Yauco Municipio      153      NaN     NaN  ...        92       200   \n73997  Yauco Municipio      153      NaN     NaN  ...        34       156   \n73998  Yauco Municipio      153      NaN     NaN  ...        37       104   \n73999  Yauco Municipio      153      NaN     NaN  ...        56       271   \n74000  Yauco Municipio      153      NaN     NaN  ...        52       377   \n\n       ABC4M018  ABC4M019  ABC4M020  ABC4M021  ABC4M022  ABC4M023  ABC4M024  \\\n0            42        20        65        32        61        46        25   \n1            45        59        73        46        75        85        21   \n2            57        96       136        58        80        54        24   \n3           105        77       101        72       119        59        36   \n4           138       180       371       223       373       241       153   \n...         ...       ...       ...       ...       ...       ...       ...   \n73996        63        78       188       115       204       111        18   \n73997        13        15       101        74       124        31        36   \n73998         9        32        58        88       177        40        15   \n73999        21        60       164       142       196       101        52   \n74000        15        18        89       101       189        29        13   \n\n       ABC4M025  \n0            20  \n1            22  \n2            11  \n3            31  \n4            82  \n...         ...  \n73996        27  \n73997        21  \n73998        18  \n73999        37  \n74000         3  \n\n[74001 rows x 88 columns]",
      "text/html": "<div>\n<style scoped>\n    .dataframe tbody tr th:only-of-type {\n        vertical-align: middle;\n    }\n\n    .dataframe tbody tr th {\n        vertical-align: top;\n    }\n\n    .dataframe thead th {\n        text-align: right;\n    }\n</style>\n<table border=\"1\" class=\"dataframe\">\n  <thead>\n    <tr style=\"text-align: right;\">\n      <th></th>\n      <th>GISJOIN</th>\n      <th>YEAR</th>\n      <th>REGIONA</th>\n      <th>DIVISIONA</th>\n      <th>STATE</th>\n      <th>STATEA</th>\n      <th>COUNTY</th>\n      <th>COUNTYA</th>\n      <th>COUSUBA</th>\n      <th>PLACEA</th>\n      <th>...</th>\n      <th>ABC4M016</th>\n      <th>ABC4M017</th>\n      <th>ABC4M018</th>\n      <th>ABC4M019</th>\n      <th>ABC4M020</th>\n      <th>ABC4M021</th>\n      <th>ABC4M022</th>\n      <th>ABC4M023</th>\n      <th>ABC4M024</th>\n      <th>ABC4M025</th>\n    </tr>\n  </thead>\n  <tbody>\n    <tr>\n      <th>0</th>\n      <td>G0100010020100</td>\n      <td>2010-2014</td>\n      <td>NaN</td>\n      <td>NaN</td>\n      <td>Alabama</td>\n      <td>1</td>\n      <td>Autauga County</td>\n      <td>1</td>\n      <td>NaN</td>\n      <td>NaN</td>\n      <td>...</td>\n      <td>24</td>\n      <td>100</td>\n      <td>42</td>\n      <td>20</td>\n      <td>65</td>\n      <td>32</td>\n      <td>61</td>\n      <td>46</td>\n      <td>25</td>\n      <td>20</td>\n    </tr>\n    <tr>\n      <th>1</th>\n      <td>G0100010020200</td>\n      <td>2010-2014</td>\n      <td>NaN</td>\n      <td>NaN</td>\n      <td>Alabama</td>\n      <td>1</td>\n      <td>Autauga County</td>\n      <td>1</td>\n      <td>NaN</td>\n      <td>NaN</td>\n      <td>...</td>\n      <td>40</td>\n      <td>120</td>\n      <td>45</td>\n      <td>59</td>\n      <td>73</td>\n      <td>46</td>\n      <td>75</td>\n      <td>85</td>\n      <td>21</td>\n      <td>22</td>\n    </tr>\n    <tr>\n      <th>2</th>\n      <td>G0100010020300</td>\n      <td>2010-2014</td>\n      <td>NaN</td>\n      <td>NaN</td>\n      <td>Alabama</td>\n      <td>1</td>\n      <td>Autauga County</td>\n      <td>1</td>\n      <td>NaN</td>\n      <td>NaN</td>\n      <td>...</td>\n      <td>53</td>\n      <td>149</td>\n      <td>57</td>\n      <td>96</td>\n      <td>136</td>\n      <td>58</td>\n      <td>80</td>\n      <td>54</td>\n      <td>24</td>\n      <td>11</td>\n    </tr>\n    <tr>\n      <th>3</th>\n      <td>G0100010020400</td>\n      <td>2010-2014</td>\n      <td>NaN</td>\n      <td>NaN</td>\n      <td>Alabama</td>\n      <td>1</td>\n      <td>Autauga County</td>\n      <td>1</td>\n      <td>NaN</td>\n      <td>NaN</td>\n      <td>...</td>\n      <td>11</td>\n      <td>177</td>\n      <td>105</td>\n      <td>77</td>\n      <td>101</td>\n      <td>72</td>\n      <td>119</td>\n      <td>59</td>\n      <td>36</td>\n      <td>31</td>\n    </tr>\n    <tr>\n      <th>4</th>\n      <td>G0100010020500</td>\n      <td>2010-2014</td>\n      <td>NaN</td>\n      <td>NaN</td>\n      <td>Alabama</td>\n      <td>1</td>\n      <td>Autauga County</td>\n      <td>1</td>\n      <td>NaN</td>\n      <td>NaN</td>\n      <td>...</td>\n      <td>61</td>\n      <td>341</td>\n      <td>138</td>\n      <td>180</td>\n      <td>371</td>\n      <td>223</td>\n      <td>373</td>\n      <td>241</td>\n      <td>153</td>\n      <td>82</td>\n    </tr>\n    <tr>\n      <th>...</th>\n      <td>...</td>\n      <td>...</td>\n      <td>...</td>\n      <td>...</td>\n      <td>...</td>\n      <td>...</td>\n      <td>...</td>\n      <td>...</td>\n      <td>...</td>\n      <td>...</td>\n      <td>...</td>\n      <td>...</td>\n      <td>...</td>\n      <td>...</td>\n      <td>...</td>\n      <td>...</td>\n      <td>...</td>\n      <td>...</td>\n      <td>...</td>\n      <td>...</td>\n      <td>...</td>\n    </tr>\n    <tr>\n      <th>73996</th>\n      <td>G7201530750501</td>\n      <td>2010-2014</td>\n      <td>NaN</td>\n      <td>NaN</td>\n      <td>Puerto Rico</td>\n      <td>72</td>\n      <td>Yauco Municipio</td>\n      <td>153</td>\n      <td>NaN</td>\n      <td>NaN</td>\n      <td>...</td>\n      <td>92</td>\n      <td>200</td>\n      <td>63</td>\n      <td>78</td>\n      <td>188</td>\n      <td>115</td>\n      <td>204</td>\n      <td>111</td>\n      <td>18</td>\n      <td>27</td>\n    </tr>\n    <tr>\n      <th>73997</th>\n      <td>G7201530750502</td>\n      <td>2010-2014</td>\n      <td>NaN</td>\n      <td>NaN</td>\n      <td>Puerto Rico</td>\n      <td>72</td>\n      <td>Yauco Municipio</td>\n      <td>153</td>\n      <td>NaN</td>\n      <td>NaN</td>\n      <td>...</td>\n      <td>34</td>\n      <td>156</td>\n      <td>13</td>\n      <td>15</td>\n      <td>101</td>\n      <td>74</td>\n      <td>124</td>\n      <td>31</td>\n      <td>36</td>\n      <td>21</td>\n    </tr>\n    <tr>\n      <th>73998</th>\n      <td>G7201530750503</td>\n      <td>2010-2014</td>\n      <td>NaN</td>\n      <td>NaN</td>\n      <td>Puerto Rico</td>\n      <td>72</td>\n      <td>Yauco Municipio</td>\n      <td>153</td>\n      <td>NaN</td>\n      <td>NaN</td>\n      <td>...</td>\n      <td>37</td>\n      <td>104</td>\n      <td>9</td>\n      <td>32</td>\n      <td>58</td>\n      <td>88</td>\n      <td>177</td>\n      <td>40</td>\n      <td>15</td>\n      <td>18</td>\n    </tr>\n    <tr>\n      <th>73999</th>\n      <td>G7201530750601</td>\n      <td>2010-2014</td>\n      <td>NaN</td>\n      <td>NaN</td>\n      <td>Puerto Rico</td>\n      <td>72</td>\n      <td>Yauco Municipio</td>\n      <td>153</td>\n      <td>NaN</td>\n      <td>NaN</td>\n      <td>...</td>\n      <td>56</td>\n      <td>271</td>\n      <td>21</td>\n      <td>60</td>\n      <td>164</td>\n      <td>142</td>\n      <td>196</td>\n      <td>101</td>\n      <td>52</td>\n      <td>37</td>\n    </tr>\n    <tr>\n      <th>74000</th>\n      <td>G7201530750602</td>\n      <td>2010-2014</td>\n      <td>NaN</td>\n      <td>NaN</td>\n      <td>Puerto Rico</td>\n      <td>72</td>\n      <td>Yauco Municipio</td>\n      <td>153</td>\n      <td>NaN</td>\n      <td>NaN</td>\n      <td>...</td>\n      <td>52</td>\n      <td>377</td>\n      <td>15</td>\n      <td>18</td>\n      <td>89</td>\n      <td>101</td>\n      <td>189</td>\n      <td>29</td>\n      <td>13</td>\n      <td>3</td>\n    </tr>\n  </tbody>\n</table>\n<p>74001 rows × 88 columns</p>\n</div>"
     },
     "metadata": {},
     "execution_count": 128
    }
   ],
   "source": [
    "edudat_2010_2014"
   ]
  },
  {
   "cell_type": "code",
   "execution_count": 129,
   "metadata": {},
   "outputs": [],
   "source": [
    "edudat_2010_2014.dropna(axis=1, how='all', inplace=True)\n",
    "edudat_2010_2014 = edudat_2010_2014[edudat_2010_2014[\"STATE\"] == \"Illinois\"]\n",
    "edudat_2010_2014 = edudat_2010_2014.reset_index(drop=True)\n",
    "\n",
    "for i in range(edudat_2010_2014.shape[0]):\n",
    "    if edudat_2010_2014.loc[i,\"TRACTA\"] not in tract_list:\n",
    "        edudat_2010_2014.drop(i)"
   ]
  },
  {
   "cell_type": "code",
   "execution_count": 130,
   "metadata": {},
   "outputs": [],
   "source": [
    "column_dict_2010_2014 = {\"GISJOIN\":     \"GIS Join Match Code\",\n",
    "        \"YEAR\":        \"Data File Year\",\n",
    "        \"REGIONA\":     \"Region Code\",\n",
    "        \"DIVISIONA\":   \"Division Code\",\n",
    "        \"STATE\":       \"State Name\",\n",
    "        \"STATEA\":      \"State Code\",\n",
    "        \"COUNTY\":      \"County Name\",\n",
    "        \"COUNTYA\":     \"County Code\",\n",
    "        \"COUSUBA\":     \"County Subdivision Code\",\n",
    "        \"PLACEA\":      \"Place Code\",\n",
    "        \"TRACTA\":      \"Census Tract Code\",\n",
    "        \"BLKGRPA\":     \"Block Group Code\",\n",
    "        \"CONCITA\":     \"Consolidated City Code\",\n",
    "        \"AIANHHA\":     \"American Indian Area/Alaska Native Area/Hawaiian Home Land Code\",\n",
    "        \"RES_ONLYA\":   \"American Indian Area/Alaska Native Area (Reservation or Statistical Entity Only) Code\",\n",
    "        \"TRUSTA\":      \"American Indian Area (Off-Reservation Trust Land Only)/Hawaiian Home Land Code\",\n",
    "        \"AITSCEA\":     \"Tribal Subdivision/Remainder Code\",\n",
    "        \"ANRCA\":       \"Alaska Native Regional Corporation Code\",\n",
    "        \"CBSAA\":       \"Metropolitan Statistical Area/Micropolitan Statistical Area Code\",\n",
    "        \"CSAA\":        \"Combined Statistical Area Code\",\n",
    "        \"METDIVA\":     \"Metropolitan Division Code\",\n",
    "        \"NECTAA\":      \"New England City and Town Area Code\",\n",
    "        \"CNECTAA\":     \"Combined New England City and Town Area Code\",\n",
    "        \"NECTADIVA\":   \"New England City and Town Area Division Code\",\n",
    "        \"UAA\":         \"Urban Area Code\",\n",
    "        \"CDCURRA\":     \"Congressional District (2019-2021, 116th Congress) Code\",\n",
    "        \"SLDUA\":       \"State Legislative District (Upper Chamber) Code\",\n",
    "        \"SLDLA\":       \"State Legislative District (Lower Chamber) Code\",\n",
    "        \"ZCTA5A\":      \"5-Digit ZIP Code Tabulation Area Code\",\n",
    "        \"SUBMCDA\":     \"Subminor Civil Division Code\",\n",
    "        \"SDELMA\":      \"School District (Elementary)/Remainder Code\",\n",
    "        \"SDSECA\":      \"School District (Secondary)/Remainder Code\",\n",
    "        \"SDUNIA\":      \"School District (Unified)/Remainder Code\",\n",
    "        \"PUMA5A\":      \"Public Use Microdata Sample Area (PUMA) Code\",\n",
    "        \"BTTRA\":       \"Tribal Census Tract Code\",\n",
    "        \"BTBGA\":       \"Tribal Block Group Code\",\n",
    "        \"NAME_E\":      \"Area Name (Estimate)\",\n",
    "        \"ABC4E001\":    \"Total (Estimate)\",\n",
    "        \"ABC4E002\":    \"No schooling completed (Estimate)\",\n",
    "        \"ABC4E003\":    \"Nursery school (Estimate)\",\n",
    "        \"ABC4E004\":    \"Kindergarten (Estimate)\",\n",
    "        \"ABC4E005\":    \"1st grade (Estimate)\",\n",
    "        \"ABC4E006\":    \"2nd grade (Estimate)\",\n",
    "        \"ABC4E007\":    \"3rd grade (Estimate)\",\n",
    "        \"ABC4E008\":    \"4th grade (Estimate)\",\n",
    "        \"ABC4E009\":    \"5th grade (Estimate)\",\n",
    "        \"ABC4E010\":    \"6th grade (Estimate)\",\n",
    "        \"ABC4E011\":    \"7th grade (Estimate)\",\n",
    "        \"ABC4E012\":    \"8th grade (Estimate)\",\n",
    "        \"ABC4E013\":    \"9th grade (Estimate)\",\n",
    "        \"ABC4E014\":    \"10th grade (Estimate)\",\n",
    "        \"ABC4E015\":    \"11th grade (Estimate)\",\n",
    "        \"ABC4E016\":    \"12th grade, no diploma (Estimate)\",\n",
    "        \"ABC4E017\":    \"Regular high school diploma (Estimate)\",\n",
    "        \"ABC4E018\":    \"GED or alternative credential (Estimate)\",\n",
    "        \"ABC4E019\":    \"Some college, less than 1 year (Estimate)\",\n",
    "        \"ABC4E020\":    \"Some college, 1 or more years, no degree (Estimate)\",\n",
    "        \"ABC4E021\":    \"Associate's degree (Estimate)\",\n",
    "        \"ABC4E022\":    \"Bachelor's degree (Estimate)\",\n",
    "        \"ABC4E023\":    \"Master's degree (Estimate)\",\n",
    "        \"ABC4E024\":    \"Professional school degree (Estimate)\",\n",
    "        \"ABC4E025\":    \"Doctorate degree (Estimate)\",\n",
    "        \"NAME_M\":      \"Area Name (Margin of Error)\",\n",
    "        \"ABC4M001\":    \"Total (Margin of Error)\",\n",
    "        \"ABC4M002\":    \"No schooling completed (Margin of Error)\",\n",
    "        \"ABC4M003\":    \"Nursery school (Margin of Error)\",\n",
    "        \"ABC4M004\":    \"Kindergarten (Margin of Error)\",\n",
    "        \"ABC4M005\":    \"1st grade (Margin of Error)\",\n",
    "        \"ABC4M006\":    \"2nd grade (Margin of Error)\",\n",
    "        \"ABC4M007\":    \"3rd grade (Margin of Error)\",\n",
    "        \"ABC4M008\":    \"4th grade (Margin of Error)\",\n",
    "        \"ABC4M009\":    \"5th grade (Margin of Error)\",\n",
    "        \"ABC4M010\":    \"6th grade (Margin of Error)\",\n",
    "        \"ABC4M011\":    \"7th grade (Margin of Error)\",\n",
    "        \"ABC4M012\":    \"8th grade (Margin of Error)\",\n",
    "        \"ABC4M013\":    \"9th grade (Margin of Error)\",\n",
    "        \"ABC4M014\":    \"10th grade (Margin of Error)\",\n",
    "        \"ABC4M015\":    \"11th grade (Margin of Error)\",\n",
    "        \"ABC4M016\":    \"12th grade, no diploma (Margin of Error)\",\n",
    "        \"ABC4M017\":    \"Regular high school diploma (Margin of Error)\",\n",
    "        \"ABC4M018\":    \"GED or alternative credential (Margin of Error)\",\n",
    "        \"ABC4M019\":    \"Some college, less than 1 year (Margin of Error)\",\n",
    "        \"ABC4M020\":    \"Some college, 1 or more years, no degree (Margin of Error)\",\n",
    "        \"ABC4M021\":    \"Associate's degree (Margin of Error)\",\n",
    "        \"ABC4M022\":    \"Bachelor's degree (Margin of Error)\",\n",
    "        \"ABC4M023\":    \"Master's degree (Margin of Error)\",\n",
    "        \"ABC4M024\":    \"Professional school degree (Margin of Error)\",\n",
    "        \"ABC4M025\":    \"Doctorate degree (Margin of Error)\"\n",
    "}"
   ]
  },
  {
   "cell_type": "code",
   "execution_count": 131,
   "metadata": {},
   "outputs": [],
   "source": [
    "col_names = []\n",
    "for i in edudat_2010_2014:\n",
    "    col_names.append(i)\n",
    "for i in range(len(col_names)):\n",
    "    col_names[i] = column_dict_2010_2014[col_names[i]]\n",
    "edudat_2010_2014.columns = col_names"
   ]
  },
  {
   "cell_type": "code",
   "execution_count": 133,
   "metadata": {},
   "outputs": [
    {
     "output_type": "execute_result",
     "data": {
      "text/plain": "Index(['GIS Join Match Code', 'Data File Year', 'State Name', 'State Code',\n       'County Name', 'County Code', 'Census Tract Code',\n       'Area Name (Estimate)', 'Total (Estimate)',\n       'No schooling completed (Estimate)', 'Nursery school (Estimate)',\n       'Kindergarten (Estimate)', '1st grade (Estimate)',\n       '2nd grade (Estimate)', '3rd grade (Estimate)', '4th grade (Estimate)',\n       '5th grade (Estimate)', '6th grade (Estimate)', '7th grade (Estimate)',\n       '8th grade (Estimate)', '9th grade (Estimate)', '10th grade (Estimate)',\n       '11th grade (Estimate)', '12th grade, no diploma (Estimate)',\n       'Regular high school diploma (Estimate)',\n       'GED or alternative credential (Estimate)',\n       'Some college, less than 1 year (Estimate)',\n       'Some college, 1 or more years, no degree (Estimate)',\n       'Associate's degree (Estimate)', 'Bachelor's degree (Estimate)',\n       'Master's degree (Estimate)', 'Professional school degree (Estimate)',\n       'Doctorate degree (Estimate)', 'Area Name (Margin of Error)',\n       'Total (Margin of Error)', 'No schooling completed (Margin of Error)',\n       'Nursery school (Margin of Error)', 'Kindergarten (Margin of Error)',\n       '1st grade (Margin of Error)', '2nd grade (Margin of Error)',\n       '3rd grade (Margin of Error)', '4th grade (Margin of Error)',\n       '5th grade (Margin of Error)', '6th grade (Margin of Error)',\n       '7th grade (Margin of Error)', '8th grade (Margin of Error)',\n       '9th grade (Margin of Error)', '10th grade (Margin of Error)',\n       '11th grade (Margin of Error)',\n       '12th grade, no diploma (Margin of Error)',\n       'Regular high school diploma (Margin of Error)',\n       'GED or alternative credential (Margin of Error)',\n       'Some college, less than 1 year (Margin of Error)',\n       'Some college, 1 or more years, no degree (Margin of Error)',\n       'Associate's degree (Margin of Error)',\n       'Bachelor's degree (Margin of Error)',\n       'Master's degree (Margin of Error)',\n       'Professional school degree (Margin of Error)',\n       'Doctorate degree (Margin of Error)'],\n      dtype='object')"
     },
     "metadata": {},
     "execution_count": 133
    }
   ],
   "source": [
    "edudat_2010_2014.columns"
   ]
  },
  {
   "cell_type": "code",
   "execution_count": 135,
   "metadata": {},
   "outputs": [
    {
     "output_type": "execute_result",
     "data": {
      "text/plain": "Index(['GIS Join Match Code', 'Data File Year', 'State Name', 'State Code',\n       'County Name', 'County Code', 'Census Tract Code',\n       'Area Name (Estimate)', 'Total (Estimate)',\n       'No schooling completed (Estimate)', 'Nursery school (Estimate)',\n       'Kindergarten (Estimate)', '1st grade (Estimate)',\n       '2nd grade (Estimate)', '3rd grade (Estimate)', '4th grade (Estimate)',\n       '5th grade (Estimate)', '6th grade (Estimate)', '7th grade (Estimate)',\n       '8th grade (Estimate)', '9th grade (Estimate)', '10th grade (Estimate)',\n       '11th grade (Estimate)', '12th grade, no diploma (Estimate)',\n       'Regular high school diploma (Estimate)',\n       'GED or alternative credential (Estimate)',\n       'Some college, less than 1 year (Estimate)',\n       'Some college, 1 or more years, no degree (Estimate)',\n       'Associate's degree (Estimate)', 'Bachelor's degree (Estimate)',\n       'Master's degree (Estimate)', 'Professional school degree (Estimate)',\n       'Doctorate degree (Estimate)', 'Area Name (Margin of Error)',\n       'Total (Margin of Error)', 'No schooling completed (Margin of Error)',\n       'Nursery school (Margin of Error)', 'Kindergarten (Margin of Error)',\n       '1st grade (Margin of Error)', '2nd grade (Margin of Error)',\n       '3rd grade (Margin of Error)', '4th grade (Margin of Error)',\n       '5th grade (Margin of Error)', '6th grade (Margin of Error)',\n       '7th grade (Margin of Error)', '8th grade (Margin of Error)',\n       '9th grade (Margin of Error)', '10th grade (Margin of Error)',\n       '11th grade (Margin of Error)',\n       '12th grade, no diploma (Margin of Error)',\n       'Regular high school diploma (Margin of Error)',\n       'GED or alternative credential (Margin of Error)',\n       'Some college, less than 1 year (Margin of Error)',\n       'Some college, 1 or more years, no degree (Margin of Error)',\n       'Associate's degree (Margin of Error)',\n       'Bachelor's degree (Margin of Error)',\n       'Master's degree (Margin of Error)',\n       'Professional school degree (Margin of Error)',\n       'Doctorate degree (Margin of Error)'],\n      dtype='object')"
     },
     "metadata": {},
     "execution_count": 135
    }
   ],
   "source": [
    "edudat_2014_2018.columns"
   ]
  },
  {
   "cell_type": "code",
   "execution_count": 139,
   "metadata": {},
   "outputs": [
    {
     "output_type": "execute_result",
     "data": {
      "text/plain": "Index(['GIS Join Match Code', 'Data File Year', 'State Postal Abbreviation',\n       'State Name', 'State Code', 'County Name', 'County Code',\n       'Census Tract Code', 'Census Geographic Identifier',\n       'Area Name (Estimate)', 'Total (Estimate)',\n       'No schooling completed (Estimate)', 'Nursery school (Estimate)',\n       'Kindergarten (Estimate)', '1st grade (Estimate)',\n       '2nd grade (Estimate)', '3rd grade (Estimate)', '4th grade (Estimate)',\n       '5th grade (Estimate)', '6th grade (Estimate)', '7th grade (Estimate)',\n       '8th grade (Estimate)', '9th grade (Estimate)', '10th grade (Estimate)',\n       '11th grade (Estimate)', '12th grade, no diploma (Estimate)',\n       'Regular high school diploma (Estimate)',\n       'GED or alternative credential (Estimate)',\n       'Some college, less than 1 year (Estimate)',\n       'Some college, 1 or more years, no degree (Estimate)',\n       'Associate's degree (Estimate)', 'Bachelor's degree (Estimate)',\n       'Master's degree (Estimate)', 'Professional school degree (Estimate)',\n       'Doctorate degree (Estimate)', 'Area Name (Margin of Error)',\n       'Total (Margin of Error)', 'No schooling completed (Margin of Error)',\n       'Nursery school (Margin of Error)', 'Kindergarten (Margin of Error)',\n       '1st grade (Margin of Error)', '2nd grade (Margin of Error)',\n       '3rd grade (Margin of Error)', '4th grade (Margin of Error)',\n       '5th grade (Margin of Error)', '6th grade (Margin of Error)',\n       '7th grade (Margin of Error)', '8th grade (Margin of Error)',\n       '9th grade (Margin of Error)', '10th grade (Margin of Error)',\n       '11th grade (Margin of Error)',\n       '12th grade, no diploma (Margin of Error)',\n       'Regular high school diploma (Margin of Error)',\n       'GED or alternative credential (Margin of Error)',\n       'Some college, less than 1 year (Margin of Error)',\n       'Some college, 1 or more years, no degree (Margin of Error)',\n       'Associate's degree (Margin of Error)',\n       'Bachelor's degree (Margin of Error)',\n       'Master's degree (Margin of Error)',\n       'Professional school degree (Margin of Error)',\n       'Doctorate degree (Margin of Error)'],\n      dtype='object')"
     },
     "metadata": {},
     "execution_count": 139
    }
   ],
   "source": [
    "edudat_2015_2019.columns"
   ]
  },
  {
   "cell_type": "code",
   "execution_count": 141,
   "metadata": {},
   "outputs": [
    {
     "output_type": "execute_result",
     "data": {
      "text/plain": "     GIS Join Match Code Data File Year State Name  State Code  \\\n0         G1700010000100      2010-2014   Illinois          17   \n1         G1700010000201      2010-2014   Illinois          17   \n2         G1700010000202      2010-2014   Illinois          17   \n3         G1700010000400      2010-2014   Illinois          17   \n4         G1700010000500      2010-2014   Illinois          17   \n...                  ...            ...        ...         ...   \n3118      G1702030030501      2015-2019   Illinois          17   \n3119      G1702030030502      2015-2019   Illinois          17   \n3120      G1702030030601      2015-2019   Illinois          17   \n3121      G1702030030602      2015-2019   Illinois          17   \n3122      G1702030030700      2015-2019   Illinois          17   \n\n          County Name  County Code  Census Tract Code  \\\n0        Adams County            1                100   \n1        Adams County            1                201   \n2        Adams County            1                202   \n3        Adams County            1                400   \n4        Adams County            1                500   \n...               ...          ...                ...   \n3118  Woodford County          203              30501   \n3119  Woodford County          203              30502   \n3120  Woodford County          203              30601   \n3121  Woodford County          203              30602   \n3122  Woodford County          203              30700   \n\n                                Area Name (Estimate)  Total (Estimate)  \\\n0             Census Tract 1, Adams County, Illinois              3472   \n1          Census Tract 2.01, Adams County, Illinois              1413   \n2          Census Tract 2.02, Adams County, Illinois              1596   \n3             Census Tract 4, Adams County, Illinois              2503   \n4             Census Tract 5, Adams County, Illinois              1530   \n...                                              ...               ...   \n3118  Census Tract 305.01, Woodford County, Illinois              5199   \n3119  Census Tract 305.02, Woodford County, Illinois              1892   \n3120  Census Tract 306.01, Woodford County, Illinois              4158   \n3121  Census Tract 306.02, Woodford County, Illinois              2310   \n3122     Census Tract 307, Woodford County, Illinois              2909   \n\n      No schooling completed (Estimate)  ...  \\\n0                                     0  ...   \n1                                     0  ...   \n2                                     8  ...   \n3                                     0  ...   \n4                                    34  ...   \n...                                 ...  ...   \n3118                                  0  ...   \n3119                                  1  ...   \n3120                                  0  ...   \n3121                                  0  ...   \n3122                                  9  ...   \n\n      GED or alternative credential (Margin of Error)  \\\n0                                                  40   \n1                                                  53   \n2                                                  59   \n3                                                  79   \n4                                                  50   \n...                                               ...   \n3118                                               73   \n3119                                               37   \n3120                                               60   \n3121                                               24   \n3122                                               63   \n\n      Some college, less than 1 year (Margin of Error)  \\\n0                                                  121   \n1                                                   73   \n2                                                   55   \n3                                                   77   \n4                                                   44   \n...                                                ...   \n3118                                               127   \n3119                                                46   \n3120                                                89   \n3121                                                35   \n3122                                                54   \n\n      Some college, 1 or more years, no degree (Margin of Error)  \\\n0                                                   155            \n1                                                    64            \n2                                                    89            \n3                                                   154            \n4                                                    57            \n...                                                 ...            \n3118                                                136            \n3119                                                 83            \n3120                                                161            \n3121                                                 78            \n3122                                                 78            \n\n      Associate's degree (Margin of Error)  \\\n0                                       81   \n1                                       63   \n2                                       84   \n3                                      101   \n4                                       35   \n...                                    ...   \n3118                                   171   \n3119                                    61   \n3120                                   117   \n3121                                    74   \n3122                                    78   \n\n      Bachelor's degree (Margin of Error)  Master's degree (Margin of Error)  \\\n0                                     166                                 60   \n1                                      66                                 39   \n2                                      85                                 47   \n3                                      53                                 41   \n4                                      42                                 11   \n...                                   ...                                ...   \n3118                                  271                                171   \n3119                                   75                                 30   \n3120                                  203                                197   \n3121                                   80                                109   \n3122                                  109                                 44   \n\n      Professional school degree (Margin of Error)  \\\n0                                               16   \n1                                               17   \n2                                               28   \n3                                               18   \n4                                                8   \n...                                            ...   \n3118                                            92   \n3119                                             8   \n3120                                            16   \n3121                                            16   \n3122                                            13   \n\n      Doctorate degree (Margin of Error)  State Postal Abbreviation  \\\n0                                     33                        NaN   \n1                                      7                        NaN   \n2                                     14                        NaN   \n3                                     26                        NaN   \n4                                     10                        NaN   \n...                                  ...                        ...   \n3118                                  86                         IL   \n3119                                  11                         IL   \n3120                                  35                         IL   \n3121                                  22                         IL   \n3122                                  17                         IL   \n\n      Census Geographic Identifier  \n0                              NaN  \n1                              NaN  \n2                              NaN  \n3                              NaN  \n4                              NaN  \n...                            ...  \n3118            14000US17203030501  \n3119            14000US17203030502  \n3120            14000US17203030601  \n3121            14000US17203030602  \n3122            14000US17203030700  \n\n[9369 rows x 61 columns]",
      "text/html": "<div>\n<style scoped>\n    .dataframe tbody tr th:only-of-type {\n        vertical-align: middle;\n    }\n\n    .dataframe tbody tr th {\n        vertical-align: top;\n    }\n\n    .dataframe thead th {\n        text-align: right;\n    }\n</style>\n<table border=\"1\" class=\"dataframe\">\n  <thead>\n    <tr style=\"text-align: right;\">\n      <th></th>\n      <th>GIS Join Match Code</th>\n      <th>Data File Year</th>\n      <th>State Name</th>\n      <th>State Code</th>\n      <th>County Name</th>\n      <th>County Code</th>\n      <th>Census Tract Code</th>\n      <th>Area Name (Estimate)</th>\n      <th>Total (Estimate)</th>\n      <th>No schooling completed (Estimate)</th>\n      <th>...</th>\n      <th>GED or alternative credential (Margin of Error)</th>\n      <th>Some college, less than 1 year (Margin of Error)</th>\n      <th>Some college, 1 or more years, no degree (Margin of Error)</th>\n      <th>Associate's degree (Margin of Error)</th>\n      <th>Bachelor's degree (Margin of Error)</th>\n      <th>Master's degree (Margin of Error)</th>\n      <th>Professional school degree (Margin of Error)</th>\n      <th>Doctorate degree (Margin of Error)</th>\n      <th>State Postal Abbreviation</th>\n      <th>Census Geographic Identifier</th>\n    </tr>\n  </thead>\n  <tbody>\n    <tr>\n      <th>0</th>\n      <td>G1700010000100</td>\n      <td>2010-2014</td>\n      <td>Illinois</td>\n      <td>17</td>\n      <td>Adams County</td>\n      <td>1</td>\n      <td>100</td>\n      <td>Census Tract 1, Adams County, Illinois</td>\n      <td>3472</td>\n      <td>0</td>\n      <td>...</td>\n      <td>40</td>\n      <td>121</td>\n      <td>155</td>\n      <td>81</td>\n      <td>166</td>\n      <td>60</td>\n      <td>16</td>\n      <td>33</td>\n      <td>NaN</td>\n      <td>NaN</td>\n    </tr>\n    <tr>\n      <th>1</th>\n      <td>G1700010000201</td>\n      <td>2010-2014</td>\n      <td>Illinois</td>\n      <td>17</td>\n      <td>Adams County</td>\n      <td>1</td>\n      <td>201</td>\n      <td>Census Tract 2.01, Adams County, Illinois</td>\n      <td>1413</td>\n      <td>0</td>\n      <td>...</td>\n      <td>53</td>\n      <td>73</td>\n      <td>64</td>\n      <td>63</td>\n      <td>66</td>\n      <td>39</td>\n      <td>17</td>\n      <td>7</td>\n      <td>NaN</td>\n      <td>NaN</td>\n    </tr>\n    <tr>\n      <th>2</th>\n      <td>G1700010000202</td>\n      <td>2010-2014</td>\n      <td>Illinois</td>\n      <td>17</td>\n      <td>Adams County</td>\n      <td>1</td>\n      <td>202</td>\n      <td>Census Tract 2.02, Adams County, Illinois</td>\n      <td>1596</td>\n      <td>8</td>\n      <td>...</td>\n      <td>59</td>\n      <td>55</td>\n      <td>89</td>\n      <td>84</td>\n      <td>85</td>\n      <td>47</td>\n      <td>28</td>\n      <td>14</td>\n      <td>NaN</td>\n      <td>NaN</td>\n    </tr>\n    <tr>\n      <th>3</th>\n      <td>G1700010000400</td>\n      <td>2010-2014</td>\n      <td>Illinois</td>\n      <td>17</td>\n      <td>Adams County</td>\n      <td>1</td>\n      <td>400</td>\n      <td>Census Tract 4, Adams County, Illinois</td>\n      <td>2503</td>\n      <td>0</td>\n      <td>...</td>\n      <td>79</td>\n      <td>77</td>\n      <td>154</td>\n      <td>101</td>\n      <td>53</td>\n      <td>41</td>\n      <td>18</td>\n      <td>26</td>\n      <td>NaN</td>\n      <td>NaN</td>\n    </tr>\n    <tr>\n      <th>4</th>\n      <td>G1700010000500</td>\n      <td>2010-2014</td>\n      <td>Illinois</td>\n      <td>17</td>\n      <td>Adams County</td>\n      <td>1</td>\n      <td>500</td>\n      <td>Census Tract 5, Adams County, Illinois</td>\n      <td>1530</td>\n      <td>34</td>\n      <td>...</td>\n      <td>50</td>\n      <td>44</td>\n      <td>57</td>\n      <td>35</td>\n      <td>42</td>\n      <td>11</td>\n      <td>8</td>\n      <td>10</td>\n      <td>NaN</td>\n      <td>NaN</td>\n    </tr>\n    <tr>\n      <th>...</th>\n      <td>...</td>\n      <td>...</td>\n      <td>...</td>\n      <td>...</td>\n      <td>...</td>\n      <td>...</td>\n      <td>...</td>\n      <td>...</td>\n      <td>...</td>\n      <td>...</td>\n      <td>...</td>\n      <td>...</td>\n      <td>...</td>\n      <td>...</td>\n      <td>...</td>\n      <td>...</td>\n      <td>...</td>\n      <td>...</td>\n      <td>...</td>\n      <td>...</td>\n      <td>...</td>\n    </tr>\n    <tr>\n      <th>3118</th>\n      <td>G1702030030501</td>\n      <td>2015-2019</td>\n      <td>Illinois</td>\n      <td>17</td>\n      <td>Woodford County</td>\n      <td>203</td>\n      <td>30501</td>\n      <td>Census Tract 305.01, Woodford County, Illinois</td>\n      <td>5199</td>\n      <td>0</td>\n      <td>...</td>\n      <td>73</td>\n      <td>127</td>\n      <td>136</td>\n      <td>171</td>\n      <td>271</td>\n      <td>171</td>\n      <td>92</td>\n      <td>86</td>\n      <td>IL</td>\n      <td>14000US17203030501</td>\n    </tr>\n    <tr>\n      <th>3119</th>\n      <td>G1702030030502</td>\n      <td>2015-2019</td>\n      <td>Illinois</td>\n      <td>17</td>\n      <td>Woodford County</td>\n      <td>203</td>\n      <td>30502</td>\n      <td>Census Tract 305.02, Woodford County, Illinois</td>\n      <td>1892</td>\n      <td>1</td>\n      <td>...</td>\n      <td>37</td>\n      <td>46</td>\n      <td>83</td>\n      <td>61</td>\n      <td>75</td>\n      <td>30</td>\n      <td>8</td>\n      <td>11</td>\n      <td>IL</td>\n      <td>14000US17203030502</td>\n    </tr>\n    <tr>\n      <th>3120</th>\n      <td>G1702030030601</td>\n      <td>2015-2019</td>\n      <td>Illinois</td>\n      <td>17</td>\n      <td>Woodford County</td>\n      <td>203</td>\n      <td>30601</td>\n      <td>Census Tract 306.01, Woodford County, Illinois</td>\n      <td>4158</td>\n      <td>0</td>\n      <td>...</td>\n      <td>60</td>\n      <td>89</td>\n      <td>161</td>\n      <td>117</td>\n      <td>203</td>\n      <td>197</td>\n      <td>16</td>\n      <td>35</td>\n      <td>IL</td>\n      <td>14000US17203030601</td>\n    </tr>\n    <tr>\n      <th>3121</th>\n      <td>G1702030030602</td>\n      <td>2015-2019</td>\n      <td>Illinois</td>\n      <td>17</td>\n      <td>Woodford County</td>\n      <td>203</td>\n      <td>30602</td>\n      <td>Census Tract 306.02, Woodford County, Illinois</td>\n      <td>2310</td>\n      <td>0</td>\n      <td>...</td>\n      <td>24</td>\n      <td>35</td>\n      <td>78</td>\n      <td>74</td>\n      <td>80</td>\n      <td>109</td>\n      <td>16</td>\n      <td>22</td>\n      <td>IL</td>\n      <td>14000US17203030602</td>\n    </tr>\n    <tr>\n      <th>3122</th>\n      <td>G1702030030700</td>\n      <td>2015-2019</td>\n      <td>Illinois</td>\n      <td>17</td>\n      <td>Woodford County</td>\n      <td>203</td>\n      <td>30700</td>\n      <td>Census Tract 307, Woodford County, Illinois</td>\n      <td>2909</td>\n      <td>9</td>\n      <td>...</td>\n      <td>63</td>\n      <td>54</td>\n      <td>78</td>\n      <td>78</td>\n      <td>109</td>\n      <td>44</td>\n      <td>13</td>\n      <td>17</td>\n      <td>IL</td>\n      <td>14000US17203030700</td>\n    </tr>\n  </tbody>\n</table>\n<p>9369 rows × 61 columns</p>\n</div>"
     },
     "metadata": {},
     "execution_count": 141
    }
   ],
   "source": [
    "edu_dat = pd.concat([edudat_2010_2014,edudat_2014_2018,edudat_2015_2019],axis=0)\n",
    "edu_dat"
   ]
  },
  {
   "cell_type": "code",
   "execution_count": 145,
   "metadata": {},
   "outputs": [],
   "source": [
    "edu_dat.to_csv(\"/Users/benedictjung/Desktop/STAT349/edu_dat2010-2019.csv\", index=False)"
   ]
  },
  {
   "cell_type": "code",
   "execution_count": null,
   "metadata": {},
   "outputs": [],
   "source": []
  }
 ]
}