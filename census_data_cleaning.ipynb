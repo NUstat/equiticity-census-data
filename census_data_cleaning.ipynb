{
 "metadata": {
  "language_info": {
   "codemirror_mode": {
    "name": "ipython",
    "version": 3
   },
   "file_extension": ".py",
   "mimetype": "text/x-python",
   "name": "python",
   "nbconvert_exporter": "python",
   "pygments_lexer": "ipython3",
   "version": "3.8.5-final"
  },
  "orig_nbformat": 2,
  "kernelspec": {
   "name": "python38564bitfc1cbcb307194b9ba54a54a5c9ad8180",
   "display_name": "Python 3.8.5 64-bit"
  }
 },
 "nbformat": 4,
 "nbformat_minor": 2,
 "cells": [
  {
   "cell_type": "code",
   "execution_count": 114,
   "metadata": {},
   "outputs": [],
   "source": [
    "import numpy as np\n",
    "import pandas as pd"
   ]
  },
  {
   "cell_type": "code",
   "execution_count": 115,
   "metadata": {},
   "outputs": [],
   "source": [
    "edudat_2015_2019 = pd.read_csv(\"/Users/benedictjung/Desktop/STAT349/nhgis0002_csv/nhgis0002_ds244_20195_tract.csv\",encoding='latin-1')\n",
    "edudat_2014_2018 = pd.read_csv(\"/Users/benedictjung/Desktop/STAT349/nhgis0002_csv/nhgis0002_ds239_20185_tract.csv\",encoding='latin-1')\n",
    "edudat_2010_2014 = pd.read_csv(\"/Users/benedictjung/Desktop/STAT349/nhgis0002_csv/nhgis0002_ds206_20145_tract.csv\",encoding='latin-1')\n",
    "rt_dat_E = pd.read_csv(\"/Users/benedictjung/Desktop/STAT349/nhgis0005_csv/nhgis0003_ds244_20195_tract_E.csv\",encoding='latin-1')\n",
    "rt_dat_ME = pd.read_csv(\"/Users/benedictjung/Desktop/STAT349/nhgis0005_csv/nhgis0003_ds244_20195_tract_M.csv\",encoding='latin-1')\n",
    "d_dat_E = pd.read_csv(\"/Users/benedictjung/Desktop/STAT349/nhgis0005_csv/nhgis0003_ds245_20195_tract_E.csv\",encoding='latin-1')\n",
    "d_dat_ME = pd.read_csv(\"/Users/benedictjung/Desktop/STAT349/nhgis0005_csv/nhgis0003_ds245_20195_tract_M.csv\",encoding='latin-1')\n",
    "dat_2020_q1 = pd.read_csv(\"/Users/benedictjung/Downloads/Divvy_Trips_2020_Q1_data.csv\")\n",
    "tracts_dat = pd.read_csv(\"/Users/benedictjung/Desktop/STAT349/nhgis0002_csv/CensusTractsTIGER2010.csv\")"
   ]
  },
  {
   "cell_type": "code",
   "execution_count": 116,
   "metadata": {},
   "outputs": [],
   "source": [
    "tract_list = []\n",
    "for i in tracts_dat.TRACTCE10.unique():\n",
    "    tract_list.append(i)"
   ]
  },
  {
   "cell_type": "code",
   "execution_count": 117,
   "metadata": {},
   "outputs": [],
   "source": [
    "edudat_2015_2019.dropna(axis=1, how='all', inplace=True)\n",
    "edudat_2015_2019 = edudat_2015_2019[edudat_2015_2019[\"STATE\"] == \"Illinois\"]\n",
    "edudat_2015_2019 = edudat_2015_2019.reset_index(drop=True)\n",
    "\n",
    "for i in range(edudat_2015_2019.shape[0]):\n",
    "    if edudat_2015_2019.loc[i,\"TRACTA\"] not in tract_list:\n",
    "        edudat_2015_2019 = edudat_2015_2019.drop(i)\n",
    "\n"
   ]
  },
  {
   "cell_type": "code",
   "execution_count": 118,
   "metadata": {},
   "outputs": [],
   "source": [
    "column_dict_2015_2019 = {\"GISJOIN\":     \"GIS Join Match Code\",\n",
    "        \"YEAR\":        \"Data File Year\",\n",
    "        \"STUSAB\":      \"State Postal Abbreviation\",\n",
    "        \"REGIONA\":     \"Region Code\",\n",
    "        \"DIVISIONA\":   \"Division Code\",\n",
    "        \"STATE\":       \"State Name\",\n",
    "        \"STATEA\":      \"State Code\",\n",
    "        \"COUNTY\":      \"County Name\",\n",
    "        \"COUNTYA\":     \"County Code\",\n",
    "        \"COUSUBA\":     \"County Subdivision Code\",\n",
    "        \"PLACEA\":      \"Place Code\",\n",
    "        \"TRACTA\":      \"Census Tract Code\",\n",
    "        \"BLKGRPA\":     \"Block Group Code\",\n",
    "        \"CONCITA\":     \"Consolidated City Code\",\n",
    "        \"AIANHHA\":     \"American Indian Area/Alaska Native Area/Hawaiian Home Land Code\",\n",
    "        \"RES_ONLYA\":   \"American Indian Area/Alaska Native Area (Reservation or Statistical Entity Only) Code\",\n",
    "        \"TRUSTA\":      \"American Indian Area (Off-Reservation Trust Land Only)/Hawaiian Home Land Code\",\n",
    "        \"AIHHTLI\":     \"American Indian Trust Land/ Hawaiian Home Land Indicator\",\n",
    "        \"AITS\":        \"American Indian Tribal Subdivision (FIPS)\",\n",
    "        \"ANRCA\":       \"Alaska Native Regional Corporation Code\",\n",
    "        \"CBSAA\":       \"Metropolitan Statistical Area/Micropolitan Statistical Area Code\",\n",
    "        \"CSAA\":        \"Combined Statistical Area Code\",\n",
    "        \"METDIVA\":     \"Metropolitan Division Code\",\n",
    "        \"MEMI\":        \"Metropolitan/Micropolitan Indicator Flag\",\n",
    "        \"NECTAA\":      \"New England City and Town Area Code\",\n",
    "        \"CNECTAA\":     \"Combined New England City and Town Area Code\",\n",
    "        \"NECTADIVA\":   \"New England City and Town Area Division Code\",\n",
    "        \"UAA\":         \"Urban Area Code\",\n",
    "        \"CDCURRA\":     \"Congressional District (2019-2021, 116th Congress) Code\",\n",
    "        \"SLDUA\":       \"State Legislative District (Upper Chamber) Code\",\n",
    "        \"SLDLA\":       \"State Legislative District (Lower Chamber) Code\",\n",
    "        \"ZCTA5A\":      \"5-Digit ZIP Code Tabulation Area Code\",\n",
    "        \"SUBMCDA\":     \"Subminor Civil Division Code\",\n",
    "        \"SDELMA\":      \"School District (Elementary)/Remainder Code\",\n",
    "        \"SDSECA\":      \"School District (Secondary)/Remainder Code\",\n",
    "        \"SDUNIA\":      \"School District (Unified)/Remainder Code\",\n",
    "        \"UR\":          \"Urban/Rural\",\n",
    "        \"PCI\":         \"Principal City Indicator\",\n",
    "        \"PUMA5A\":      \"Public Use Microdata Sample Area (PUMA) Code\",\n",
    "        \"GEOID\":       \"Census Geographic Identifier\",\n",
    "        \"BTTRA\":       \"Tribal Census Tract Code\",\n",
    "        \"BTBGA\":       \"Tribal Block Group Code\",\n",
    "        \"NAME_E\":      \"Area Name\",\n",
    "        \"ALWGE001\":    \"Education Total (Estimate)\",\n",
    "        \"ALWGE002\":    \"No schooling completed (Estimate)\",\n",
    "        \"ALWGE003\":    \"Nursery school (Estimate)\",\n",
    "        \"ALWGE004\":    \"Kindergarten (Estimate)\",\n",
    "        \"ALWGE005\":    \"1st grade (Estimate)\",\n",
    "        \"ALWGE006\":    \"2nd grade (Estimate)\",\n",
    "        \"ALWGE007\":    \"3rd grade (Estimate)\",\n",
    "        \"ALWGE008\":    \"4th grade (Estimate)\",\n",
    "        \"ALWGE009\":    \"5th grade (Estimate)\",\n",
    "        \"ALWGE010\":    \"6th grade (Estimate)\",\n",
    "        \"ALWGE011\":    \"7th grade (Estimate)\",\n",
    "        \"ALWGE012\":    \"8th grade (Estimate)\",\n",
    "        \"ALWGE013\":    \"9th grade (Estimate)\",\n",
    "        \"ALWGE014\":    \"10th grade (Estimate)\",\n",
    "        \"ALWGE015\":    \"11th grade (Estimate)\",\n",
    "        \"ALWGE016\":    \"12th grade, no diploma (Estimate)\",\n",
    "        \"ALWGE017\":    \"Regular high school diploma (Estimate)\",\n",
    "        \"ALWGE018\":    \"GED or alternative credential (Estimate)\",\n",
    "        \"ALWGE019\":    \"Some college, less than 1 year (Estimate)\",\n",
    "        \"ALWGE020\":    \"Some college, 1 or more years, no degree (Estimate)\",\n",
    "        \"ALWGE021\":    \"Associate's degree (Estimate)\",\n",
    "        \"ALWGE022\":    \"Bachelor's degree (Estimate)\",\n",
    "        \"ALWGE023\":    \"Master's degree (Estimate)\",\n",
    "        \"ALWGE024\":    \"Professional school degree (Estimate)\",\n",
    "        \"ALWGE025\":    \"Doctorate degree (Estimate)\",\n",
    "        \"NAME_M\":      \"Area Name (Margin of Error)\",\n",
    "        \"ALWGM001\":    \"Education Total (Margin of Error)\",\n",
    "        \"ALWGM002\":    \"No schooling completed (Margin of Error)\",\n",
    "        \"ALWGM003\":    \"Nursery school (Margin of Error)\",\n",
    "        \"ALWGM004\":    \"Kindergarten (Margin of Error)\",\n",
    "        \"ALWGM005\":    \"1st grade (Margin of Error)\",\n",
    "        \"ALWGM006\":    \"2nd grade (Margin of Error)\",\n",
    "        \"ALWGM007\":    \"3rd grade (Margin of Error)\",\n",
    "        \"ALWGM008\":    \"4th grade (Margin of Error)\",\n",
    "        \"ALWGM009\":    \"5th grade (Margin of Error)\",\n",
    "        \"ALWGM010\":    \"6th grade (Margin of Error)\",\n",
    "        \"ALWGM011\":    \"7th grade (Margin of Error)\",\n",
    "        \"ALWGM012\":    \"8th grade (Margin of Error)\",\n",
    "        \"ALWGM013\":    \"9th grade (Margin of Error)\",\n",
    "        \"ALWGM014\":    \"10th grade (Margin of Error)\",\n",
    "        \"ALWGM015\":    \"11th grade (Margin of Error)\",\n",
    "        \"ALWGM016\":    \"12th grade, no diploma (Margin of Error)\",\n",
    "        \"ALWGM017\":    \"Regular high school diploma (Margin of Error)\",\n",
    "        \"ALWGM018\":    \"GED or alternative credential (Margin of Error)\",\n",
    "        \"ALWGM019\":    \"Some college, less than 1 year (Margin of Error)\",\n",
    "        \"ALWGM020\":    \"Some college, 1 or more years, no degree (Margin of Error)\",\n",
    "        \"ALWGM021\":    \"Associate's degree (Margin of Error)\",\n",
    "        \"ALWGM022\":    \"Bachelor's degree (Margin of Error)\",\n",
    "        \"ALWGM023\":    \"Master's degree (Margin of Error)\",\n",
    "        \"ALWGM024\":    \"Professional school degree (Margin of Error)\",\n",
    "        \"ALWGM025\":    \"Doctorate degree (Margin of Error)\"\n",
    "              }"
   ]
  },
  {
   "cell_type": "code",
   "execution_count": 119,
   "metadata": {},
   "outputs": [],
   "source": [
    "col_names = []\n",
    "for i in edudat_2015_2019:\n",
    "    col_names.append(i)"
   ]
  },
  {
   "cell_type": "code",
   "execution_count": 120,
   "metadata": {},
   "outputs": [],
   "source": [
    "for i in range(len(col_names)):\n",
    "    col_names[i] = column_dict_2015_2019[col_names[i]]"
   ]
  },
  {
   "cell_type": "code",
   "execution_count": 121,
   "metadata": {},
   "outputs": [],
   "source": [
    "edudat_2015_2019.columns = col_names"
   ]
  },
  {
   "cell_type": "code",
   "execution_count": 122,
   "metadata": {},
   "outputs": [
    {
     "output_type": "execute_result",
     "data": {
      "text/plain": "     GIS Join Match Code Data File Year State Postal Abbreviation State Name  \\\n12        G1700010010100      2015-2019                        IL   Illinois   \n14        G1700010010300      2015-2019                        IL   Illinois   \n15        G1700010010400      2015-2019                        IL   Illinois   \n17        G1700010010600      2015-2019                        IL   Illinois   \n26        G1700070010100      2015-2019                        IL   Illinois   \n...                  ...            ...                       ...        ...   \n3113      G1702010980000      2015-2019                        IL   Illinois   \n3115      G1702030030200      2015-2019                        IL   Illinois   \n3116      G1702030030300      2015-2019                        IL   Illinois   \n3117      G1702030030400      2015-2019                        IL   Illinois   \n3120      G1702030030601      2015-2019                        IL   Illinois   \n\n      State Code       County Name  County Code  Census Tract Code  \\\n12            17      Adams County            1              10100   \n14            17      Adams County            1              10300   \n15            17      Adams County            1              10400   \n17            17      Adams County            1              10600   \n26            17      Boone County            7              10100   \n...          ...               ...          ...                ...   \n3113          17  Winnebago County          201             980000   \n3115          17   Woodford County          203              30200   \n3116          17   Woodford County          203              30300   \n3117          17   Woodford County          203              30400   \n3120          17   Woodford County          203              30601   \n\n     Census Geographic Identifier  \\\n12             14000US17001010100   \n14             14000US17001010300   \n15             14000US17001010400   \n17             14000US17001010600   \n26             14000US17007010100   \n...                           ...   \n3113           14000US17201980000   \n3115           14000US17203030200   \n3116           14000US17203030300   \n3117           14000US17203030400   \n3120           14000US17203030601   \n\n                                           Area Name  ...  \\\n12          Census Tract 101, Adams County, Illinois  ...   \n14          Census Tract 103, Adams County, Illinois  ...   \n15          Census Tract 104, Adams County, Illinois  ...   \n17          Census Tract 106, Adams County, Illinois  ...   \n26          Census Tract 101, Boone County, Illinois  ...   \n...                                              ...  ...   \n3113   Census Tract 9800, Winnebago County, Illinois  ...   \n3115     Census Tract 302, Woodford County, Illinois  ...   \n3116     Census Tract 303, Woodford County, Illinois  ...   \n3117     Census Tract 304, Woodford County, Illinois  ...   \n3120  Census Tract 306.01, Woodford County, Illinois  ...   \n\n      12th grade, no diploma (Margin of Error)  \\\n12                                          19   \n14                                          10   \n15                                          20   \n17                                          28   \n26                                         119   \n...                                        ...   \n3113                                        11   \n3115                                        26   \n3116                                        21   \n3117                                        34   \n3120                                        15   \n\n      Regular high school diploma (Margin of Error)  \\\n12                                              132   \n14                                              182   \n15                                              143   \n17                                              278   \n26                                              230   \n...                                             ...   \n3113                                             11   \n3115                                             89   \n3116                                             97   \n3117                                            165   \n3120                                            203   \n\n      GED or alternative credential (Margin of Error)  \\\n12                                                 41   \n14                                                 55   \n15                                                 26   \n17                                                 65   \n26                                                121   \n...                                               ...   \n3113                                               11   \n3115                                               17   \n3116                                               57   \n3117                                               44   \n3120                                               60   \n\n      Some college, less than 1 year (Margin of Error)  \\\n12                                                  46   \n14                                                 108   \n15                                                  68   \n17                                                 117   \n26                                                 128   \n...                                                ...   \n3113                                                11   \n3115                                                45   \n3116                                                64   \n3117                                               129   \n3120                                                89   \n\n      Some college, 1 or more years, no degree (Margin of Error)  \\\n12                                                   89            \n14                                                  136            \n15                                                  130            \n17                                                  201            \n26                                                  151            \n...                                                 ...            \n3113                                                 11            \n3115                                                 83            \n3116                                                 85            \n3117                                                180            \n3120                                                161            \n\n      Associate's degree (Margin of Error)  \\\n12                                      85   \n14                                     118   \n15                                      62   \n17                                     165   \n26                                      81   \n...                                    ...   \n3113                                     5   \n3115                                    67   \n3116                                    58   \n3117                                   121   \n3120                                   117   \n\n      Bachelor's degree (Margin of Error)  Master's degree (Margin of Error)  \\\n12                                     99                                 54   \n14                                    179                                 78   \n15                                    113                                101   \n17                                    221                                183   \n26                                    115                                103   \n...                                   ...                                ...   \n3113                                   11                                 11   \n3115                                   72                                 28   \n3116                                   77                                 37   \n3117                                  226                                120   \n3120                                  203                                197   \n\n      Professional school degree (Margin of Error)  \\\n12                                              17   \n14                                              26   \n15                                              15   \n17                                              48   \n26                                              18   \n...                                            ...   \n3113                                            11   \n3115                                             3   \n3116                                            26   \n3117                                            53   \n3120                                            16   \n\n      Doctorate degree (Margin of Error)  \n12                                     6  \n14                                    28  \n15                                    18  \n17                                    33  \n26                                    72  \n...                                  ...  \n3113                                  11  \n3115                                   8  \n3116                                  11  \n3117                                  25  \n3120                                  35  \n\n[913 rows x 61 columns]",
      "text/html": "<div>\n<style scoped>\n    .dataframe tbody tr th:only-of-type {\n        vertical-align: middle;\n    }\n\n    .dataframe tbody tr th {\n        vertical-align: top;\n    }\n\n    .dataframe thead th {\n        text-align: right;\n    }\n</style>\n<table border=\"1\" class=\"dataframe\">\n  <thead>\n    <tr style=\"text-align: right;\">\n      <th></th>\n      <th>GIS Join Match Code</th>\n      <th>Data File Year</th>\n      <th>State Postal Abbreviation</th>\n      <th>State Name</th>\n      <th>State Code</th>\n      <th>County Name</th>\n      <th>County Code</th>\n      <th>Census Tract Code</th>\n      <th>Census Geographic Identifier</th>\n      <th>Area Name</th>\n      <th>...</th>\n      <th>12th grade, no diploma (Margin of Error)</th>\n      <th>Regular high school diploma (Margin of Error)</th>\n      <th>GED or alternative credential (Margin of Error)</th>\n      <th>Some college, less than 1 year (Margin of Error)</th>\n      <th>Some college, 1 or more years, no degree (Margin of Error)</th>\n      <th>Associate's degree (Margin of Error)</th>\n      <th>Bachelor's degree (Margin of Error)</th>\n      <th>Master's degree (Margin of Error)</th>\n      <th>Professional school degree (Margin of Error)</th>\n      <th>Doctorate degree (Margin of Error)</th>\n    </tr>\n  </thead>\n  <tbody>\n    <tr>\n      <th>12</th>\n      <td>G1700010010100</td>\n      <td>2015-2019</td>\n      <td>IL</td>\n      <td>Illinois</td>\n      <td>17</td>\n      <td>Adams County</td>\n      <td>1</td>\n      <td>10100</td>\n      <td>14000US17001010100</td>\n      <td>Census Tract 101, Adams County, Illinois</td>\n      <td>...</td>\n      <td>19</td>\n      <td>132</td>\n      <td>41</td>\n      <td>46</td>\n      <td>89</td>\n      <td>85</td>\n      <td>99</td>\n      <td>54</td>\n      <td>17</td>\n      <td>6</td>\n    </tr>\n    <tr>\n      <th>14</th>\n      <td>G1700010010300</td>\n      <td>2015-2019</td>\n      <td>IL</td>\n      <td>Illinois</td>\n      <td>17</td>\n      <td>Adams County</td>\n      <td>1</td>\n      <td>10300</td>\n      <td>14000US17001010300</td>\n      <td>Census Tract 103, Adams County, Illinois</td>\n      <td>...</td>\n      <td>10</td>\n      <td>182</td>\n      <td>55</td>\n      <td>108</td>\n      <td>136</td>\n      <td>118</td>\n      <td>179</td>\n      <td>78</td>\n      <td>26</td>\n      <td>28</td>\n    </tr>\n    <tr>\n      <th>15</th>\n      <td>G1700010010400</td>\n      <td>2015-2019</td>\n      <td>IL</td>\n      <td>Illinois</td>\n      <td>17</td>\n      <td>Adams County</td>\n      <td>1</td>\n      <td>10400</td>\n      <td>14000US17001010400</td>\n      <td>Census Tract 104, Adams County, Illinois</td>\n      <td>...</td>\n      <td>20</td>\n      <td>143</td>\n      <td>26</td>\n      <td>68</td>\n      <td>130</td>\n      <td>62</td>\n      <td>113</td>\n      <td>101</td>\n      <td>15</td>\n      <td>18</td>\n    </tr>\n    <tr>\n      <th>17</th>\n      <td>G1700010010600</td>\n      <td>2015-2019</td>\n      <td>IL</td>\n      <td>Illinois</td>\n      <td>17</td>\n      <td>Adams County</td>\n      <td>1</td>\n      <td>10600</td>\n      <td>14000US17001010600</td>\n      <td>Census Tract 106, Adams County, Illinois</td>\n      <td>...</td>\n      <td>28</td>\n      <td>278</td>\n      <td>65</td>\n      <td>117</td>\n      <td>201</td>\n      <td>165</td>\n      <td>221</td>\n      <td>183</td>\n      <td>48</td>\n      <td>33</td>\n    </tr>\n    <tr>\n      <th>26</th>\n      <td>G1700070010100</td>\n      <td>2015-2019</td>\n      <td>IL</td>\n      <td>Illinois</td>\n      <td>17</td>\n      <td>Boone County</td>\n      <td>7</td>\n      <td>10100</td>\n      <td>14000US17007010100</td>\n      <td>Census Tract 101, Boone County, Illinois</td>\n      <td>...</td>\n      <td>119</td>\n      <td>230</td>\n      <td>121</td>\n      <td>128</td>\n      <td>151</td>\n      <td>81</td>\n      <td>115</td>\n      <td>103</td>\n      <td>18</td>\n      <td>72</td>\n    </tr>\n    <tr>\n      <th>...</th>\n      <td>...</td>\n      <td>...</td>\n      <td>...</td>\n      <td>...</td>\n      <td>...</td>\n      <td>...</td>\n      <td>...</td>\n      <td>...</td>\n      <td>...</td>\n      <td>...</td>\n      <td>...</td>\n      <td>...</td>\n      <td>...</td>\n      <td>...</td>\n      <td>...</td>\n      <td>...</td>\n      <td>...</td>\n      <td>...</td>\n      <td>...</td>\n      <td>...</td>\n      <td>...</td>\n    </tr>\n    <tr>\n      <th>3113</th>\n      <td>G1702010980000</td>\n      <td>2015-2019</td>\n      <td>IL</td>\n      <td>Illinois</td>\n      <td>17</td>\n      <td>Winnebago County</td>\n      <td>201</td>\n      <td>980000</td>\n      <td>14000US17201980000</td>\n      <td>Census Tract 9800, Winnebago County, Illinois</td>\n      <td>...</td>\n      <td>11</td>\n      <td>11</td>\n      <td>11</td>\n      <td>11</td>\n      <td>11</td>\n      <td>5</td>\n      <td>11</td>\n      <td>11</td>\n      <td>11</td>\n      <td>11</td>\n    </tr>\n    <tr>\n      <th>3115</th>\n      <td>G1702030030200</td>\n      <td>2015-2019</td>\n      <td>IL</td>\n      <td>Illinois</td>\n      <td>17</td>\n      <td>Woodford County</td>\n      <td>203</td>\n      <td>30200</td>\n      <td>14000US17203030200</td>\n      <td>Census Tract 302, Woodford County, Illinois</td>\n      <td>...</td>\n      <td>26</td>\n      <td>89</td>\n      <td>17</td>\n      <td>45</td>\n      <td>83</td>\n      <td>67</td>\n      <td>72</td>\n      <td>28</td>\n      <td>3</td>\n      <td>8</td>\n    </tr>\n    <tr>\n      <th>3116</th>\n      <td>G1702030030300</td>\n      <td>2015-2019</td>\n      <td>IL</td>\n      <td>Illinois</td>\n      <td>17</td>\n      <td>Woodford County</td>\n      <td>203</td>\n      <td>30300</td>\n      <td>14000US17203030300</td>\n      <td>Census Tract 303, Woodford County, Illinois</td>\n      <td>...</td>\n      <td>21</td>\n      <td>97</td>\n      <td>57</td>\n      <td>64</td>\n      <td>85</td>\n      <td>58</td>\n      <td>77</td>\n      <td>37</td>\n      <td>26</td>\n      <td>11</td>\n    </tr>\n    <tr>\n      <th>3117</th>\n      <td>G1702030030400</td>\n      <td>2015-2019</td>\n      <td>IL</td>\n      <td>Illinois</td>\n      <td>17</td>\n      <td>Woodford County</td>\n      <td>203</td>\n      <td>30400</td>\n      <td>14000US17203030400</td>\n      <td>Census Tract 304, Woodford County, Illinois</td>\n      <td>...</td>\n      <td>34</td>\n      <td>165</td>\n      <td>44</td>\n      <td>129</td>\n      <td>180</td>\n      <td>121</td>\n      <td>226</td>\n      <td>120</td>\n      <td>53</td>\n      <td>25</td>\n    </tr>\n    <tr>\n      <th>3120</th>\n      <td>G1702030030601</td>\n      <td>2015-2019</td>\n      <td>IL</td>\n      <td>Illinois</td>\n      <td>17</td>\n      <td>Woodford County</td>\n      <td>203</td>\n      <td>30601</td>\n      <td>14000US17203030601</td>\n      <td>Census Tract 306.01, Woodford County, Illinois</td>\n      <td>...</td>\n      <td>15</td>\n      <td>203</td>\n      <td>60</td>\n      <td>89</td>\n      <td>161</td>\n      <td>117</td>\n      <td>203</td>\n      <td>197</td>\n      <td>16</td>\n      <td>35</td>\n    </tr>\n  </tbody>\n</table>\n<p>913 rows × 61 columns</p>\n</div>"
     },
     "metadata": {},
     "execution_count": 122
    }
   ],
   "source": [
    "edudat_2015_2019"
   ]
  },
  {
   "cell_type": "code",
   "execution_count": 123,
   "metadata": {},
   "outputs": [
    {
     "output_type": "execute_result",
     "data": {
      "text/plain": "              GISJOIN       YEAR  REGIONA  DIVISIONA        STATE  STATEA  \\\n0      G0100010020100  2014-2018      NaN        NaN      Alabama       1   \n1      G0100010020200  2014-2018      NaN        NaN      Alabama       1   \n2      G0100010020300  2014-2018      NaN        NaN      Alabama       1   \n3      G0100010020400  2014-2018      NaN        NaN      Alabama       1   \n4      G0100010020500  2014-2018      NaN        NaN      Alabama       1   \n...               ...        ...      ...        ...          ...     ...   \n73996  G7201530750501  2014-2018      NaN        NaN  Puerto Rico      72   \n73997  G7201530750502  2014-2018      NaN        NaN  Puerto Rico      72   \n73998  G7201530750503  2014-2018      NaN        NaN  Puerto Rico      72   \n73999  G7201530750601  2014-2018      NaN        NaN  Puerto Rico      72   \n74000  G7201530750602  2014-2018      NaN        NaN  Puerto Rico      72   \n\n                COUNTY  COUNTYA  COUSUBA  PLACEA  ...  AJYPM016  AJYPM017  \\\n0       Autauga County        1      NaN     NaN  ...        12       124   \n1       Autauga County        1      NaN     NaN  ...        30       150   \n2       Autauga County        1      NaN     NaN  ...        34       202   \n3       Autauga County        1      NaN     NaN  ...        29       205   \n4       Autauga County        1      NaN     NaN  ...        77       326   \n...                ...      ...      ...     ...  ...       ...       ...   \n73996  Yauco Municipio      153      NaN     NaN  ...        61       271   \n73997  Yauco Municipio      153      NaN     NaN  ...         8        70   \n73998  Yauco Municipio      153      NaN     NaN  ...        17        98   \n73999  Yauco Municipio      153      NaN     NaN  ...        21       171   \n74000  Yauco Municipio      153      NaN     NaN  ...        19       340   \n\n       AJYPM018  AJYPM019  AJYPM020  AJYPM021  AJYPM022  AJYPM023  AJYPM024  \\\n0            41        23        68        41       103        55        23   \n1            50        47        86        40        72        28         8   \n2            75        73       155        75       109        84        12   \n3            60        82        94        90       149        74        37   \n4           145       139       289       239       364       266       166   \n...         ...       ...       ...       ...       ...       ...       ...   \n73996       116        91       150       104       266       150        59   \n73997        12        22        71        43       117        58        22   \n73998        14        12        60        72       183        66        14   \n73999        48        56       138       145       243        62        57   \n74000        37        20        27        62       115        39        14   \n\n       AJYPM025  \n0            16  \n1            10  \n2            32  \n3            40  \n4           153  \n...         ...  \n73996        19  \n73997        32  \n73998        20  \n73999        14  \n74000        14  \n\n[74001 rows x 88 columns]",
      "text/html": "<div>\n<style scoped>\n    .dataframe tbody tr th:only-of-type {\n        vertical-align: middle;\n    }\n\n    .dataframe tbody tr th {\n        vertical-align: top;\n    }\n\n    .dataframe thead th {\n        text-align: right;\n    }\n</style>\n<table border=\"1\" class=\"dataframe\">\n  <thead>\n    <tr style=\"text-align: right;\">\n      <th></th>\n      <th>GISJOIN</th>\n      <th>YEAR</th>\n      <th>REGIONA</th>\n      <th>DIVISIONA</th>\n      <th>STATE</th>\n      <th>STATEA</th>\n      <th>COUNTY</th>\n      <th>COUNTYA</th>\n      <th>COUSUBA</th>\n      <th>PLACEA</th>\n      <th>...</th>\n      <th>AJYPM016</th>\n      <th>AJYPM017</th>\n      <th>AJYPM018</th>\n      <th>AJYPM019</th>\n      <th>AJYPM020</th>\n      <th>AJYPM021</th>\n      <th>AJYPM022</th>\n      <th>AJYPM023</th>\n      <th>AJYPM024</th>\n      <th>AJYPM025</th>\n    </tr>\n  </thead>\n  <tbody>\n    <tr>\n      <th>0</th>\n      <td>G0100010020100</td>\n      <td>2014-2018</td>\n      <td>NaN</td>\n      <td>NaN</td>\n      <td>Alabama</td>\n      <td>1</td>\n      <td>Autauga County</td>\n      <td>1</td>\n      <td>NaN</td>\n      <td>NaN</td>\n      <td>...</td>\n      <td>12</td>\n      <td>124</td>\n      <td>41</td>\n      <td>23</td>\n      <td>68</td>\n      <td>41</td>\n      <td>103</td>\n      <td>55</td>\n      <td>23</td>\n      <td>16</td>\n    </tr>\n    <tr>\n      <th>1</th>\n      <td>G0100010020200</td>\n      <td>2014-2018</td>\n      <td>NaN</td>\n      <td>NaN</td>\n      <td>Alabama</td>\n      <td>1</td>\n      <td>Autauga County</td>\n      <td>1</td>\n      <td>NaN</td>\n      <td>NaN</td>\n      <td>...</td>\n      <td>30</td>\n      <td>150</td>\n      <td>50</td>\n      <td>47</td>\n      <td>86</td>\n      <td>40</td>\n      <td>72</td>\n      <td>28</td>\n      <td>8</td>\n      <td>10</td>\n    </tr>\n    <tr>\n      <th>2</th>\n      <td>G0100010020300</td>\n      <td>2014-2018</td>\n      <td>NaN</td>\n      <td>NaN</td>\n      <td>Alabama</td>\n      <td>1</td>\n      <td>Autauga County</td>\n      <td>1</td>\n      <td>NaN</td>\n      <td>NaN</td>\n      <td>...</td>\n      <td>34</td>\n      <td>202</td>\n      <td>75</td>\n      <td>73</td>\n      <td>155</td>\n      <td>75</td>\n      <td>109</td>\n      <td>84</td>\n      <td>12</td>\n      <td>32</td>\n    </tr>\n    <tr>\n      <th>3</th>\n      <td>G0100010020400</td>\n      <td>2014-2018</td>\n      <td>NaN</td>\n      <td>NaN</td>\n      <td>Alabama</td>\n      <td>1</td>\n      <td>Autauga County</td>\n      <td>1</td>\n      <td>NaN</td>\n      <td>NaN</td>\n      <td>...</td>\n      <td>29</td>\n      <td>205</td>\n      <td>60</td>\n      <td>82</td>\n      <td>94</td>\n      <td>90</td>\n      <td>149</td>\n      <td>74</td>\n      <td>37</td>\n      <td>40</td>\n    </tr>\n    <tr>\n      <th>4</th>\n      <td>G0100010020500</td>\n      <td>2014-2018</td>\n      <td>NaN</td>\n      <td>NaN</td>\n      <td>Alabama</td>\n      <td>1</td>\n      <td>Autauga County</td>\n      <td>1</td>\n      <td>NaN</td>\n      <td>NaN</td>\n      <td>...</td>\n      <td>77</td>\n      <td>326</td>\n      <td>145</td>\n      <td>139</td>\n      <td>289</td>\n      <td>239</td>\n      <td>364</td>\n      <td>266</td>\n      <td>166</td>\n      <td>153</td>\n    </tr>\n    <tr>\n      <th>...</th>\n      <td>...</td>\n      <td>...</td>\n      <td>...</td>\n      <td>...</td>\n      <td>...</td>\n      <td>...</td>\n      <td>...</td>\n      <td>...</td>\n      <td>...</td>\n      <td>...</td>\n      <td>...</td>\n      <td>...</td>\n      <td>...</td>\n      <td>...</td>\n      <td>...</td>\n      <td>...</td>\n      <td>...</td>\n      <td>...</td>\n      <td>...</td>\n      <td>...</td>\n      <td>...</td>\n    </tr>\n    <tr>\n      <th>73996</th>\n      <td>G7201530750501</td>\n      <td>2014-2018</td>\n      <td>NaN</td>\n      <td>NaN</td>\n      <td>Puerto Rico</td>\n      <td>72</td>\n      <td>Yauco Municipio</td>\n      <td>153</td>\n      <td>NaN</td>\n      <td>NaN</td>\n      <td>...</td>\n      <td>61</td>\n      <td>271</td>\n      <td>116</td>\n      <td>91</td>\n      <td>150</td>\n      <td>104</td>\n      <td>266</td>\n      <td>150</td>\n      <td>59</td>\n      <td>19</td>\n    </tr>\n    <tr>\n      <th>73997</th>\n      <td>G7201530750502</td>\n      <td>2014-2018</td>\n      <td>NaN</td>\n      <td>NaN</td>\n      <td>Puerto Rico</td>\n      <td>72</td>\n      <td>Yauco Municipio</td>\n      <td>153</td>\n      <td>NaN</td>\n      <td>NaN</td>\n      <td>...</td>\n      <td>8</td>\n      <td>70</td>\n      <td>12</td>\n      <td>22</td>\n      <td>71</td>\n      <td>43</td>\n      <td>117</td>\n      <td>58</td>\n      <td>22</td>\n      <td>32</td>\n    </tr>\n    <tr>\n      <th>73998</th>\n      <td>G7201530750503</td>\n      <td>2014-2018</td>\n      <td>NaN</td>\n      <td>NaN</td>\n      <td>Puerto Rico</td>\n      <td>72</td>\n      <td>Yauco Municipio</td>\n      <td>153</td>\n      <td>NaN</td>\n      <td>NaN</td>\n      <td>...</td>\n      <td>17</td>\n      <td>98</td>\n      <td>14</td>\n      <td>12</td>\n      <td>60</td>\n      <td>72</td>\n      <td>183</td>\n      <td>66</td>\n      <td>14</td>\n      <td>20</td>\n    </tr>\n    <tr>\n      <th>73999</th>\n      <td>G7201530750601</td>\n      <td>2014-2018</td>\n      <td>NaN</td>\n      <td>NaN</td>\n      <td>Puerto Rico</td>\n      <td>72</td>\n      <td>Yauco Municipio</td>\n      <td>153</td>\n      <td>NaN</td>\n      <td>NaN</td>\n      <td>...</td>\n      <td>21</td>\n      <td>171</td>\n      <td>48</td>\n      <td>56</td>\n      <td>138</td>\n      <td>145</td>\n      <td>243</td>\n      <td>62</td>\n      <td>57</td>\n      <td>14</td>\n    </tr>\n    <tr>\n      <th>74000</th>\n      <td>G7201530750602</td>\n      <td>2014-2018</td>\n      <td>NaN</td>\n      <td>NaN</td>\n      <td>Puerto Rico</td>\n      <td>72</td>\n      <td>Yauco Municipio</td>\n      <td>153</td>\n      <td>NaN</td>\n      <td>NaN</td>\n      <td>...</td>\n      <td>19</td>\n      <td>340</td>\n      <td>37</td>\n      <td>20</td>\n      <td>27</td>\n      <td>62</td>\n      <td>115</td>\n      <td>39</td>\n      <td>14</td>\n      <td>14</td>\n    </tr>\n  </tbody>\n</table>\n<p>74001 rows × 88 columns</p>\n</div>"
     },
     "metadata": {},
     "execution_count": 123
    }
   ],
   "source": [
    "edudat_2014_2018"
   ]
  },
  {
   "cell_type": "code",
   "execution_count": 124,
   "metadata": {},
   "outputs": [
    {
     "output_type": "execute_result",
     "data": {
      "text/plain": "Index(['GISJOIN', 'YEAR', 'REGIONA', 'DIVISIONA', 'STATE', 'STATEA', 'COUNTY',\n       'COUNTYA', 'COUSUBA', 'PLACEA', 'TRACTA', 'BLKGRPA', 'CONCITA',\n       'AIANHHA', 'RES_ONLYA', 'TRUSTA', 'AITSCEA', 'ANRCA', 'CBSAA', 'CSAA',\n       'METDIVA', 'NECTAA', 'CNECTAA', 'NECTADIVA', 'UAA', 'CDCURRA', 'SLDUA',\n       'SLDLA', 'ZCTA5A', 'SUBMCDA', 'SDELMA', 'SDSECA', 'SDUNIA', 'PUMA5A',\n       'BTTRA', 'BTBGA', 'NAME_E', 'AJYPE001', 'AJYPE002', 'AJYPE003',\n       'AJYPE004', 'AJYPE005', 'AJYPE006', 'AJYPE007', 'AJYPE008', 'AJYPE009',\n       'AJYPE010', 'AJYPE011', 'AJYPE012', 'AJYPE013', 'AJYPE014', 'AJYPE015',\n       'AJYPE016', 'AJYPE017', 'AJYPE018', 'AJYPE019', 'AJYPE020', 'AJYPE021',\n       'AJYPE022', 'AJYPE023', 'AJYPE024', 'AJYPE025', 'NAME_M', 'AJYPM001',\n       'AJYPM002', 'AJYPM003', 'AJYPM004', 'AJYPM005', 'AJYPM006', 'AJYPM007',\n       'AJYPM008', 'AJYPM009', 'AJYPM010', 'AJYPM011', 'AJYPM012', 'AJYPM013',\n       'AJYPM014', 'AJYPM015', 'AJYPM016', 'AJYPM017', 'AJYPM018', 'AJYPM019',\n       'AJYPM020', 'AJYPM021', 'AJYPM022', 'AJYPM023', 'AJYPM024', 'AJYPM025'],\n      dtype='object')"
     },
     "metadata": {},
     "execution_count": 124
    }
   ],
   "source": [
    "edudat_2014_2018.columns"
   ]
  },
  {
   "cell_type": "code",
   "execution_count": 125,
   "metadata": {},
   "outputs": [],
   "source": [
    "edudat_2014_2018.dropna(axis=1, how='all', inplace=True)\n",
    "edudat_2014_2018 = edudat_2014_2018[edudat_2014_2018[\"STATE\"] == \"Illinois\"]\n",
    "edudat_2014_2018 = edudat_2014_2018.reset_index(drop=True)\n",
    "\n",
    "for i in range(edudat_2014_2018.shape[0]):\n",
    "    if edudat_2014_2018.loc[i,\"TRACTA\"] not in tract_list:\n",
    "        edudat_2014_2018 = edudat_2014_2018.drop(i)"
   ]
  },
  {
   "cell_type": "code",
   "execution_count": 126,
   "metadata": {},
   "outputs": [
    {
     "output_type": "execute_result",
     "data": {
      "text/plain": "             GISJOIN       YEAR     STATE  STATEA            COUNTY  COUNTYA  \\\n12    G1700010010100  2014-2018  Illinois      17      Adams County        1   \n14    G1700010010300  2014-2018  Illinois      17      Adams County        1   \n15    G1700010010400  2014-2018  Illinois      17      Adams County        1   \n17    G1700010010600  2014-2018  Illinois      17      Adams County        1   \n26    G1700070010100  2014-2018  Illinois      17      Boone County        7   \n...              ...        ...       ...     ...               ...      ...   \n3113  G1702010980000  2014-2018  Illinois      17  Winnebago County      201   \n3115  G1702030030200  2014-2018  Illinois      17   Woodford County      203   \n3116  G1702030030300  2014-2018  Illinois      17   Woodford County      203   \n3117  G1702030030400  2014-2018  Illinois      17   Woodford County      203   \n3120  G1702030030601  2014-2018  Illinois      17   Woodford County      203   \n\n      TRACTA                                          NAME_E  AJYPE001  \\\n12     10100        Census Tract 101, Adams County, Illinois      3134   \n14     10300        Census Tract 103, Adams County, Illinois      4021   \n15     10400        Census Tract 104, Adams County, Illinois      2435   \n17     10600        Census Tract 106, Adams County, Illinois      4168   \n26     10100        Census Tract 101, Boone County, Illinois      4650   \n...      ...                                             ...       ...   \n3113  980000   Census Tract 9800, Winnebago County, Illinois         4   \n3115   30200     Census Tract 302, Woodford County, Illinois      2003   \n3116   30300     Census Tract 303, Woodford County, Illinois      1960   \n3117   30400     Census Tract 304, Woodford County, Illinois      3671   \n3120   30601  Census Tract 306.01, Woodford County, Illinois      4323   \n\n      AJYPE002  ...  AJYPM016  AJYPM017  AJYPM018  AJYPM019  AJYPM020  \\\n12           6  ...        21       138        57        60       100   \n14          12  ...         8       215        55        96       116   \n15           0  ...        14       133        31        89       119   \n17          23  ...         4       220        50       150       193   \n26          99  ...       102       234       124       113       185   \n...        ...  ...       ...       ...       ...       ...       ...   \n3113         0  ...        11        11        11        11        11   \n3115         4  ...        14        95        19        45        73   \n3116         0  ...        20       123        24        55       104   \n3117         7  ...        54       191        40       134       177   \n3120         0  ...        15       276        49        91       171   \n\n      AJYPM021  AJYPM022  AJYPM023  AJYPM024  AJYPM025  \n12          75        89        47        17         4  \n14         109       191        95        20        30  \n15          60        95       105        22        29  \n17         160       228       191        57        37  \n26          83       163        97        69        85  \n...        ...       ...       ...       ...       ...  \n3113         5        11        11        11        11  \n3115        79        60        36         3         7  \n3116        65        78        52        21         8  \n3117       118       190       117        43        28  \n3120       115       205       195        15        42  \n\n[913 rows x 59 columns]",
      "text/html": "<div>\n<style scoped>\n    .dataframe tbody tr th:only-of-type {\n        vertical-align: middle;\n    }\n\n    .dataframe tbody tr th {\n        vertical-align: top;\n    }\n\n    .dataframe thead th {\n        text-align: right;\n    }\n</style>\n<table border=\"1\" class=\"dataframe\">\n  <thead>\n    <tr style=\"text-align: right;\">\n      <th></th>\n      <th>GISJOIN</th>\n      <th>YEAR</th>\n      <th>STATE</th>\n      <th>STATEA</th>\n      <th>COUNTY</th>\n      <th>COUNTYA</th>\n      <th>TRACTA</th>\n      <th>NAME_E</th>\n      <th>AJYPE001</th>\n      <th>AJYPE002</th>\n      <th>...</th>\n      <th>AJYPM016</th>\n      <th>AJYPM017</th>\n      <th>AJYPM018</th>\n      <th>AJYPM019</th>\n      <th>AJYPM020</th>\n      <th>AJYPM021</th>\n      <th>AJYPM022</th>\n      <th>AJYPM023</th>\n      <th>AJYPM024</th>\n      <th>AJYPM025</th>\n    </tr>\n  </thead>\n  <tbody>\n    <tr>\n      <th>12</th>\n      <td>G1700010010100</td>\n      <td>2014-2018</td>\n      <td>Illinois</td>\n      <td>17</td>\n      <td>Adams County</td>\n      <td>1</td>\n      <td>10100</td>\n      <td>Census Tract 101, Adams County, Illinois</td>\n      <td>3134</td>\n      <td>6</td>\n      <td>...</td>\n      <td>21</td>\n      <td>138</td>\n      <td>57</td>\n      <td>60</td>\n      <td>100</td>\n      <td>75</td>\n      <td>89</td>\n      <td>47</td>\n      <td>17</td>\n      <td>4</td>\n    </tr>\n    <tr>\n      <th>14</th>\n      <td>G1700010010300</td>\n      <td>2014-2018</td>\n      <td>Illinois</td>\n      <td>17</td>\n      <td>Adams County</td>\n      <td>1</td>\n      <td>10300</td>\n      <td>Census Tract 103, Adams County, Illinois</td>\n      <td>4021</td>\n      <td>12</td>\n      <td>...</td>\n      <td>8</td>\n      <td>215</td>\n      <td>55</td>\n      <td>96</td>\n      <td>116</td>\n      <td>109</td>\n      <td>191</td>\n      <td>95</td>\n      <td>20</td>\n      <td>30</td>\n    </tr>\n    <tr>\n      <th>15</th>\n      <td>G1700010010400</td>\n      <td>2014-2018</td>\n      <td>Illinois</td>\n      <td>17</td>\n      <td>Adams County</td>\n      <td>1</td>\n      <td>10400</td>\n      <td>Census Tract 104, Adams County, Illinois</td>\n      <td>2435</td>\n      <td>0</td>\n      <td>...</td>\n      <td>14</td>\n      <td>133</td>\n      <td>31</td>\n      <td>89</td>\n      <td>119</td>\n      <td>60</td>\n      <td>95</td>\n      <td>105</td>\n      <td>22</td>\n      <td>29</td>\n    </tr>\n    <tr>\n      <th>17</th>\n      <td>G1700010010600</td>\n      <td>2014-2018</td>\n      <td>Illinois</td>\n      <td>17</td>\n      <td>Adams County</td>\n      <td>1</td>\n      <td>10600</td>\n      <td>Census Tract 106, Adams County, Illinois</td>\n      <td>4168</td>\n      <td>23</td>\n      <td>...</td>\n      <td>4</td>\n      <td>220</td>\n      <td>50</td>\n      <td>150</td>\n      <td>193</td>\n      <td>160</td>\n      <td>228</td>\n      <td>191</td>\n      <td>57</td>\n      <td>37</td>\n    </tr>\n    <tr>\n      <th>26</th>\n      <td>G1700070010100</td>\n      <td>2014-2018</td>\n      <td>Illinois</td>\n      <td>17</td>\n      <td>Boone County</td>\n      <td>7</td>\n      <td>10100</td>\n      <td>Census Tract 101, Boone County, Illinois</td>\n      <td>4650</td>\n      <td>99</td>\n      <td>...</td>\n      <td>102</td>\n      <td>234</td>\n      <td>124</td>\n      <td>113</td>\n      <td>185</td>\n      <td>83</td>\n      <td>163</td>\n      <td>97</td>\n      <td>69</td>\n      <td>85</td>\n    </tr>\n    <tr>\n      <th>...</th>\n      <td>...</td>\n      <td>...</td>\n      <td>...</td>\n      <td>...</td>\n      <td>...</td>\n      <td>...</td>\n      <td>...</td>\n      <td>...</td>\n      <td>...</td>\n      <td>...</td>\n      <td>...</td>\n      <td>...</td>\n      <td>...</td>\n      <td>...</td>\n      <td>...</td>\n      <td>...</td>\n      <td>...</td>\n      <td>...</td>\n      <td>...</td>\n      <td>...</td>\n      <td>...</td>\n    </tr>\n    <tr>\n      <th>3113</th>\n      <td>G1702010980000</td>\n      <td>2014-2018</td>\n      <td>Illinois</td>\n      <td>17</td>\n      <td>Winnebago County</td>\n      <td>201</td>\n      <td>980000</td>\n      <td>Census Tract 9800, Winnebago County, Illinois</td>\n      <td>4</td>\n      <td>0</td>\n      <td>...</td>\n      <td>11</td>\n      <td>11</td>\n      <td>11</td>\n      <td>11</td>\n      <td>11</td>\n      <td>5</td>\n      <td>11</td>\n      <td>11</td>\n      <td>11</td>\n      <td>11</td>\n    </tr>\n    <tr>\n      <th>3115</th>\n      <td>G1702030030200</td>\n      <td>2014-2018</td>\n      <td>Illinois</td>\n      <td>17</td>\n      <td>Woodford County</td>\n      <td>203</td>\n      <td>30200</td>\n      <td>Census Tract 302, Woodford County, Illinois</td>\n      <td>2003</td>\n      <td>4</td>\n      <td>...</td>\n      <td>14</td>\n      <td>95</td>\n      <td>19</td>\n      <td>45</td>\n      <td>73</td>\n      <td>79</td>\n      <td>60</td>\n      <td>36</td>\n      <td>3</td>\n      <td>7</td>\n    </tr>\n    <tr>\n      <th>3116</th>\n      <td>G1702030030300</td>\n      <td>2014-2018</td>\n      <td>Illinois</td>\n      <td>17</td>\n      <td>Woodford County</td>\n      <td>203</td>\n      <td>30300</td>\n      <td>Census Tract 303, Woodford County, Illinois</td>\n      <td>1960</td>\n      <td>0</td>\n      <td>...</td>\n      <td>20</td>\n      <td>123</td>\n      <td>24</td>\n      <td>55</td>\n      <td>104</td>\n      <td>65</td>\n      <td>78</td>\n      <td>52</td>\n      <td>21</td>\n      <td>8</td>\n    </tr>\n    <tr>\n      <th>3117</th>\n      <td>G1702030030400</td>\n      <td>2014-2018</td>\n      <td>Illinois</td>\n      <td>17</td>\n      <td>Woodford County</td>\n      <td>203</td>\n      <td>30400</td>\n      <td>Census Tract 304, Woodford County, Illinois</td>\n      <td>3671</td>\n      <td>7</td>\n      <td>...</td>\n      <td>54</td>\n      <td>191</td>\n      <td>40</td>\n      <td>134</td>\n      <td>177</td>\n      <td>118</td>\n      <td>190</td>\n      <td>117</td>\n      <td>43</td>\n      <td>28</td>\n    </tr>\n    <tr>\n      <th>3120</th>\n      <td>G1702030030601</td>\n      <td>2014-2018</td>\n      <td>Illinois</td>\n      <td>17</td>\n      <td>Woodford County</td>\n      <td>203</td>\n      <td>30601</td>\n      <td>Census Tract 306.01, Woodford County, Illinois</td>\n      <td>4323</td>\n      <td>0</td>\n      <td>...</td>\n      <td>15</td>\n      <td>276</td>\n      <td>49</td>\n      <td>91</td>\n      <td>171</td>\n      <td>115</td>\n      <td>205</td>\n      <td>195</td>\n      <td>15</td>\n      <td>42</td>\n    </tr>\n  </tbody>\n</table>\n<p>913 rows × 59 columns</p>\n</div>"
     },
     "metadata": {},
     "execution_count": 126
    }
   ],
   "source": [
    "edudat_2014_2018"
   ]
  },
  {
   "cell_type": "code",
   "execution_count": 127,
   "metadata": {},
   "outputs": [],
   "source": [
    "column_dict_2014_2018 = {\"GISJOIN\":     \"GIS Join Match Code\",\n",
    "        \"YEAR\":        \"Data File Year\",\n",
    "        \"REGIONA\":     \"Region Code\",\n",
    "        \"DIVISIONA\":   \"Division Code\",\n",
    "        \"STATE\":       \"State Name\",\n",
    "        \"STATEA\":      \"State Code\",\n",
    "        \"COUNTY\":      \"County Name\",\n",
    "        \"COUNTYA\":     \"County Code\",\n",
    "        \"COUSUBA\":     \"County Subdivision Code\",\n",
    "        \"PLACEA\":      \"Place Code\",\n",
    "        \"TRACTA\":      \"Census Tract Code\",\n",
    "        \"BLKGRPA\":     \"Block Group Code\",\n",
    "        \"CONCITA\":     \"Consolidated City Code\",\n",
    "        \"AIANHHA\":     \"American Indian Area/Alaska Native Area/Hawaiian Home Land Code\",\n",
    "        \"RES_ONLYA\":   \"American Indian Area/Alaska Native Area (Reservation or Statistical Entity Only) Code\",\n",
    "        \"TRUSTA\":      \"American Indian Area (Off-Reservation Trust Land Only)/Hawaiian Home Land Code\",\n",
    "        \"AITSCEA\":     \"Tribal Subdivision/Remainder Code\",\n",
    "        \"ANRCA\":       \"Alaska Native Regional Corporation Code\",\n",
    "        \"CBSAA\":       \"Metropolitan Statistical Area/Micropolitan Statistical Area Code\",\n",
    "        \"CSAA\":        \"Combined Statistical Area Code\",\n",
    "        \"METDIVA\":     \"Metropolitan Division Code\",\n",
    "        \"NECTAA\":      \"New England City and Town Area Code\",\n",
    "        \"CNECTAA\":     \"Combined New England City and Town Area Code\",\n",
    "        \"NECTADIVA\":   \"New England City and Town Area Division Code\",\n",
    "        \"UAA\":         \"Urban Area Code\",\n",
    "        \"CDCURRA\":     \"Congressional District (2019-2021, 116th Congress) Code\",\n",
    "        \"SLDUA\":       \"State Legislative District (Upper Chamber) Code\",\n",
    "        \"SLDLA\":       \"State Legislative District (Lower Chamber) Code\",\n",
    "        \"ZCTA5A\":      \"5-Digit ZIP Code Tabulation Area Code\",\n",
    "        \"SUBMCDA\":     \"Subminor Civil Division Code\",\n",
    "        \"SDELMA\":      \"School District (Elementary)/Remainder Code\",\n",
    "        \"SDSECA\":      \"School District (Secondary)/Remainder Code\",\n",
    "        \"SDUNIA\":      \"School District (Unified)/Remainder Code\",\n",
    "        \"PUMA5A\":      \"Public Use Microdata Sample Area (PUMA) Code\",\n",
    "        \"BTTRA\":       \"Tribal Census Tract Code\",\n",
    "        \"BTBGA\":       \"Tribal Block Group Code\",\n",
    "        \"NAME_E\":      \"Area Name (Estimate)\",\n",
    "        \"AJYPE001\":    \"Education Total (Estimate)\",\n",
    "        \"AJYPE002\":    \"No schooling completed (Estimate)\",\n",
    "        \"AJYPE003\":    \"Nursery school (Estimate)\",\n",
    "        \"AJYPE004\":    \"Kindergarten (Estimate)\",\n",
    "        \"AJYPE005\":    \"1st grade (Estimate)\",\n",
    "        \"AJYPE006\":    \"2nd grade (Estimate)\",\n",
    "        \"AJYPE007\":    \"3rd grade (Estimate)\",\n",
    "        \"AJYPE008\":    \"4th grade (Estimate)\",\n",
    "        \"AJYPE009\":    \"5th grade (Estimate)\",\n",
    "        \"AJYPE010\":    \"6th grade (Estimate)\",\n",
    "        \"AJYPE011\":    \"7th grade (Estimate)\",\n",
    "        \"AJYPE012\":    \"8th grade (Estimate)\",\n",
    "        \"AJYPE013\":    \"9th grade (Estimate)\",\n",
    "        \"AJYPE014\":    \"10th grade (Estimate)\",\n",
    "        \"AJYPE015\":    \"11th grade (Estimate)\",\n",
    "        \"AJYPE016\":    \"12th grade, no diploma (Estimate)\",\n",
    "        \"AJYPE017\":    \"Regular high school diploma (Estimate)\",\n",
    "        \"AJYPE018\":    \"GED or alternative credential (Estimate)\",\n",
    "        \"AJYPE019\":    \"Some college, less than 1 year (Estimate)\",\n",
    "        \"AJYPE020\":    \"Some college, 1 or more years, no degree (Estimate)\",\n",
    "        \"AJYPE021\":    \"Associate's degree (Estimate)\",\n",
    "        \"AJYPE022\":    \"Bachelor's degree (Estimate)\",\n",
    "        \"AJYPE023\":    \"Master's degree (Estimate)\",\n",
    "        \"AJYPE024\":    \"Professional school degree (Estimate)\",\n",
    "        \"AJYPE025\":    \"Doctorate degree (Estimate)\",\n",
    "        \"NAME_M\":      \"Area Name (Margin of Error)\",\n",
    "        \"AJYPM001\":    \"Education Total (Margin of Error)\",\n",
    "        \"AJYPM002\":    \"No schooling completed (Margin of Error)\",\n",
    "        \"AJYPM003\":    \"Nursery school (Margin of Error)\",\n",
    "        \"AJYPM004\":    \"Kindergarten (Margin of Error)\",\n",
    "        \"AJYPM005\":    \"1st grade (Margin of Error)\",\n",
    "        \"AJYPM006\":    \"2nd grade (Margin of Error)\",\n",
    "        \"AJYPM007\":    \"3rd grade (Margin of Error)\",\n",
    "        \"AJYPM008\":    \"4th grade (Margin of Error)\",\n",
    "        \"AJYPM009\":    \"5th grade (Margin of Error)\",\n",
    "        \"AJYPM010\":    \"6th grade (Margin of Error)\",\n",
    "        \"AJYPM011\":    \"7th grade (Margin of Error)\",\n",
    "        \"AJYPM012\":    \"8th grade (Margin of Error)\",\n",
    "        \"AJYPM013\":    \"9th grade (Margin of Error)\",\n",
    "        \"AJYPM014\":    \"10th grade (Margin of Error)\",\n",
    "        \"AJYPM015\":    \"11th grade (Margin of Error)\",\n",
    "        \"AJYPM016\":    \"12th grade, no diploma (Margin of Error)\",\n",
    "        \"AJYPM017\":    \"Regular high school diploma (Margin of Error)\",\n",
    "        \"AJYPM018\":    \"GED or alternative credential (Margin of Error)\",\n",
    "        \"AJYPM019\":    \"Some college, less than 1 year (Margin of Error)\",\n",
    "        \"AJYPM020\":    \"Some college, 1 or more years, no degree (Margin of Error)\",\n",
    "        \"AJYPM021\":    \"Associate's degree (Margin of Error)\",\n",
    "        \"AJYPM022\":    \"Bachelor's degree (Margin of Error)\",\n",
    "        \"AJYPM023\":    \"Master's degree (Margin of Error)\",\n",
    "        \"AJYPM024\":    \"Professional school degree (Margin of Error)\",\n",
    "        \"AJYPM025\":    \"Doctorate degree (Margin of Error)\"\n",
    "}"
   ]
  },
  {
   "cell_type": "code",
   "execution_count": 128,
   "metadata": {},
   "outputs": [],
   "source": [
    "col_names = []\n",
    "for i in edudat_2014_2018:\n",
    "    col_names.append(i)"
   ]
  },
  {
   "cell_type": "code",
   "execution_count": 129,
   "metadata": {},
   "outputs": [],
   "source": [
    "for i in range(len(col_names)):\n",
    "    col_names[i] = column_dict_2014_2018[col_names[i]]\n",
    "edudat_2014_2018.columns = col_names"
   ]
  },
  {
   "cell_type": "code",
   "execution_count": 130,
   "metadata": {},
   "outputs": [
    {
     "output_type": "execute_result",
     "data": {
      "text/plain": "     GIS Join Match Code Data File Year State Name  State Code  \\\n12        G1700010010100      2014-2018   Illinois          17   \n14        G1700010010300      2014-2018   Illinois          17   \n15        G1700010010400      2014-2018   Illinois          17   \n17        G1700010010600      2014-2018   Illinois          17   \n26        G1700070010100      2014-2018   Illinois          17   \n...                  ...            ...        ...         ...   \n3113      G1702010980000      2014-2018   Illinois          17   \n3115      G1702030030200      2014-2018   Illinois          17   \n3116      G1702030030300      2014-2018   Illinois          17   \n3117      G1702030030400      2014-2018   Illinois          17   \n3120      G1702030030601      2014-2018   Illinois          17   \n\n           County Name  County Code  Census Tract Code  \\\n12        Adams County            1              10100   \n14        Adams County            1              10300   \n15        Adams County            1              10400   \n17        Adams County            1              10600   \n26        Boone County            7              10100   \n...                ...          ...                ...   \n3113  Winnebago County          201             980000   \n3115   Woodford County          203              30200   \n3116   Woodford County          203              30300   \n3117   Woodford County          203              30400   \n3120   Woodford County          203              30601   \n\n                                Area Name (Estimate)  \\\n12          Census Tract 101, Adams County, Illinois   \n14          Census Tract 103, Adams County, Illinois   \n15          Census Tract 104, Adams County, Illinois   \n17          Census Tract 106, Adams County, Illinois   \n26          Census Tract 101, Boone County, Illinois   \n...                                              ...   \n3113   Census Tract 9800, Winnebago County, Illinois   \n3115     Census Tract 302, Woodford County, Illinois   \n3116     Census Tract 303, Woodford County, Illinois   \n3117     Census Tract 304, Woodford County, Illinois   \n3120  Census Tract 306.01, Woodford County, Illinois   \n\n      Education Total (Estimate)  No schooling completed (Estimate)  ...  \\\n12                          3134                                  6  ...   \n14                          4021                                 12  ...   \n15                          2435                                  0  ...   \n17                          4168                                 23  ...   \n26                          4650                                 99  ...   \n...                          ...                                ...  ...   \n3113                           4                                  0  ...   \n3115                        2003                                  4  ...   \n3116                        1960                                  0  ...   \n3117                        3671                                  7  ...   \n3120                        4323                                  0  ...   \n\n      12th grade, no diploma (Margin of Error)  \\\n12                                          21   \n14                                           8   \n15                                          14   \n17                                           4   \n26                                         102   \n...                                        ...   \n3113                                        11   \n3115                                        14   \n3116                                        20   \n3117                                        54   \n3120                                        15   \n\n      Regular high school diploma (Margin of Error)  \\\n12                                              138   \n14                                              215   \n15                                              133   \n17                                              220   \n26                                              234   \n...                                             ...   \n3113                                             11   \n3115                                             95   \n3116                                            123   \n3117                                            191   \n3120                                            276   \n\n      GED or alternative credential (Margin of Error)  \\\n12                                                 57   \n14                                                 55   \n15                                                 31   \n17                                                 50   \n26                                                124   \n...                                               ...   \n3113                                               11   \n3115                                               19   \n3116                                               24   \n3117                                               40   \n3120                                               49   \n\n      Some college, less than 1 year (Margin of Error)  \\\n12                                                  60   \n14                                                  96   \n15                                                  89   \n17                                                 150   \n26                                                 113   \n...                                                ...   \n3113                                                11   \n3115                                                45   \n3116                                                55   \n3117                                               134   \n3120                                                91   \n\n      Some college, 1 or more years, no degree (Margin of Error)  \\\n12                                                  100            \n14                                                  116            \n15                                                  119            \n17                                                  193            \n26                                                  185            \n...                                                 ...            \n3113                                                 11            \n3115                                                 73            \n3116                                                104            \n3117                                                177            \n3120                                                171            \n\n      Associate's degree (Margin of Error)  \\\n12                                      75   \n14                                     109   \n15                                      60   \n17                                     160   \n26                                      83   \n...                                    ...   \n3113                                     5   \n3115                                    79   \n3116                                    65   \n3117                                   118   \n3120                                   115   \n\n      Bachelor's degree (Margin of Error)  Master's degree (Margin of Error)  \\\n12                                     89                                 47   \n14                                    191                                 95   \n15                                     95                                105   \n17                                    228                                191   \n26                                    163                                 97   \n...                                   ...                                ...   \n3113                                   11                                 11   \n3115                                   60                                 36   \n3116                                   78                                 52   \n3117                                  190                                117   \n3120                                  205                                195   \n\n      Professional school degree (Margin of Error)  \\\n12                                              17   \n14                                              20   \n15                                              22   \n17                                              57   \n26                                              69   \n...                                            ...   \n3113                                            11   \n3115                                             3   \n3116                                            21   \n3117                                            43   \n3120                                            15   \n\n      Doctorate degree (Margin of Error)  \n12                                     4  \n14                                    30  \n15                                    29  \n17                                    37  \n26                                    85  \n...                                  ...  \n3113                                  11  \n3115                                   7  \n3116                                   8  \n3117                                  28  \n3120                                  42  \n\n[913 rows x 59 columns]",
      "text/html": "<div>\n<style scoped>\n    .dataframe tbody tr th:only-of-type {\n        vertical-align: middle;\n    }\n\n    .dataframe tbody tr th {\n        vertical-align: top;\n    }\n\n    .dataframe thead th {\n        text-align: right;\n    }\n</style>\n<table border=\"1\" class=\"dataframe\">\n  <thead>\n    <tr style=\"text-align: right;\">\n      <th></th>\n      <th>GIS Join Match Code</th>\n      <th>Data File Year</th>\n      <th>State Name</th>\n      <th>State Code</th>\n      <th>County Name</th>\n      <th>County Code</th>\n      <th>Census Tract Code</th>\n      <th>Area Name (Estimate)</th>\n      <th>Education Total (Estimate)</th>\n      <th>No schooling completed (Estimate)</th>\n      <th>...</th>\n      <th>12th grade, no diploma (Margin of Error)</th>\n      <th>Regular high school diploma (Margin of Error)</th>\n      <th>GED or alternative credential (Margin of Error)</th>\n      <th>Some college, less than 1 year (Margin of Error)</th>\n      <th>Some college, 1 or more years, no degree (Margin of Error)</th>\n      <th>Associate's degree (Margin of Error)</th>\n      <th>Bachelor's degree (Margin of Error)</th>\n      <th>Master's degree (Margin of Error)</th>\n      <th>Professional school degree (Margin of Error)</th>\n      <th>Doctorate degree (Margin of Error)</th>\n    </tr>\n  </thead>\n  <tbody>\n    <tr>\n      <th>12</th>\n      <td>G1700010010100</td>\n      <td>2014-2018</td>\n      <td>Illinois</td>\n      <td>17</td>\n      <td>Adams County</td>\n      <td>1</td>\n      <td>10100</td>\n      <td>Census Tract 101, Adams County, Illinois</td>\n      <td>3134</td>\n      <td>6</td>\n      <td>...</td>\n      <td>21</td>\n      <td>138</td>\n      <td>57</td>\n      <td>60</td>\n      <td>100</td>\n      <td>75</td>\n      <td>89</td>\n      <td>47</td>\n      <td>17</td>\n      <td>4</td>\n    </tr>\n    <tr>\n      <th>14</th>\n      <td>G1700010010300</td>\n      <td>2014-2018</td>\n      <td>Illinois</td>\n      <td>17</td>\n      <td>Adams County</td>\n      <td>1</td>\n      <td>10300</td>\n      <td>Census Tract 103, Adams County, Illinois</td>\n      <td>4021</td>\n      <td>12</td>\n      <td>...</td>\n      <td>8</td>\n      <td>215</td>\n      <td>55</td>\n      <td>96</td>\n      <td>116</td>\n      <td>109</td>\n      <td>191</td>\n      <td>95</td>\n      <td>20</td>\n      <td>30</td>\n    </tr>\n    <tr>\n      <th>15</th>\n      <td>G1700010010400</td>\n      <td>2014-2018</td>\n      <td>Illinois</td>\n      <td>17</td>\n      <td>Adams County</td>\n      <td>1</td>\n      <td>10400</td>\n      <td>Census Tract 104, Adams County, Illinois</td>\n      <td>2435</td>\n      <td>0</td>\n      <td>...</td>\n      <td>14</td>\n      <td>133</td>\n      <td>31</td>\n      <td>89</td>\n      <td>119</td>\n      <td>60</td>\n      <td>95</td>\n      <td>105</td>\n      <td>22</td>\n      <td>29</td>\n    </tr>\n    <tr>\n      <th>17</th>\n      <td>G1700010010600</td>\n      <td>2014-2018</td>\n      <td>Illinois</td>\n      <td>17</td>\n      <td>Adams County</td>\n      <td>1</td>\n      <td>10600</td>\n      <td>Census Tract 106, Adams County, Illinois</td>\n      <td>4168</td>\n      <td>23</td>\n      <td>...</td>\n      <td>4</td>\n      <td>220</td>\n      <td>50</td>\n      <td>150</td>\n      <td>193</td>\n      <td>160</td>\n      <td>228</td>\n      <td>191</td>\n      <td>57</td>\n      <td>37</td>\n    </tr>\n    <tr>\n      <th>26</th>\n      <td>G1700070010100</td>\n      <td>2014-2018</td>\n      <td>Illinois</td>\n      <td>17</td>\n      <td>Boone County</td>\n      <td>7</td>\n      <td>10100</td>\n      <td>Census Tract 101, Boone County, Illinois</td>\n      <td>4650</td>\n      <td>99</td>\n      <td>...</td>\n      <td>102</td>\n      <td>234</td>\n      <td>124</td>\n      <td>113</td>\n      <td>185</td>\n      <td>83</td>\n      <td>163</td>\n      <td>97</td>\n      <td>69</td>\n      <td>85</td>\n    </tr>\n    <tr>\n      <th>...</th>\n      <td>...</td>\n      <td>...</td>\n      <td>...</td>\n      <td>...</td>\n      <td>...</td>\n      <td>...</td>\n      <td>...</td>\n      <td>...</td>\n      <td>...</td>\n      <td>...</td>\n      <td>...</td>\n      <td>...</td>\n      <td>...</td>\n      <td>...</td>\n      <td>...</td>\n      <td>...</td>\n      <td>...</td>\n      <td>...</td>\n      <td>...</td>\n      <td>...</td>\n      <td>...</td>\n    </tr>\n    <tr>\n      <th>3113</th>\n      <td>G1702010980000</td>\n      <td>2014-2018</td>\n      <td>Illinois</td>\n      <td>17</td>\n      <td>Winnebago County</td>\n      <td>201</td>\n      <td>980000</td>\n      <td>Census Tract 9800, Winnebago County, Illinois</td>\n      <td>4</td>\n      <td>0</td>\n      <td>...</td>\n      <td>11</td>\n      <td>11</td>\n      <td>11</td>\n      <td>11</td>\n      <td>11</td>\n      <td>5</td>\n      <td>11</td>\n      <td>11</td>\n      <td>11</td>\n      <td>11</td>\n    </tr>\n    <tr>\n      <th>3115</th>\n      <td>G1702030030200</td>\n      <td>2014-2018</td>\n      <td>Illinois</td>\n      <td>17</td>\n      <td>Woodford County</td>\n      <td>203</td>\n      <td>30200</td>\n      <td>Census Tract 302, Woodford County, Illinois</td>\n      <td>2003</td>\n      <td>4</td>\n      <td>...</td>\n      <td>14</td>\n      <td>95</td>\n      <td>19</td>\n      <td>45</td>\n      <td>73</td>\n      <td>79</td>\n      <td>60</td>\n      <td>36</td>\n      <td>3</td>\n      <td>7</td>\n    </tr>\n    <tr>\n      <th>3116</th>\n      <td>G1702030030300</td>\n      <td>2014-2018</td>\n      <td>Illinois</td>\n      <td>17</td>\n      <td>Woodford County</td>\n      <td>203</td>\n      <td>30300</td>\n      <td>Census Tract 303, Woodford County, Illinois</td>\n      <td>1960</td>\n      <td>0</td>\n      <td>...</td>\n      <td>20</td>\n      <td>123</td>\n      <td>24</td>\n      <td>55</td>\n      <td>104</td>\n      <td>65</td>\n      <td>78</td>\n      <td>52</td>\n      <td>21</td>\n      <td>8</td>\n    </tr>\n    <tr>\n      <th>3117</th>\n      <td>G1702030030400</td>\n      <td>2014-2018</td>\n      <td>Illinois</td>\n      <td>17</td>\n      <td>Woodford County</td>\n      <td>203</td>\n      <td>30400</td>\n      <td>Census Tract 304, Woodford County, Illinois</td>\n      <td>3671</td>\n      <td>7</td>\n      <td>...</td>\n      <td>54</td>\n      <td>191</td>\n      <td>40</td>\n      <td>134</td>\n      <td>177</td>\n      <td>118</td>\n      <td>190</td>\n      <td>117</td>\n      <td>43</td>\n      <td>28</td>\n    </tr>\n    <tr>\n      <th>3120</th>\n      <td>G1702030030601</td>\n      <td>2014-2018</td>\n      <td>Illinois</td>\n      <td>17</td>\n      <td>Woodford County</td>\n      <td>203</td>\n      <td>30601</td>\n      <td>Census Tract 306.01, Woodford County, Illinois</td>\n      <td>4323</td>\n      <td>0</td>\n      <td>...</td>\n      <td>15</td>\n      <td>276</td>\n      <td>49</td>\n      <td>91</td>\n      <td>171</td>\n      <td>115</td>\n      <td>205</td>\n      <td>195</td>\n      <td>15</td>\n      <td>42</td>\n    </tr>\n  </tbody>\n</table>\n<p>913 rows × 59 columns</p>\n</div>"
     },
     "metadata": {},
     "execution_count": 130
    }
   ],
   "source": [
    "edudat_2014_2018"
   ]
  },
  {
   "cell_type": "code",
   "execution_count": 131,
   "metadata": {},
   "outputs": [
    {
     "output_type": "execute_result",
     "data": {
      "text/plain": "Index(['GIS Join Match Code', 'Data File Year', 'State Postal Abbreviation',\n       'State Name', 'State Code', 'County Name', 'County Code',\n       'Census Tract Code', 'Census Geographic Identifier', 'Area Name',\n       'Education Total (Estimate)', 'No schooling completed (Estimate)',\n       'Nursery school (Estimate)', 'Kindergarten (Estimate)',\n       '1st grade (Estimate)', '2nd grade (Estimate)', '3rd grade (Estimate)',\n       '4th grade (Estimate)', '5th grade (Estimate)', '6th grade (Estimate)',\n       '7th grade (Estimate)', '8th grade (Estimate)', '9th grade (Estimate)',\n       '10th grade (Estimate)', '11th grade (Estimate)',\n       '12th grade, no diploma (Estimate)',\n       'Regular high school diploma (Estimate)',\n       'GED or alternative credential (Estimate)',\n       'Some college, less than 1 year (Estimate)',\n       'Some college, 1 or more years, no degree (Estimate)',\n       'Associate's degree (Estimate)', 'Bachelor's degree (Estimate)',\n       'Master's degree (Estimate)', 'Professional school degree (Estimate)',\n       'Doctorate degree (Estimate)', 'Area Name (Margin of Error)',\n       'Education Total (Margin of Error)',\n       'No schooling completed (Margin of Error)',\n       'Nursery school (Margin of Error)', 'Kindergarten (Margin of Error)',\n       '1st grade (Margin of Error)', '2nd grade (Margin of Error)',\n       '3rd grade (Margin of Error)', '4th grade (Margin of Error)',\n       '5th grade (Margin of Error)', '6th grade (Margin of Error)',\n       '7th grade (Margin of Error)', '8th grade (Margin of Error)',\n       '9th grade (Margin of Error)', '10th grade (Margin of Error)',\n       '11th grade (Margin of Error)',\n       '12th grade, no diploma (Margin of Error)',\n       'Regular high school diploma (Margin of Error)',\n       'GED or alternative credential (Margin of Error)',\n       'Some college, less than 1 year (Margin of Error)',\n       'Some college, 1 or more years, no degree (Margin of Error)',\n       'Associate's degree (Margin of Error)',\n       'Bachelor's degree (Margin of Error)',\n       'Master's degree (Margin of Error)',\n       'Professional school degree (Margin of Error)',\n       'Doctorate degree (Margin of Error)'],\n      dtype='object')"
     },
     "metadata": {},
     "execution_count": 131
    }
   ],
   "source": [
    "edudat_2015_2019.columns"
   ]
  },
  {
   "cell_type": "code",
   "execution_count": 132,
   "metadata": {
    "tags": []
   },
   "outputs": [
    {
     "output_type": "stream",
     "name": "stdout",
     "text": "Area Name (Estimate)\n"
    }
   ],
   "source": [
    "for i in edudat_2014_2018.columns:\n",
    "    if i not in edudat_2015_2019.columns:\n",
    "        print(i)"
   ]
  },
  {
   "cell_type": "code",
   "execution_count": 133,
   "metadata": {
    "tags": []
   },
   "outputs": [
    {
     "output_type": "stream",
     "name": "stdout",
     "text": "State Postal Abbreviation\nCensus Geographic Identifier\nArea Name\n"
    }
   ],
   "source": [
    "for i in edudat_2015_2019.columns:\n",
    "    if i not in edudat_2014_2018.columns:\n",
    "        print(i)"
   ]
  },
  {
   "cell_type": "code",
   "execution_count": 134,
   "metadata": {},
   "outputs": [
    {
     "output_type": "execute_result",
     "data": {
      "text/plain": "     GIS Join Match Code Data File Year State Name  State Code  \\\n12        G1700010010100      2015-2019   Illinois          17   \n14        G1700010010300      2015-2019   Illinois          17   \n15        G1700010010400      2015-2019   Illinois          17   \n17        G1700010010600      2015-2019   Illinois          17   \n26        G1700070010100      2015-2019   Illinois          17   \n...                  ...            ...        ...         ...   \n3113      G1702010980000      2015-2019   Illinois          17   \n3115      G1702030030200      2015-2019   Illinois          17   \n3116      G1702030030300      2015-2019   Illinois          17   \n3117      G1702030030400      2015-2019   Illinois          17   \n3120      G1702030030601      2015-2019   Illinois          17   \n\n           County Name  County Code  Census Tract Code  \\\n12        Adams County            1              10100   \n14        Adams County            1              10300   \n15        Adams County            1              10400   \n17        Adams County            1              10600   \n26        Boone County            7              10100   \n...                ...          ...                ...   \n3113  Winnebago County          201             980000   \n3115   Woodford County          203              30200   \n3116   Woodford County          203              30300   \n3117   Woodford County          203              30400   \n3120   Woodford County          203              30601   \n\n                                           Area Name  \\\n12          Census Tract 101, Adams County, Illinois   \n14          Census Tract 103, Adams County, Illinois   \n15          Census Tract 104, Adams County, Illinois   \n17          Census Tract 106, Adams County, Illinois   \n26          Census Tract 101, Boone County, Illinois   \n...                                              ...   \n3113   Census Tract 9800, Winnebago County, Illinois   \n3115     Census Tract 302, Woodford County, Illinois   \n3116     Census Tract 303, Woodford County, Illinois   \n3117     Census Tract 304, Woodford County, Illinois   \n3120  Census Tract 306.01, Woodford County, Illinois   \n\n      Education Total (Estimate)  No schooling completed (Estimate)  ...  \\\n12                          2985                                  6  ...   \n14                          3900                                  6  ...   \n15                          2561                                  0  ...   \n17                          4156                                 22  ...   \n26                          4622                                131  ...   \n...                          ...                                ...  ...   \n3113                           4                                  0  ...   \n3115                        1915                                  1  ...   \n3116                        2030                                  0  ...   \n3117                        3842                                  9  ...   \n3120                        4158                                  0  ...   \n\n      12th grade, no diploma (Margin of Error)  \\\n12                                          19   \n14                                          10   \n15                                          20   \n17                                          28   \n26                                         119   \n...                                        ...   \n3113                                        11   \n3115                                        26   \n3116                                        21   \n3117                                        34   \n3120                                        15   \n\n      Regular high school diploma (Margin of Error)  \\\n12                                              132   \n14                                              182   \n15                                              143   \n17                                              278   \n26                                              230   \n...                                             ...   \n3113                                             11   \n3115                                             89   \n3116                                             97   \n3117                                            165   \n3120                                            203   \n\n      GED or alternative credential (Margin of Error)  \\\n12                                                 41   \n14                                                 55   \n15                                                 26   \n17                                                 65   \n26                                                121   \n...                                               ...   \n3113                                               11   \n3115                                               17   \n3116                                               57   \n3117                                               44   \n3120                                               60   \n\n      Some college, less than 1 year (Margin of Error)  \\\n12                                                  46   \n14                                                 108   \n15                                                  68   \n17                                                 117   \n26                                                 128   \n...                                                ...   \n3113                                                11   \n3115                                                45   \n3116                                                64   \n3117                                               129   \n3120                                                89   \n\n      Some college, 1 or more years, no degree (Margin of Error)  \\\n12                                                   89            \n14                                                  136            \n15                                                  130            \n17                                                  201            \n26                                                  151            \n...                                                 ...            \n3113                                                 11            \n3115                                                 83            \n3116                                                 85            \n3117                                                180            \n3120                                                161            \n\n      Associate's degree (Margin of Error)  \\\n12                                      85   \n14                                     118   \n15                                      62   \n17                                     165   \n26                                      81   \n...                                    ...   \n3113                                     5   \n3115                                    67   \n3116                                    58   \n3117                                   121   \n3120                                   117   \n\n      Bachelor's degree (Margin of Error)  Master's degree (Margin of Error)  \\\n12                                     99                                 54   \n14                                    179                                 78   \n15                                    113                                101   \n17                                    221                                183   \n26                                    115                                103   \n...                                   ...                                ...   \n3113                                   11                                 11   \n3115                                   72                                 28   \n3116                                   77                                 37   \n3117                                  226                                120   \n3120                                  203                                197   \n\n      Professional school degree (Margin of Error)  \\\n12                                              17   \n14                                              26   \n15                                              15   \n17                                              48   \n26                                              18   \n...                                            ...   \n3113                                            11   \n3115                                             3   \n3116                                            26   \n3117                                            53   \n3120                                            16   \n\n      Doctorate degree (Margin of Error)  \n12                                     6  \n14                                    28  \n15                                    18  \n17                                    33  \n26                                    72  \n...                                  ...  \n3113                                  11  \n3115                                   8  \n3116                                  11  \n3117                                  25  \n3120                                  35  \n\n[913 rows x 59 columns]",
      "text/html": "<div>\n<style scoped>\n    .dataframe tbody tr th:only-of-type {\n        vertical-align: middle;\n    }\n\n    .dataframe tbody tr th {\n        vertical-align: top;\n    }\n\n    .dataframe thead th {\n        text-align: right;\n    }\n</style>\n<table border=\"1\" class=\"dataframe\">\n  <thead>\n    <tr style=\"text-align: right;\">\n      <th></th>\n      <th>GIS Join Match Code</th>\n      <th>Data File Year</th>\n      <th>State Name</th>\n      <th>State Code</th>\n      <th>County Name</th>\n      <th>County Code</th>\n      <th>Census Tract Code</th>\n      <th>Area Name</th>\n      <th>Education Total (Estimate)</th>\n      <th>No schooling completed (Estimate)</th>\n      <th>...</th>\n      <th>12th grade, no diploma (Margin of Error)</th>\n      <th>Regular high school diploma (Margin of Error)</th>\n      <th>GED or alternative credential (Margin of Error)</th>\n      <th>Some college, less than 1 year (Margin of Error)</th>\n      <th>Some college, 1 or more years, no degree (Margin of Error)</th>\n      <th>Associate's degree (Margin of Error)</th>\n      <th>Bachelor's degree (Margin of Error)</th>\n      <th>Master's degree (Margin of Error)</th>\n      <th>Professional school degree (Margin of Error)</th>\n      <th>Doctorate degree (Margin of Error)</th>\n    </tr>\n  </thead>\n  <tbody>\n    <tr>\n      <th>12</th>\n      <td>G1700010010100</td>\n      <td>2015-2019</td>\n      <td>Illinois</td>\n      <td>17</td>\n      <td>Adams County</td>\n      <td>1</td>\n      <td>10100</td>\n      <td>Census Tract 101, Adams County, Illinois</td>\n      <td>2985</td>\n      <td>6</td>\n      <td>...</td>\n      <td>19</td>\n      <td>132</td>\n      <td>41</td>\n      <td>46</td>\n      <td>89</td>\n      <td>85</td>\n      <td>99</td>\n      <td>54</td>\n      <td>17</td>\n      <td>6</td>\n    </tr>\n    <tr>\n      <th>14</th>\n      <td>G1700010010300</td>\n      <td>2015-2019</td>\n      <td>Illinois</td>\n      <td>17</td>\n      <td>Adams County</td>\n      <td>1</td>\n      <td>10300</td>\n      <td>Census Tract 103, Adams County, Illinois</td>\n      <td>3900</td>\n      <td>6</td>\n      <td>...</td>\n      <td>10</td>\n      <td>182</td>\n      <td>55</td>\n      <td>108</td>\n      <td>136</td>\n      <td>118</td>\n      <td>179</td>\n      <td>78</td>\n      <td>26</td>\n      <td>28</td>\n    </tr>\n    <tr>\n      <th>15</th>\n      <td>G1700010010400</td>\n      <td>2015-2019</td>\n      <td>Illinois</td>\n      <td>17</td>\n      <td>Adams County</td>\n      <td>1</td>\n      <td>10400</td>\n      <td>Census Tract 104, Adams County, Illinois</td>\n      <td>2561</td>\n      <td>0</td>\n      <td>...</td>\n      <td>20</td>\n      <td>143</td>\n      <td>26</td>\n      <td>68</td>\n      <td>130</td>\n      <td>62</td>\n      <td>113</td>\n      <td>101</td>\n      <td>15</td>\n      <td>18</td>\n    </tr>\n    <tr>\n      <th>17</th>\n      <td>G1700010010600</td>\n      <td>2015-2019</td>\n      <td>Illinois</td>\n      <td>17</td>\n      <td>Adams County</td>\n      <td>1</td>\n      <td>10600</td>\n      <td>Census Tract 106, Adams County, Illinois</td>\n      <td>4156</td>\n      <td>22</td>\n      <td>...</td>\n      <td>28</td>\n      <td>278</td>\n      <td>65</td>\n      <td>117</td>\n      <td>201</td>\n      <td>165</td>\n      <td>221</td>\n      <td>183</td>\n      <td>48</td>\n      <td>33</td>\n    </tr>\n    <tr>\n      <th>26</th>\n      <td>G1700070010100</td>\n      <td>2015-2019</td>\n      <td>Illinois</td>\n      <td>17</td>\n      <td>Boone County</td>\n      <td>7</td>\n      <td>10100</td>\n      <td>Census Tract 101, Boone County, Illinois</td>\n      <td>4622</td>\n      <td>131</td>\n      <td>...</td>\n      <td>119</td>\n      <td>230</td>\n      <td>121</td>\n      <td>128</td>\n      <td>151</td>\n      <td>81</td>\n      <td>115</td>\n      <td>103</td>\n      <td>18</td>\n      <td>72</td>\n    </tr>\n    <tr>\n      <th>...</th>\n      <td>...</td>\n      <td>...</td>\n      <td>...</td>\n      <td>...</td>\n      <td>...</td>\n      <td>...</td>\n      <td>...</td>\n      <td>...</td>\n      <td>...</td>\n      <td>...</td>\n      <td>...</td>\n      <td>...</td>\n      <td>...</td>\n      <td>...</td>\n      <td>...</td>\n      <td>...</td>\n      <td>...</td>\n      <td>...</td>\n      <td>...</td>\n      <td>...</td>\n      <td>...</td>\n    </tr>\n    <tr>\n      <th>3113</th>\n      <td>G1702010980000</td>\n      <td>2015-2019</td>\n      <td>Illinois</td>\n      <td>17</td>\n      <td>Winnebago County</td>\n      <td>201</td>\n      <td>980000</td>\n      <td>Census Tract 9800, Winnebago County, Illinois</td>\n      <td>4</td>\n      <td>0</td>\n      <td>...</td>\n      <td>11</td>\n      <td>11</td>\n      <td>11</td>\n      <td>11</td>\n      <td>11</td>\n      <td>5</td>\n      <td>11</td>\n      <td>11</td>\n      <td>11</td>\n      <td>11</td>\n    </tr>\n    <tr>\n      <th>3115</th>\n      <td>G1702030030200</td>\n      <td>2015-2019</td>\n      <td>Illinois</td>\n      <td>17</td>\n      <td>Woodford County</td>\n      <td>203</td>\n      <td>30200</td>\n      <td>Census Tract 302, Woodford County, Illinois</td>\n      <td>1915</td>\n      <td>1</td>\n      <td>...</td>\n      <td>26</td>\n      <td>89</td>\n      <td>17</td>\n      <td>45</td>\n      <td>83</td>\n      <td>67</td>\n      <td>72</td>\n      <td>28</td>\n      <td>3</td>\n      <td>8</td>\n    </tr>\n    <tr>\n      <th>3116</th>\n      <td>G1702030030300</td>\n      <td>2015-2019</td>\n      <td>Illinois</td>\n      <td>17</td>\n      <td>Woodford County</td>\n      <td>203</td>\n      <td>30300</td>\n      <td>Census Tract 303, Woodford County, Illinois</td>\n      <td>2030</td>\n      <td>0</td>\n      <td>...</td>\n      <td>21</td>\n      <td>97</td>\n      <td>57</td>\n      <td>64</td>\n      <td>85</td>\n      <td>58</td>\n      <td>77</td>\n      <td>37</td>\n      <td>26</td>\n      <td>11</td>\n    </tr>\n    <tr>\n      <th>3117</th>\n      <td>G1702030030400</td>\n      <td>2015-2019</td>\n      <td>Illinois</td>\n      <td>17</td>\n      <td>Woodford County</td>\n      <td>203</td>\n      <td>30400</td>\n      <td>Census Tract 304, Woodford County, Illinois</td>\n      <td>3842</td>\n      <td>9</td>\n      <td>...</td>\n      <td>34</td>\n      <td>165</td>\n      <td>44</td>\n      <td>129</td>\n      <td>180</td>\n      <td>121</td>\n      <td>226</td>\n      <td>120</td>\n      <td>53</td>\n      <td>25</td>\n    </tr>\n    <tr>\n      <th>3120</th>\n      <td>G1702030030601</td>\n      <td>2015-2019</td>\n      <td>Illinois</td>\n      <td>17</td>\n      <td>Woodford County</td>\n      <td>203</td>\n      <td>30601</td>\n      <td>Census Tract 306.01, Woodford County, Illinois</td>\n      <td>4158</td>\n      <td>0</td>\n      <td>...</td>\n      <td>15</td>\n      <td>203</td>\n      <td>60</td>\n      <td>89</td>\n      <td>161</td>\n      <td>117</td>\n      <td>203</td>\n      <td>197</td>\n      <td>16</td>\n      <td>35</td>\n    </tr>\n  </tbody>\n</table>\n<p>913 rows × 59 columns</p>\n</div>"
     },
     "metadata": {},
     "execution_count": 134
    }
   ],
   "source": [
    "edudat_2015_2019.drop([\"State Postal Abbreviation\",\"Census Geographic Identifier\"], axis=1)"
   ]
  },
  {
   "cell_type": "code",
   "execution_count": 135,
   "metadata": {},
   "outputs": [
    {
     "output_type": "execute_result",
     "data": {
      "text/plain": "              GISJOIN       YEAR  REGIONA  DIVISIONA        STATE  STATEA  \\\n0      G0100010020100  2010-2014      NaN        NaN      Alabama       1   \n1      G0100010020200  2010-2014      NaN        NaN      Alabama       1   \n2      G0100010020300  2010-2014      NaN        NaN      Alabama       1   \n3      G0100010020400  2010-2014      NaN        NaN      Alabama       1   \n4      G0100010020500  2010-2014      NaN        NaN      Alabama       1   \n...               ...        ...      ...        ...          ...     ...   \n73996  G7201530750501  2010-2014      NaN        NaN  Puerto Rico      72   \n73997  G7201530750502  2010-2014      NaN        NaN  Puerto Rico      72   \n73998  G7201530750503  2010-2014      NaN        NaN  Puerto Rico      72   \n73999  G7201530750601  2010-2014      NaN        NaN  Puerto Rico      72   \n74000  G7201530750602  2010-2014      NaN        NaN  Puerto Rico      72   \n\n                COUNTY  COUNTYA  COUSUBA  PLACEA  ...  ABC4M016  ABC4M017  \\\n0       Autauga County        1      NaN     NaN  ...        24       100   \n1       Autauga County        1      NaN     NaN  ...        40       120   \n2       Autauga County        1      NaN     NaN  ...        53       149   \n3       Autauga County        1      NaN     NaN  ...        11       177   \n4       Autauga County        1      NaN     NaN  ...        61       341   \n...                ...      ...      ...     ...  ...       ...       ...   \n73996  Yauco Municipio      153      NaN     NaN  ...        92       200   \n73997  Yauco Municipio      153      NaN     NaN  ...        34       156   \n73998  Yauco Municipio      153      NaN     NaN  ...        37       104   \n73999  Yauco Municipio      153      NaN     NaN  ...        56       271   \n74000  Yauco Municipio      153      NaN     NaN  ...        52       377   \n\n       ABC4M018  ABC4M019  ABC4M020  ABC4M021  ABC4M022  ABC4M023  ABC4M024  \\\n0            42        20        65        32        61        46        25   \n1            45        59        73        46        75        85        21   \n2            57        96       136        58        80        54        24   \n3           105        77       101        72       119        59        36   \n4           138       180       371       223       373       241       153   \n...         ...       ...       ...       ...       ...       ...       ...   \n73996        63        78       188       115       204       111        18   \n73997        13        15       101        74       124        31        36   \n73998         9        32        58        88       177        40        15   \n73999        21        60       164       142       196       101        52   \n74000        15        18        89       101       189        29        13   \n\n       ABC4M025  \n0            20  \n1            22  \n2            11  \n3            31  \n4            82  \n...         ...  \n73996        27  \n73997        21  \n73998        18  \n73999        37  \n74000         3  \n\n[74001 rows x 88 columns]",
      "text/html": "<div>\n<style scoped>\n    .dataframe tbody tr th:only-of-type {\n        vertical-align: middle;\n    }\n\n    .dataframe tbody tr th {\n        vertical-align: top;\n    }\n\n    .dataframe thead th {\n        text-align: right;\n    }\n</style>\n<table border=\"1\" class=\"dataframe\">\n  <thead>\n    <tr style=\"text-align: right;\">\n      <th></th>\n      <th>GISJOIN</th>\n      <th>YEAR</th>\n      <th>REGIONA</th>\n      <th>DIVISIONA</th>\n      <th>STATE</th>\n      <th>STATEA</th>\n      <th>COUNTY</th>\n      <th>COUNTYA</th>\n      <th>COUSUBA</th>\n      <th>PLACEA</th>\n      <th>...</th>\n      <th>ABC4M016</th>\n      <th>ABC4M017</th>\n      <th>ABC4M018</th>\n      <th>ABC4M019</th>\n      <th>ABC4M020</th>\n      <th>ABC4M021</th>\n      <th>ABC4M022</th>\n      <th>ABC4M023</th>\n      <th>ABC4M024</th>\n      <th>ABC4M025</th>\n    </tr>\n  </thead>\n  <tbody>\n    <tr>\n      <th>0</th>\n      <td>G0100010020100</td>\n      <td>2010-2014</td>\n      <td>NaN</td>\n      <td>NaN</td>\n      <td>Alabama</td>\n      <td>1</td>\n      <td>Autauga County</td>\n      <td>1</td>\n      <td>NaN</td>\n      <td>NaN</td>\n      <td>...</td>\n      <td>24</td>\n      <td>100</td>\n      <td>42</td>\n      <td>20</td>\n      <td>65</td>\n      <td>32</td>\n      <td>61</td>\n      <td>46</td>\n      <td>25</td>\n      <td>20</td>\n    </tr>\n    <tr>\n      <th>1</th>\n      <td>G0100010020200</td>\n      <td>2010-2014</td>\n      <td>NaN</td>\n      <td>NaN</td>\n      <td>Alabama</td>\n      <td>1</td>\n      <td>Autauga County</td>\n      <td>1</td>\n      <td>NaN</td>\n      <td>NaN</td>\n      <td>...</td>\n      <td>40</td>\n      <td>120</td>\n      <td>45</td>\n      <td>59</td>\n      <td>73</td>\n      <td>46</td>\n      <td>75</td>\n      <td>85</td>\n      <td>21</td>\n      <td>22</td>\n    </tr>\n    <tr>\n      <th>2</th>\n      <td>G0100010020300</td>\n      <td>2010-2014</td>\n      <td>NaN</td>\n      <td>NaN</td>\n      <td>Alabama</td>\n      <td>1</td>\n      <td>Autauga County</td>\n      <td>1</td>\n      <td>NaN</td>\n      <td>NaN</td>\n      <td>...</td>\n      <td>53</td>\n      <td>149</td>\n      <td>57</td>\n      <td>96</td>\n      <td>136</td>\n      <td>58</td>\n      <td>80</td>\n      <td>54</td>\n      <td>24</td>\n      <td>11</td>\n    </tr>\n    <tr>\n      <th>3</th>\n      <td>G0100010020400</td>\n      <td>2010-2014</td>\n      <td>NaN</td>\n      <td>NaN</td>\n      <td>Alabama</td>\n      <td>1</td>\n      <td>Autauga County</td>\n      <td>1</td>\n      <td>NaN</td>\n      <td>NaN</td>\n      <td>...</td>\n      <td>11</td>\n      <td>177</td>\n      <td>105</td>\n      <td>77</td>\n      <td>101</td>\n      <td>72</td>\n      <td>119</td>\n      <td>59</td>\n      <td>36</td>\n      <td>31</td>\n    </tr>\n    <tr>\n      <th>4</th>\n      <td>G0100010020500</td>\n      <td>2010-2014</td>\n      <td>NaN</td>\n      <td>NaN</td>\n      <td>Alabama</td>\n      <td>1</td>\n      <td>Autauga County</td>\n      <td>1</td>\n      <td>NaN</td>\n      <td>NaN</td>\n      <td>...</td>\n      <td>61</td>\n      <td>341</td>\n      <td>138</td>\n      <td>180</td>\n      <td>371</td>\n      <td>223</td>\n      <td>373</td>\n      <td>241</td>\n      <td>153</td>\n      <td>82</td>\n    </tr>\n    <tr>\n      <th>...</th>\n      <td>...</td>\n      <td>...</td>\n      <td>...</td>\n      <td>...</td>\n      <td>...</td>\n      <td>...</td>\n      <td>...</td>\n      <td>...</td>\n      <td>...</td>\n      <td>...</td>\n      <td>...</td>\n      <td>...</td>\n      <td>...</td>\n      <td>...</td>\n      <td>...</td>\n      <td>...</td>\n      <td>...</td>\n      <td>...</td>\n      <td>...</td>\n      <td>...</td>\n      <td>...</td>\n    </tr>\n    <tr>\n      <th>73996</th>\n      <td>G7201530750501</td>\n      <td>2010-2014</td>\n      <td>NaN</td>\n      <td>NaN</td>\n      <td>Puerto Rico</td>\n      <td>72</td>\n      <td>Yauco Municipio</td>\n      <td>153</td>\n      <td>NaN</td>\n      <td>NaN</td>\n      <td>...</td>\n      <td>92</td>\n      <td>200</td>\n      <td>63</td>\n      <td>78</td>\n      <td>188</td>\n      <td>115</td>\n      <td>204</td>\n      <td>111</td>\n      <td>18</td>\n      <td>27</td>\n    </tr>\n    <tr>\n      <th>73997</th>\n      <td>G7201530750502</td>\n      <td>2010-2014</td>\n      <td>NaN</td>\n      <td>NaN</td>\n      <td>Puerto Rico</td>\n      <td>72</td>\n      <td>Yauco Municipio</td>\n      <td>153</td>\n      <td>NaN</td>\n      <td>NaN</td>\n      <td>...</td>\n      <td>34</td>\n      <td>156</td>\n      <td>13</td>\n      <td>15</td>\n      <td>101</td>\n      <td>74</td>\n      <td>124</td>\n      <td>31</td>\n      <td>36</td>\n      <td>21</td>\n    </tr>\n    <tr>\n      <th>73998</th>\n      <td>G7201530750503</td>\n      <td>2010-2014</td>\n      <td>NaN</td>\n      <td>NaN</td>\n      <td>Puerto Rico</td>\n      <td>72</td>\n      <td>Yauco Municipio</td>\n      <td>153</td>\n      <td>NaN</td>\n      <td>NaN</td>\n      <td>...</td>\n      <td>37</td>\n      <td>104</td>\n      <td>9</td>\n      <td>32</td>\n      <td>58</td>\n      <td>88</td>\n      <td>177</td>\n      <td>40</td>\n      <td>15</td>\n      <td>18</td>\n    </tr>\n    <tr>\n      <th>73999</th>\n      <td>G7201530750601</td>\n      <td>2010-2014</td>\n      <td>NaN</td>\n      <td>NaN</td>\n      <td>Puerto Rico</td>\n      <td>72</td>\n      <td>Yauco Municipio</td>\n      <td>153</td>\n      <td>NaN</td>\n      <td>NaN</td>\n      <td>...</td>\n      <td>56</td>\n      <td>271</td>\n      <td>21</td>\n      <td>60</td>\n      <td>164</td>\n      <td>142</td>\n      <td>196</td>\n      <td>101</td>\n      <td>52</td>\n      <td>37</td>\n    </tr>\n    <tr>\n      <th>74000</th>\n      <td>G7201530750602</td>\n      <td>2010-2014</td>\n      <td>NaN</td>\n      <td>NaN</td>\n      <td>Puerto Rico</td>\n      <td>72</td>\n      <td>Yauco Municipio</td>\n      <td>153</td>\n      <td>NaN</td>\n      <td>NaN</td>\n      <td>...</td>\n      <td>52</td>\n      <td>377</td>\n      <td>15</td>\n      <td>18</td>\n      <td>89</td>\n      <td>101</td>\n      <td>189</td>\n      <td>29</td>\n      <td>13</td>\n      <td>3</td>\n    </tr>\n  </tbody>\n</table>\n<p>74001 rows × 88 columns</p>\n</div>"
     },
     "metadata": {},
     "execution_count": 135
    }
   ],
   "source": [
    "edudat_2010_2014"
   ]
  },
  {
   "cell_type": "code",
   "execution_count": 136,
   "metadata": {},
   "outputs": [],
   "source": [
    "edudat_2010_2014.dropna(axis=1, how='all', inplace=True)\n",
    "edudat_2010_2014 = edudat_2010_2014[edudat_2010_2014[\"STATE\"] == \"Illinois\"]\n",
    "edudat_2010_2014 = edudat_2010_2014.reset_index(drop=True)\n",
    "\n",
    "for i in range(edudat_2010_2014.shape[0]):\n",
    "    if edudat_2010_2014.loc[i,\"TRACTA\"] not in tract_list:\n",
    "        edudat_2010_2014 = edudat_2010_2014.drop(i)\n",
    "\n"
   ]
  },
  {
   "cell_type": "code",
   "execution_count": 137,
   "metadata": {},
   "outputs": [],
   "source": [
    "column_dict_2010_2014 = {\"GISJOIN\":     \"GIS Join Match Code\",\n",
    "        \"YEAR\":        \"Data File Year\",\n",
    "        \"REGIONA\":     \"Region Code\",\n",
    "        \"DIVISIONA\":   \"Division Code\",\n",
    "        \"STATE\":       \"State Name\",\n",
    "        \"STATEA\":      \"State Code\",\n",
    "        \"COUNTY\":      \"County Name\",\n",
    "        \"COUNTYA\":     \"County Code\",\n",
    "        \"COUSUBA\":     \"County Subdivision Code\",\n",
    "        \"PLACEA\":      \"Place Code\",\n",
    "        \"TRACTA\":      \"Census Tract Code\",\n",
    "        \"BLKGRPA\":     \"Block Group Code\",\n",
    "        \"CONCITA\":     \"Consolidated City Code\",\n",
    "        \"AIANHHA\":     \"American Indian Area/Alaska Native Area/Hawaiian Home Land Code\",\n",
    "        \"RES_ONLYA\":   \"American Indian Area/Alaska Native Area (Reservation or Statistical Entity Only) Code\",\n",
    "        \"TRUSTA\":      \"American Indian Area (Off-Reservation Trust Land Only)/Hawaiian Home Land Code\",\n",
    "        \"AITSCEA\":     \"Tribal Subdivision/Remainder Code\",\n",
    "        \"ANRCA\":       \"Alaska Native Regional Corporation Code\",\n",
    "        \"CBSAA\":       \"Metropolitan Statistical Area/Micropolitan Statistical Area Code\",\n",
    "        \"CSAA\":        \"Combined Statistical Area Code\",\n",
    "        \"METDIVA\":     \"Metropolitan Division Code\",\n",
    "        \"NECTAA\":      \"New England City and Town Area Code\",\n",
    "        \"CNECTAA\":     \"Combined New England City and Town Area Code\",\n",
    "        \"NECTADIVA\":   \"New England City and Town Area Division Code\",\n",
    "        \"UAA\":         \"Urban Area Code\",\n",
    "        \"CDCURRA\":     \"Congressional District (2019-2021, 116th Congress) Code\",\n",
    "        \"SLDUA\":       \"State Legislative District (Upper Chamber) Code\",\n",
    "        \"SLDLA\":       \"State Legislative District (Lower Chamber) Code\",\n",
    "        \"ZCTA5A\":      \"5-Digit ZIP Code Tabulation Area Code\",\n",
    "        \"SUBMCDA\":     \"Subminor Civil Division Code\",\n",
    "        \"SDELMA\":      \"School District (Elementary)/Remainder Code\",\n",
    "        \"SDSECA\":      \"School District (Secondary)/Remainder Code\",\n",
    "        \"SDUNIA\":      \"School District (Unified)/Remainder Code\",\n",
    "        \"PUMA5A\":      \"Public Use Microdata Sample Area (PUMA) Code\",\n",
    "        \"BTTRA\":       \"Tribal Census Tract Code\",\n",
    "        \"BTBGA\":       \"Tribal Block Group Code\",\n",
    "        \"NAME_E\":      \"Area Name (Estimate)\",\n",
    "        \"ABC4E001\":    \"Education Total (Estimate)\",\n",
    "        \"ABC4E002\":    \"No schooling completed (Estimate)\",\n",
    "        \"ABC4E003\":    \"Nursery school (Estimate)\",\n",
    "        \"ABC4E004\":    \"Kindergarten (Estimate)\",\n",
    "        \"ABC4E005\":    \"1st grade (Estimate)\",\n",
    "        \"ABC4E006\":    \"2nd grade (Estimate)\",\n",
    "        \"ABC4E007\":    \"3rd grade (Estimate)\",\n",
    "        \"ABC4E008\":    \"4th grade (Estimate)\",\n",
    "        \"ABC4E009\":    \"5th grade (Estimate)\",\n",
    "        \"ABC4E010\":    \"6th grade (Estimate)\",\n",
    "        \"ABC4E011\":    \"7th grade (Estimate)\",\n",
    "        \"ABC4E012\":    \"8th grade (Estimate)\",\n",
    "        \"ABC4E013\":    \"9th grade (Estimate)\",\n",
    "        \"ABC4E014\":    \"10th grade (Estimate)\",\n",
    "        \"ABC4E015\":    \"11th grade (Estimate)\",\n",
    "        \"ABC4E016\":    \"12th grade, no diploma (Estimate)\",\n",
    "        \"ABC4E017\":    \"Regular high school diploma (Estimate)\",\n",
    "        \"ABC4E018\":    \"GED or alternative credential (Estimate)\",\n",
    "        \"ABC4E019\":    \"Some college, less than 1 year (Estimate)\",\n",
    "        \"ABC4E020\":    \"Some college, 1 or more years, no degree (Estimate)\",\n",
    "        \"ABC4E021\":    \"Associate's degree (Estimate)\",\n",
    "        \"ABC4E022\":    \"Bachelor's degree (Estimate)\",\n",
    "        \"ABC4E023\":    \"Master's degree (Estimate)\",\n",
    "        \"ABC4E024\":    \"Professional school degree (Estimate)\",\n",
    "        \"ABC4E025\":    \"Doctorate degree (Estimate)\",\n",
    "        \"NAME_M\":      \"Area Name (Margin of Error)\",\n",
    "        \"ABC4M001\":    \"Education Total (Margin of Error)\",\n",
    "        \"ABC4M002\":    \"No schooling completed (Margin of Error)\",\n",
    "        \"ABC4M003\":    \"Nursery school (Margin of Error)\",\n",
    "        \"ABC4M004\":    \"Kindergarten (Margin of Error)\",\n",
    "        \"ABC4M005\":    \"1st grade (Margin of Error)\",\n",
    "        \"ABC4M006\":    \"2nd grade (Margin of Error)\",\n",
    "        \"ABC4M007\":    \"3rd grade (Margin of Error)\",\n",
    "        \"ABC4M008\":    \"4th grade (Margin of Error)\",\n",
    "        \"ABC4M009\":    \"5th grade (Margin of Error)\",\n",
    "        \"ABC4M010\":    \"6th grade (Margin of Error)\",\n",
    "        \"ABC4M011\":    \"7th grade (Margin of Error)\",\n",
    "        \"ABC4M012\":    \"8th grade (Margin of Error)\",\n",
    "        \"ABC4M013\":    \"9th grade (Margin of Error)\",\n",
    "        \"ABC4M014\":    \"10th grade (Margin of Error)\",\n",
    "        \"ABC4M015\":    \"11th grade (Margin of Error)\",\n",
    "        \"ABC4M016\":    \"12th grade, no diploma (Margin of Error)\",\n",
    "        \"ABC4M017\":    \"Regular high school diploma (Margin of Error)\",\n",
    "        \"ABC4M018\":    \"GED or alternative credential (Margin of Error)\",\n",
    "        \"ABC4M019\":    \"Some college, less than 1 year (Margin of Error)\",\n",
    "        \"ABC4M020\":    \"Some college, 1 or more years, no degree (Margin of Error)\",\n",
    "        \"ABC4M021\":    \"Associate's degree (Margin of Error)\",\n",
    "        \"ABC4M022\":    \"Bachelor's degree (Margin of Error)\",\n",
    "        \"ABC4M023\":    \"Master's degree (Margin of Error)\",\n",
    "        \"ABC4M024\":    \"Professional school degree (Margin of Error)\",\n",
    "        \"ABC4M025\":    \"Doctorate degree (Margin of Error)\"\n",
    "}"
   ]
  },
  {
   "cell_type": "code",
   "execution_count": 138,
   "metadata": {},
   "outputs": [],
   "source": [
    "col_names = []\n",
    "for i in edudat_2010_2014:\n",
    "    col_names.append(i)\n",
    "for i in range(len(col_names)):\n",
    "    col_names[i] = column_dict_2010_2014[col_names[i]]\n",
    "edudat_2010_2014.columns = col_names"
   ]
  },
  {
   "cell_type": "code",
   "execution_count": 139,
   "metadata": {},
   "outputs": [
    {
     "output_type": "execute_result",
     "data": {
      "text/plain": "Index(['GIS Join Match Code', 'Data File Year', 'State Name', 'State Code',\n       'County Name', 'County Code', 'Census Tract Code',\n       'Area Name (Estimate)', 'Education Total (Estimate)',\n       'No schooling completed (Estimate)', 'Nursery school (Estimate)',\n       'Kindergarten (Estimate)', '1st grade (Estimate)',\n       '2nd grade (Estimate)', '3rd grade (Estimate)', '4th grade (Estimate)',\n       '5th grade (Estimate)', '6th grade (Estimate)', '7th grade (Estimate)',\n       '8th grade (Estimate)', '9th grade (Estimate)', '10th grade (Estimate)',\n       '11th grade (Estimate)', '12th grade, no diploma (Estimate)',\n       'Regular high school diploma (Estimate)',\n       'GED or alternative credential (Estimate)',\n       'Some college, less than 1 year (Estimate)',\n       'Some college, 1 or more years, no degree (Estimate)',\n       'Associate's degree (Estimate)', 'Bachelor's degree (Estimate)',\n       'Master's degree (Estimate)', 'Professional school degree (Estimate)',\n       'Doctorate degree (Estimate)', 'Area Name (Margin of Error)',\n       'Education Total (Margin of Error)',\n       'No schooling completed (Margin of Error)',\n       'Nursery school (Margin of Error)', 'Kindergarten (Margin of Error)',\n       '1st grade (Margin of Error)', '2nd grade (Margin of Error)',\n       '3rd grade (Margin of Error)', '4th grade (Margin of Error)',\n       '5th grade (Margin of Error)', '6th grade (Margin of Error)',\n       '7th grade (Margin of Error)', '8th grade (Margin of Error)',\n       '9th grade (Margin of Error)', '10th grade (Margin of Error)',\n       '11th grade (Margin of Error)',\n       '12th grade, no diploma (Margin of Error)',\n       'Regular high school diploma (Margin of Error)',\n       'GED or alternative credential (Margin of Error)',\n       'Some college, less than 1 year (Margin of Error)',\n       'Some college, 1 or more years, no degree (Margin of Error)',\n       'Associate's degree (Margin of Error)',\n       'Bachelor's degree (Margin of Error)',\n       'Master's degree (Margin of Error)',\n       'Professional school degree (Margin of Error)',\n       'Doctorate degree (Margin of Error)'],\n      dtype='object')"
     },
     "metadata": {},
     "execution_count": 139
    }
   ],
   "source": [
    "edudat_2010_2014.columns"
   ]
  },
  {
   "cell_type": "code",
   "execution_count": 140,
   "metadata": {},
   "outputs": [
    {
     "output_type": "execute_result",
     "data": {
      "text/plain": "Index(['GIS Join Match Code', 'Data File Year', 'State Name', 'State Code',\n       'County Name', 'County Code', 'Census Tract Code',\n       'Area Name (Estimate)', 'Education Total (Estimate)',\n       'No schooling completed (Estimate)', 'Nursery school (Estimate)',\n       'Kindergarten (Estimate)', '1st grade (Estimate)',\n       '2nd grade (Estimate)', '3rd grade (Estimate)', '4th grade (Estimate)',\n       '5th grade (Estimate)', '6th grade (Estimate)', '7th grade (Estimate)',\n       '8th grade (Estimate)', '9th grade (Estimate)', '10th grade (Estimate)',\n       '11th grade (Estimate)', '12th grade, no diploma (Estimate)',\n       'Regular high school diploma (Estimate)',\n       'GED or alternative credential (Estimate)',\n       'Some college, less than 1 year (Estimate)',\n       'Some college, 1 or more years, no degree (Estimate)',\n       'Associate's degree (Estimate)', 'Bachelor's degree (Estimate)',\n       'Master's degree (Estimate)', 'Professional school degree (Estimate)',\n       'Doctorate degree (Estimate)', 'Area Name (Margin of Error)',\n       'Education Total (Margin of Error)',\n       'No schooling completed (Margin of Error)',\n       'Nursery school (Margin of Error)', 'Kindergarten (Margin of Error)',\n       '1st grade (Margin of Error)', '2nd grade (Margin of Error)',\n       '3rd grade (Margin of Error)', '4th grade (Margin of Error)',\n       '5th grade (Margin of Error)', '6th grade (Margin of Error)',\n       '7th grade (Margin of Error)', '8th grade (Margin of Error)',\n       '9th grade (Margin of Error)', '10th grade (Margin of Error)',\n       '11th grade (Margin of Error)',\n       '12th grade, no diploma (Margin of Error)',\n       'Regular high school diploma (Margin of Error)',\n       'GED or alternative credential (Margin of Error)',\n       'Some college, less than 1 year (Margin of Error)',\n       'Some college, 1 or more years, no degree (Margin of Error)',\n       'Associate's degree (Margin of Error)',\n       'Bachelor's degree (Margin of Error)',\n       'Master's degree (Margin of Error)',\n       'Professional school degree (Margin of Error)',\n       'Doctorate degree (Margin of Error)'],\n      dtype='object')"
     },
     "metadata": {},
     "execution_count": 140
    }
   ],
   "source": [
    "edudat_2014_2018.columns"
   ]
  },
  {
   "cell_type": "code",
   "execution_count": 141,
   "metadata": {},
   "outputs": [
    {
     "output_type": "execute_result",
     "data": {
      "text/plain": "Index(['GIS Join Match Code', 'Data File Year', 'State Postal Abbreviation',\n       'State Name', 'State Code', 'County Name', 'County Code',\n       'Census Tract Code', 'Census Geographic Identifier', 'Area Name',\n       'Education Total (Estimate)', 'No schooling completed (Estimate)',\n       'Nursery school (Estimate)', 'Kindergarten (Estimate)',\n       '1st grade (Estimate)', '2nd grade (Estimate)', '3rd grade (Estimate)',\n       '4th grade (Estimate)', '5th grade (Estimate)', '6th grade (Estimate)',\n       '7th grade (Estimate)', '8th grade (Estimate)', '9th grade (Estimate)',\n       '10th grade (Estimate)', '11th grade (Estimate)',\n       '12th grade, no diploma (Estimate)',\n       'Regular high school diploma (Estimate)',\n       'GED or alternative credential (Estimate)',\n       'Some college, less than 1 year (Estimate)',\n       'Some college, 1 or more years, no degree (Estimate)',\n       'Associate's degree (Estimate)', 'Bachelor's degree (Estimate)',\n       'Master's degree (Estimate)', 'Professional school degree (Estimate)',\n       'Doctorate degree (Estimate)', 'Area Name (Margin of Error)',\n       'Education Total (Margin of Error)',\n       'No schooling completed (Margin of Error)',\n       'Nursery school (Margin of Error)', 'Kindergarten (Margin of Error)',\n       '1st grade (Margin of Error)', '2nd grade (Margin of Error)',\n       '3rd grade (Margin of Error)', '4th grade (Margin of Error)',\n       '5th grade (Margin of Error)', '6th grade (Margin of Error)',\n       '7th grade (Margin of Error)', '8th grade (Margin of Error)',\n       '9th grade (Margin of Error)', '10th grade (Margin of Error)',\n       '11th grade (Margin of Error)',\n       '12th grade, no diploma (Margin of Error)',\n       'Regular high school diploma (Margin of Error)',\n       'GED or alternative credential (Margin of Error)',\n       'Some college, less than 1 year (Margin of Error)',\n       'Some college, 1 or more years, no degree (Margin of Error)',\n       'Associate's degree (Margin of Error)',\n       'Bachelor's degree (Margin of Error)',\n       'Master's degree (Margin of Error)',\n       'Professional school degree (Margin of Error)',\n       'Doctorate degree (Margin of Error)'],\n      dtype='object')"
     },
     "metadata": {},
     "execution_count": 141
    }
   ],
   "source": [
    "edudat_2015_2019.columns"
   ]
  },
  {
   "cell_type": "code",
   "execution_count": 142,
   "metadata": {},
   "outputs": [
    {
     "output_type": "execute_result",
     "data": {
      "text/plain": "     GIS Join Match Code Data File Year State Name  State Code  \\\n12        G1700010010100      2010-2014   Illinois          17   \n14        G1700010010300      2010-2014   Illinois          17   \n15        G1700010010400      2010-2014   Illinois          17   \n17        G1700010010600      2010-2014   Illinois          17   \n26        G1700070010100      2010-2014   Illinois          17   \n...                  ...            ...        ...         ...   \n3113      G1702010980000      2015-2019   Illinois          17   \n3115      G1702030030200      2015-2019   Illinois          17   \n3116      G1702030030300      2015-2019   Illinois          17   \n3117      G1702030030400      2015-2019   Illinois          17   \n3120      G1702030030601      2015-2019   Illinois          17   \n\n           County Name  County Code  Census Tract Code  \\\n12        Adams County            1              10100   \n14        Adams County            1              10300   \n15        Adams County            1              10400   \n17        Adams County            1              10600   \n26        Boone County            7              10100   \n...                ...          ...                ...   \n3113  Winnebago County          201             980000   \n3115   Woodford County          203              30200   \n3116   Woodford County          203              30300   \n3117   Woodford County          203              30400   \n3120   Woodford County          203              30601   \n\n                          Area Name (Estimate)  Education Total (Estimate)  \\\n12    Census Tract 101, Adams County, Illinois                        2984   \n14    Census Tract 103, Adams County, Illinois                        4193   \n15    Census Tract 104, Adams County, Illinois                        2155   \n17    Census Tract 106, Adams County, Illinois                        4036   \n26    Census Tract 101, Boone County, Illinois                        5144   \n...                                        ...                         ...   \n3113                                       NaN                           4   \n3115                                       NaN                        1915   \n3116                                       NaN                        2030   \n3117                                       NaN                        3842   \n3120                                       NaN                        4158   \n\n      No schooling completed (Estimate)  ...  \\\n12                                   14  ...   \n14                                   25  ...   \n15                                   26  ...   \n17                                   13  ...   \n26                                   76  ...   \n...                                 ...  ...   \n3113                                  0  ...   \n3115                                  1  ...   \n3116                                  0  ...   \n3117                                  9  ...   \n3120                                  0  ...   \n\n      Some college, less than 1 year (Margin of Error)  \\\n12                                                  55   \n14                                                 126   \n15                                                 123   \n17                                                 100   \n26                                                 167   \n...                                                ...   \n3113                                                11   \n3115                                                45   \n3116                                                64   \n3117                                               129   \n3120                                                89   \n\n      Some college, 1 or more years, no degree (Margin of Error)  \\\n12                                                   99            \n14                                                  135            \n15                                                   98            \n17                                                  211            \n26                                                  236            \n...                                                 ...            \n3113                                                 11            \n3115                                                 83            \n3116                                                 85            \n3117                                                180            \n3120                                                161            \n\n      Associate's degree (Margin of Error)  \\\n12                                      66   \n14                                     157   \n15                                      72   \n17                                     137   \n26                                     143   \n...                                    ...   \n3113                                     5   \n3115                                    67   \n3116                                    58   \n3117                                   121   \n3120                                   117   \n\n      Bachelor's degree (Margin of Error)  Master's degree (Margin of Error)  \\\n12                                     76                                 33   \n14                                     96                                 54   \n15                                     76                                 55   \n17                                    214                                137   \n26                                    129                                 72   \n...                                   ...                                ...   \n3113                                   11                                 11   \n3115                                   72                                 28   \n3116                                   77                                 37   \n3117                                  226                                120   \n3120                                  203                                197   \n\n      Professional school degree (Margin of Error)  \\\n12                                               5   \n14                                              16   \n15                                              16   \n17                                              35   \n26                                              52   \n...                                            ...   \n3113                                            11   \n3115                                             3   \n3116                                            26   \n3117                                            53   \n3120                                            16   \n\n      Doctorate degree (Margin of Error)  State Postal Abbreviation  \\\n12                                    12                        NaN   \n14                                    15                        NaN   \n15                                    21                        NaN   \n17                                    41                        NaN   \n26                                    15                        NaN   \n...                                  ...                        ...   \n3113                                  11                         IL   \n3115                                   8                         IL   \n3116                                  11                         IL   \n3117                                  25                         IL   \n3120                                  35                         IL   \n\n      Census Geographic Identifier  \\\n12                             NaN   \n14                             NaN   \n15                             NaN   \n17                             NaN   \n26                             NaN   \n...                            ...   \n3113            14000US17201980000   \n3115            14000US17203030200   \n3116            14000US17203030300   \n3117            14000US17203030400   \n3120            14000US17203030601   \n\n                                           Area Name  \n12                                               NaN  \n14                                               NaN  \n15                                               NaN  \n17                                               NaN  \n26                                               NaN  \n...                                              ...  \n3113   Census Tract 9800, Winnebago County, Illinois  \n3115     Census Tract 302, Woodford County, Illinois  \n3116     Census Tract 303, Woodford County, Illinois  \n3117     Census Tract 304, Woodford County, Illinois  \n3120  Census Tract 306.01, Woodford County, Illinois  \n\n[2739 rows x 62 columns]",
      "text/html": "<div>\n<style scoped>\n    .dataframe tbody tr th:only-of-type {\n        vertical-align: middle;\n    }\n\n    .dataframe tbody tr th {\n        vertical-align: top;\n    }\n\n    .dataframe thead th {\n        text-align: right;\n    }\n</style>\n<table border=\"1\" class=\"dataframe\">\n  <thead>\n    <tr style=\"text-align: right;\">\n      <th></th>\n      <th>GIS Join Match Code</th>\n      <th>Data File Year</th>\n      <th>State Name</th>\n      <th>State Code</th>\n      <th>County Name</th>\n      <th>County Code</th>\n      <th>Census Tract Code</th>\n      <th>Area Name (Estimate)</th>\n      <th>Education Total (Estimate)</th>\n      <th>No schooling completed (Estimate)</th>\n      <th>...</th>\n      <th>Some college, less than 1 year (Margin of Error)</th>\n      <th>Some college, 1 or more years, no degree (Margin of Error)</th>\n      <th>Associate's degree (Margin of Error)</th>\n      <th>Bachelor's degree (Margin of Error)</th>\n      <th>Master's degree (Margin of Error)</th>\n      <th>Professional school degree (Margin of Error)</th>\n      <th>Doctorate degree (Margin of Error)</th>\n      <th>State Postal Abbreviation</th>\n      <th>Census Geographic Identifier</th>\n      <th>Area Name</th>\n    </tr>\n  </thead>\n  <tbody>\n    <tr>\n      <th>12</th>\n      <td>G1700010010100</td>\n      <td>2010-2014</td>\n      <td>Illinois</td>\n      <td>17</td>\n      <td>Adams County</td>\n      <td>1</td>\n      <td>10100</td>\n      <td>Census Tract 101, Adams County, Illinois</td>\n      <td>2984</td>\n      <td>14</td>\n      <td>...</td>\n      <td>55</td>\n      <td>99</td>\n      <td>66</td>\n      <td>76</td>\n      <td>33</td>\n      <td>5</td>\n      <td>12</td>\n      <td>NaN</td>\n      <td>NaN</td>\n      <td>NaN</td>\n    </tr>\n    <tr>\n      <th>14</th>\n      <td>G1700010010300</td>\n      <td>2010-2014</td>\n      <td>Illinois</td>\n      <td>17</td>\n      <td>Adams County</td>\n      <td>1</td>\n      <td>10300</td>\n      <td>Census Tract 103, Adams County, Illinois</td>\n      <td>4193</td>\n      <td>25</td>\n      <td>...</td>\n      <td>126</td>\n      <td>135</td>\n      <td>157</td>\n      <td>96</td>\n      <td>54</td>\n      <td>16</td>\n      <td>15</td>\n      <td>NaN</td>\n      <td>NaN</td>\n      <td>NaN</td>\n    </tr>\n    <tr>\n      <th>15</th>\n      <td>G1700010010400</td>\n      <td>2010-2014</td>\n      <td>Illinois</td>\n      <td>17</td>\n      <td>Adams County</td>\n      <td>1</td>\n      <td>10400</td>\n      <td>Census Tract 104, Adams County, Illinois</td>\n      <td>2155</td>\n      <td>26</td>\n      <td>...</td>\n      <td>123</td>\n      <td>98</td>\n      <td>72</td>\n      <td>76</td>\n      <td>55</td>\n      <td>16</td>\n      <td>21</td>\n      <td>NaN</td>\n      <td>NaN</td>\n      <td>NaN</td>\n    </tr>\n    <tr>\n      <th>17</th>\n      <td>G1700010010600</td>\n      <td>2010-2014</td>\n      <td>Illinois</td>\n      <td>17</td>\n      <td>Adams County</td>\n      <td>1</td>\n      <td>10600</td>\n      <td>Census Tract 106, Adams County, Illinois</td>\n      <td>4036</td>\n      <td>13</td>\n      <td>...</td>\n      <td>100</td>\n      <td>211</td>\n      <td>137</td>\n      <td>214</td>\n      <td>137</td>\n      <td>35</td>\n      <td>41</td>\n      <td>NaN</td>\n      <td>NaN</td>\n      <td>NaN</td>\n    </tr>\n    <tr>\n      <th>26</th>\n      <td>G1700070010100</td>\n      <td>2010-2014</td>\n      <td>Illinois</td>\n      <td>17</td>\n      <td>Boone County</td>\n      <td>7</td>\n      <td>10100</td>\n      <td>Census Tract 101, Boone County, Illinois</td>\n      <td>5144</td>\n      <td>76</td>\n      <td>...</td>\n      <td>167</td>\n      <td>236</td>\n      <td>143</td>\n      <td>129</td>\n      <td>72</td>\n      <td>52</td>\n      <td>15</td>\n      <td>NaN</td>\n      <td>NaN</td>\n      <td>NaN</td>\n    </tr>\n    <tr>\n      <th>...</th>\n      <td>...</td>\n      <td>...</td>\n      <td>...</td>\n      <td>...</td>\n      <td>...</td>\n      <td>...</td>\n      <td>...</td>\n      <td>...</td>\n      <td>...</td>\n      <td>...</td>\n      <td>...</td>\n      <td>...</td>\n      <td>...</td>\n      <td>...</td>\n      <td>...</td>\n      <td>...</td>\n      <td>...</td>\n      <td>...</td>\n      <td>...</td>\n      <td>...</td>\n      <td>...</td>\n    </tr>\n    <tr>\n      <th>3113</th>\n      <td>G1702010980000</td>\n      <td>2015-2019</td>\n      <td>Illinois</td>\n      <td>17</td>\n      <td>Winnebago County</td>\n      <td>201</td>\n      <td>980000</td>\n      <td>NaN</td>\n      <td>4</td>\n      <td>0</td>\n      <td>...</td>\n      <td>11</td>\n      <td>11</td>\n      <td>5</td>\n      <td>11</td>\n      <td>11</td>\n      <td>11</td>\n      <td>11</td>\n      <td>IL</td>\n      <td>14000US17201980000</td>\n      <td>Census Tract 9800, Winnebago County, Illinois</td>\n    </tr>\n    <tr>\n      <th>3115</th>\n      <td>G1702030030200</td>\n      <td>2015-2019</td>\n      <td>Illinois</td>\n      <td>17</td>\n      <td>Woodford County</td>\n      <td>203</td>\n      <td>30200</td>\n      <td>NaN</td>\n      <td>1915</td>\n      <td>1</td>\n      <td>...</td>\n      <td>45</td>\n      <td>83</td>\n      <td>67</td>\n      <td>72</td>\n      <td>28</td>\n      <td>3</td>\n      <td>8</td>\n      <td>IL</td>\n      <td>14000US17203030200</td>\n      <td>Census Tract 302, Woodford County, Illinois</td>\n    </tr>\n    <tr>\n      <th>3116</th>\n      <td>G1702030030300</td>\n      <td>2015-2019</td>\n      <td>Illinois</td>\n      <td>17</td>\n      <td>Woodford County</td>\n      <td>203</td>\n      <td>30300</td>\n      <td>NaN</td>\n      <td>2030</td>\n      <td>0</td>\n      <td>...</td>\n      <td>64</td>\n      <td>85</td>\n      <td>58</td>\n      <td>77</td>\n      <td>37</td>\n      <td>26</td>\n      <td>11</td>\n      <td>IL</td>\n      <td>14000US17203030300</td>\n      <td>Census Tract 303, Woodford County, Illinois</td>\n    </tr>\n    <tr>\n      <th>3117</th>\n      <td>G1702030030400</td>\n      <td>2015-2019</td>\n      <td>Illinois</td>\n      <td>17</td>\n      <td>Woodford County</td>\n      <td>203</td>\n      <td>30400</td>\n      <td>NaN</td>\n      <td>3842</td>\n      <td>9</td>\n      <td>...</td>\n      <td>129</td>\n      <td>180</td>\n      <td>121</td>\n      <td>226</td>\n      <td>120</td>\n      <td>53</td>\n      <td>25</td>\n      <td>IL</td>\n      <td>14000US17203030400</td>\n      <td>Census Tract 304, Woodford County, Illinois</td>\n    </tr>\n    <tr>\n      <th>3120</th>\n      <td>G1702030030601</td>\n      <td>2015-2019</td>\n      <td>Illinois</td>\n      <td>17</td>\n      <td>Woodford County</td>\n      <td>203</td>\n      <td>30601</td>\n      <td>NaN</td>\n      <td>4158</td>\n      <td>0</td>\n      <td>...</td>\n      <td>89</td>\n      <td>161</td>\n      <td>117</td>\n      <td>203</td>\n      <td>197</td>\n      <td>16</td>\n      <td>35</td>\n      <td>IL</td>\n      <td>14000US17203030601</td>\n      <td>Census Tract 306.01, Woodford County, Illinois</td>\n    </tr>\n  </tbody>\n</table>\n<p>2739 rows × 62 columns</p>\n</div>"
     },
     "metadata": {},
     "execution_count": 142
    }
   ],
   "source": [
    "edu_dat = pd.concat([edudat_2010_2014,edudat_2014_2018,edudat_2015_2019],axis=0)\n",
    "edu_dat"
   ]
  },
  {
   "cell_type": "code",
   "execution_count": 143,
   "metadata": {},
   "outputs": [],
   "source": [
    "# edu_dat.to_csv(\"/Users/benedictjung/Desktop/STAT349/edu_dat2010-2019.csv\", index=False)"
   ]
  },
  {
   "cell_type": "code",
   "execution_count": 144,
   "metadata": {},
   "outputs": [
    {
     "output_type": "execute_result",
     "data": {
      "text/plain": "              GISJOIN       YEAR STUSAB  REGIONA  DIVISIONA        STATE  \\\n0      G0100010020100  2015-2019     AL      NaN        NaN      Alabama   \n1      G0100010020200  2015-2019     AL      NaN        NaN      Alabama   \n2      G0100010020300  2015-2019     AL      NaN        NaN      Alabama   \n3      G0100010020400  2015-2019     AL      NaN        NaN      Alabama   \n4      G0100010020500  2015-2019     AL      NaN        NaN      Alabama   \n...               ...        ...    ...      ...        ...          ...   \n73996  G7201530750501  2015-2019     PR      NaN        NaN  Puerto Rico   \n73997  G7201530750502  2015-2019     PR      NaN        NaN  Puerto Rico   \n73998  G7201530750503  2015-2019     PR      NaN        NaN  Puerto Rico   \n73999  G7201530750601  2015-2019     PR      NaN        NaN  Puerto Rico   \n74000  G7201530750602  2015-2019     PR      NaN        NaN  Puerto Rico   \n\n       STATEA           COUNTY  COUNTYA  COUSUBA  ...  ALU3E005  ALU3E006  \\\n0           1   Autauga County        1      NaN  ...        79       133   \n1           1   Autauga County        1      NaN  ...        71        65   \n2           1   Autauga County        1      NaN  ...       170       215   \n3           1   Autauga County        1      NaN  ...       132       224   \n4           1   Autauga County        1      NaN  ...       709      1122   \n...       ...              ...      ...      ...  ...       ...       ...   \n73996      72  Yauco Municipio      153      NaN  ...       251       139   \n73997      72  Yauco Municipio      153      NaN  ...        73        81   \n73998      72  Yauco Municipio      153      NaN  ...         6        57   \n73999      72  Yauco Municipio      153      NaN  ...       179        55   \n74000      72  Yauco Municipio      153      NaN  ...        58        97   \n\n       ALU3E007  ALU3E008  ALU3E009  ALU3E010  ALU3E011  ALU3E012  ALU3E013  \\\n0            59       215        23        38         9         3         0   \n1            32       197        55        47        61        17         0   \n2           156       226        42        71       173        43        18   \n3           134       278       105        45        15       126        16   \n4           542       958         0        24        82        22        23   \n...         ...       ...       ...       ...       ...       ...       ...   \n73996        18       271        39        74        82        47       128   \n73997        38       139         0        65        25        12        10   \n73998        20       112         0         9        23         0        16   \n73999       116       177         0        15        62        22        43   \n74000         0       150         0         0         0         9         0   \n\n       ALW1E001  \n0       60208.0  \n1       43958.0  \n2       55345.0  \n3       59663.0  \n4       66108.0  \n...         ...  \n73996   20221.0  \n73997   18871.0  \n73998   13699.0  \n73999   23722.0  \n74000   10063.0  \n\n[74001 rows x 67 columns]",
      "text/html": "<div>\n<style scoped>\n    .dataframe tbody tr th:only-of-type {\n        vertical-align: middle;\n    }\n\n    .dataframe tbody tr th {\n        vertical-align: top;\n    }\n\n    .dataframe thead th {\n        text-align: right;\n    }\n</style>\n<table border=\"1\" class=\"dataframe\">\n  <thead>\n    <tr style=\"text-align: right;\">\n      <th></th>\n      <th>GISJOIN</th>\n      <th>YEAR</th>\n      <th>STUSAB</th>\n      <th>REGIONA</th>\n      <th>DIVISIONA</th>\n      <th>STATE</th>\n      <th>STATEA</th>\n      <th>COUNTY</th>\n      <th>COUNTYA</th>\n      <th>COUSUBA</th>\n      <th>...</th>\n      <th>ALU3E005</th>\n      <th>ALU3E006</th>\n      <th>ALU3E007</th>\n      <th>ALU3E008</th>\n      <th>ALU3E009</th>\n      <th>ALU3E010</th>\n      <th>ALU3E011</th>\n      <th>ALU3E012</th>\n      <th>ALU3E013</th>\n      <th>ALW1E001</th>\n    </tr>\n  </thead>\n  <tbody>\n    <tr>\n      <th>0</th>\n      <td>G0100010020100</td>\n      <td>2015-2019</td>\n      <td>AL</td>\n      <td>NaN</td>\n      <td>NaN</td>\n      <td>Alabama</td>\n      <td>1</td>\n      <td>Autauga County</td>\n      <td>1</td>\n      <td>NaN</td>\n      <td>...</td>\n      <td>79</td>\n      <td>133</td>\n      <td>59</td>\n      <td>215</td>\n      <td>23</td>\n      <td>38</td>\n      <td>9</td>\n      <td>3</td>\n      <td>0</td>\n      <td>60208.0</td>\n    </tr>\n    <tr>\n      <th>1</th>\n      <td>G0100010020200</td>\n      <td>2015-2019</td>\n      <td>AL</td>\n      <td>NaN</td>\n      <td>NaN</td>\n      <td>Alabama</td>\n      <td>1</td>\n      <td>Autauga County</td>\n      <td>1</td>\n      <td>NaN</td>\n      <td>...</td>\n      <td>71</td>\n      <td>65</td>\n      <td>32</td>\n      <td>197</td>\n      <td>55</td>\n      <td>47</td>\n      <td>61</td>\n      <td>17</td>\n      <td>0</td>\n      <td>43958.0</td>\n    </tr>\n    <tr>\n      <th>2</th>\n      <td>G0100010020300</td>\n      <td>2015-2019</td>\n      <td>AL</td>\n      <td>NaN</td>\n      <td>NaN</td>\n      <td>Alabama</td>\n      <td>1</td>\n      <td>Autauga County</td>\n      <td>1</td>\n      <td>NaN</td>\n      <td>...</td>\n      <td>170</td>\n      <td>215</td>\n      <td>156</td>\n      <td>226</td>\n      <td>42</td>\n      <td>71</td>\n      <td>173</td>\n      <td>43</td>\n      <td>18</td>\n      <td>55345.0</td>\n    </tr>\n    <tr>\n      <th>3</th>\n      <td>G0100010020400</td>\n      <td>2015-2019</td>\n      <td>AL</td>\n      <td>NaN</td>\n      <td>NaN</td>\n      <td>Alabama</td>\n      <td>1</td>\n      <td>Autauga County</td>\n      <td>1</td>\n      <td>NaN</td>\n      <td>...</td>\n      <td>132</td>\n      <td>224</td>\n      <td>134</td>\n      <td>278</td>\n      <td>105</td>\n      <td>45</td>\n      <td>15</td>\n      <td>126</td>\n      <td>16</td>\n      <td>59663.0</td>\n    </tr>\n    <tr>\n      <th>4</th>\n      <td>G0100010020500</td>\n      <td>2015-2019</td>\n      <td>AL</td>\n      <td>NaN</td>\n      <td>NaN</td>\n      <td>Alabama</td>\n      <td>1</td>\n      <td>Autauga County</td>\n      <td>1</td>\n      <td>NaN</td>\n      <td>...</td>\n      <td>709</td>\n      <td>1122</td>\n      <td>542</td>\n      <td>958</td>\n      <td>0</td>\n      <td>24</td>\n      <td>82</td>\n      <td>22</td>\n      <td>23</td>\n      <td>66108.0</td>\n    </tr>\n    <tr>\n      <th>...</th>\n      <td>...</td>\n      <td>...</td>\n      <td>...</td>\n      <td>...</td>\n      <td>...</td>\n      <td>...</td>\n      <td>...</td>\n      <td>...</td>\n      <td>...</td>\n      <td>...</td>\n      <td>...</td>\n      <td>...</td>\n      <td>...</td>\n      <td>...</td>\n      <td>...</td>\n      <td>...</td>\n      <td>...</td>\n      <td>...</td>\n      <td>...</td>\n      <td>...</td>\n      <td>...</td>\n    </tr>\n    <tr>\n      <th>73996</th>\n      <td>G7201530750501</td>\n      <td>2015-2019</td>\n      <td>PR</td>\n      <td>NaN</td>\n      <td>NaN</td>\n      <td>Puerto Rico</td>\n      <td>72</td>\n      <td>Yauco Municipio</td>\n      <td>153</td>\n      <td>NaN</td>\n      <td>...</td>\n      <td>251</td>\n      <td>139</td>\n      <td>18</td>\n      <td>271</td>\n      <td>39</td>\n      <td>74</td>\n      <td>82</td>\n      <td>47</td>\n      <td>128</td>\n      <td>20221.0</td>\n    </tr>\n    <tr>\n      <th>73997</th>\n      <td>G7201530750502</td>\n      <td>2015-2019</td>\n      <td>PR</td>\n      <td>NaN</td>\n      <td>NaN</td>\n      <td>Puerto Rico</td>\n      <td>72</td>\n      <td>Yauco Municipio</td>\n      <td>153</td>\n      <td>NaN</td>\n      <td>...</td>\n      <td>73</td>\n      <td>81</td>\n      <td>38</td>\n      <td>139</td>\n      <td>0</td>\n      <td>65</td>\n      <td>25</td>\n      <td>12</td>\n      <td>10</td>\n      <td>18871.0</td>\n    </tr>\n    <tr>\n      <th>73998</th>\n      <td>G7201530750503</td>\n      <td>2015-2019</td>\n      <td>PR</td>\n      <td>NaN</td>\n      <td>NaN</td>\n      <td>Puerto Rico</td>\n      <td>72</td>\n      <td>Yauco Municipio</td>\n      <td>153</td>\n      <td>NaN</td>\n      <td>...</td>\n      <td>6</td>\n      <td>57</td>\n      <td>20</td>\n      <td>112</td>\n      <td>0</td>\n      <td>9</td>\n      <td>23</td>\n      <td>0</td>\n      <td>16</td>\n      <td>13699.0</td>\n    </tr>\n    <tr>\n      <th>73999</th>\n      <td>G7201530750601</td>\n      <td>2015-2019</td>\n      <td>PR</td>\n      <td>NaN</td>\n      <td>NaN</td>\n      <td>Puerto Rico</td>\n      <td>72</td>\n      <td>Yauco Municipio</td>\n      <td>153</td>\n      <td>NaN</td>\n      <td>...</td>\n      <td>179</td>\n      <td>55</td>\n      <td>116</td>\n      <td>177</td>\n      <td>0</td>\n      <td>15</td>\n      <td>62</td>\n      <td>22</td>\n      <td>43</td>\n      <td>23722.0</td>\n    </tr>\n    <tr>\n      <th>74000</th>\n      <td>G7201530750602</td>\n      <td>2015-2019</td>\n      <td>PR</td>\n      <td>NaN</td>\n      <td>NaN</td>\n      <td>Puerto Rico</td>\n      <td>72</td>\n      <td>Yauco Municipio</td>\n      <td>153</td>\n      <td>NaN</td>\n      <td>...</td>\n      <td>58</td>\n      <td>97</td>\n      <td>0</td>\n      <td>150</td>\n      <td>0</td>\n      <td>0</td>\n      <td>0</td>\n      <td>9</td>\n      <td>0</td>\n      <td>10063.0</td>\n    </tr>\n  </tbody>\n</table>\n<p>74001 rows × 67 columns</p>\n</div>"
     },
     "metadata": {},
     "execution_count": 144
    }
   ],
   "source": [
    "rt_dat_E"
   ]
  },
  {
   "cell_type": "code",
   "execution_count": 145,
   "metadata": {},
   "outputs": [],
   "source": [
    "rt_dat_E.dropna(axis=1, how='all', inplace=True)\n",
    "rt_dat_E = rt_dat_E[rt_dat_E[\"STATE\"] == \"Illinois\"]\n",
    "rt_dat_E = rt_dat_E.reset_index(drop=True)\n",
    "\n",
    "for i in range(rt_dat_E.shape[0]):\n",
    "    if rt_dat_E.loc[i,\"TRACTA\"] not in tract_list:\n",
    "        rt_dat_E = rt_dat_E.drop(i)"
   ]
  },
  {
   "cell_type": "code",
   "execution_count": 146,
   "metadata": {},
   "outputs": [
    {
     "output_type": "execute_result",
     "data": {
      "text/plain": "Index(['GISJOIN', 'YEAR', 'STUSAB', 'STATE', 'STATEA', 'COUNTY', 'COUNTYA',\n       'TRACTA', 'GEOID', 'NAME', 'ALUCE001', 'ALUCE002', 'ALUCE003',\n       'ALUCE004', 'ALUCE005', 'ALUCE006', 'ALUCE007', 'ALUCE008', 'ALUCE009',\n       'ALUCE010', 'ALU3E001', 'ALU3E002', 'ALU3E003', 'ALU3E004', 'ALU3E005',\n       'ALU3E006', 'ALU3E007', 'ALU3E008', 'ALU3E009', 'ALU3E010', 'ALU3E011',\n       'ALU3E012', 'ALU3E013', 'ALW1E001'],\n      dtype='object')"
     },
     "metadata": {},
     "execution_count": 146
    }
   ],
   "source": [
    "rt_dat_E.columns"
   ]
  },
  {
   "cell_type": "code",
   "execution_count": 147,
   "metadata": {},
   "outputs": [],
   "source": [
    "rt_e_dict_2015_2019 = {\"GISJOIN\":     \"GIS Join Match Code\",\n",
    "        \"YEAR\":        \"Data File Year\",\n",
    "        \"STUSAB\":      \"State Postal Abbreviation\",\n",
    "        \"STATE\":       \"State Name\",\n",
    "        \"STATEA\":      \"State Code\",\n",
    "        \"COUNTY\":      \"County Name\",\n",
    "        \"COUNTYA\":     \"County Code\",\n",
    "        \"TRACTA\":      \"Census Tract Code\",\n",
    "        \"GEOID\":       \"Census Geographic Identifier\",\n",
    "        \"NAME\":       \"Area Name\",\n",
    "        \"ALUCE001\":    \"Race Total (Estimate)\",\n",
    "        \"ALUCE002\":    \"White alone (Estimate)\",\n",
    "        \"ALUCE003\":    \"Black or African American alone (Estimate)\",\n",
    "        \"ALUCE004\":    \"American Indian and Alaska Native alone (Estimate)\",\n",
    "        \"ALUCE005\":    \"Asian alone (Estimate)\",\n",
    "        \"ALUCE006\":    \"Native Hawaiian and Other Pacific Islander alone (Estimate)\",\n",
    "        \"ALUCE007\":    \"Some other race alone (Estimate)\",\n",
    "        \"ALUCE008\":    \"Two or more races (Estimate)\",\n",
    "        \"ALUCE009\":    \"Two or more races: Two races including Some other race (Estimate)\",\n",
    "        \"ALUCE010\":    \"Two or more races: Two races excluding Some other race, and three or more races (Estimate)\",\n",
    "        \"ALU3E001\":    \"Travel Total (Estimate)\",\n",
    "        \"ALU3E002\":    \"Less than 5 minutes (Estimate)\",\n",
    "        \"ALU3E003\":    \"5 to 9 minutes (Estimate)\",\n",
    "        \"ALU3E004\":    \"10 to 14 minutes (Estimate)\",\n",
    "        \"ALU3E005\":    \"15 to 19 minutes (Estimate)\",\n",
    "        \"ALU3E006\":    \"20 to 24 minutes (Estimate)\",\n",
    "        \"ALU3E007\":    \"25 to 29 minutes (Estimate)\",\n",
    "        \"ALU3E008\":    \"30 to 34 minutes (Estimate)\",\n",
    "        \"ALU3E009\":    \"35 to 39 minutes (Estimate)\",\n",
    "        \"ALU3E010\":    \"40 to 44 minutes (Estimate)\",\n",
    "        \"ALU3E011\":    \"45 to 59 minutes (Estimate)\",\n",
    "        \"ALU3E012\":    \"60 to 89 minutes (Estimate)\",\n",
    "        \"ALU3E013\":    \"90 or more minutes (Estimate)\",\n",
    "        \"ALW1E001\":    \"Median household income in the past 12 months (in 2019 inflation-adjusted dollars) (Estimate)\"\n",
    "}\n",
    "        "
   ]
  },
  {
   "cell_type": "code",
   "execution_count": 148,
   "metadata": {},
   "outputs": [],
   "source": [
    "col_names = []\n",
    "for i in rt_dat_E:\n",
    "    col_names.append(i)\n",
    "for i in range(len(col_names)):\n",
    "    col_names[i] = rt_e_dict_2015_2019[col_names[i]]\n",
    "rt_dat_E.columns = col_names"
   ]
  },
  {
   "cell_type": "code",
   "execution_count": 149,
   "metadata": {},
   "outputs": [],
   "source": [
    "rt_dat_ME.dropna(axis=1, how='all', inplace=True)\n",
    "rt_dat_ME = rt_dat_ME[rt_dat_ME[\"STATE\"] == \"Illinois\"]\n",
    "rt_dat_ME = rt_dat_ME.reset_index(drop=True)\n",
    "\n",
    "for i in range(rt_dat_ME.shape[0]):\n",
    "    if rt_dat_ME.loc[i,\"TRACTA\"] not in tract_list:\n",
    "        rt_dat_ME = rt_dat_ME.drop(i)"
   ]
  },
  {
   "cell_type": "code",
   "execution_count": 150,
   "metadata": {},
   "outputs": [
    {
     "output_type": "execute_result",
     "data": {
      "text/plain": "Index(['GISJOIN', 'YEAR', 'STUSAB', 'STATE', 'STATEA', 'COUNTY', 'COUNTYA',\n       'TRACTA', 'GEOID', 'NAME', 'ALUCM001', 'ALUCM002', 'ALUCM003',\n       'ALUCM004', 'ALUCM005', 'ALUCM006', 'ALUCM007', 'ALUCM008', 'ALUCM009',\n       'ALUCM010', 'ALU3M001', 'ALU3M002', 'ALU3M003', 'ALU3M004', 'ALU3M005',\n       'ALU3M006', 'ALU3M007', 'ALU3M008', 'ALU3M009', 'ALU3M010', 'ALU3M011',\n       'ALU3M012', 'ALU3M013', 'ALW1M001'],\n      dtype='object')"
     },
     "metadata": {},
     "execution_count": 150
    }
   ],
   "source": [
    "rt_dat_ME.columns"
   ]
  },
  {
   "cell_type": "code",
   "execution_count": 151,
   "metadata": {},
   "outputs": [],
   "source": [
    "rt_m_dict_2015_2019 = {\"GISJOIN\":     \"GIS Join Match Code\",\n",
    "        \"YEAR\":        \"Data File Year\",\n",
    "        \"STUSAB\":      \"State Postal Abbreviation\",\n",
    "        \"STATE\":       \"State Name\",\n",
    "        \"STATEA\":      \"State Code\",\n",
    "        \"COUNTY\":      \"County Name\",\n",
    "        \"COUNTYA\":     \"County Code\",\n",
    "        \"TRACTA\":      \"Census Tract Code\",\n",
    "        \"GEOID\":       \"Census Geographic Identifier\",\n",
    "        \"NAME\":       \"Area Name\",\n",
    "        \"ALUCM001\":    \"Race Total (Margin of Error)\",\n",
    "        \"ALUCM002\":    \"White alone (Margin of Error)\",\n",
    "        \"ALUCM003\":    \"Black or African American alone (Margin of Error)\",\n",
    "        \"ALUCM004\":    \"American Indian and Alaska Native alone (Margin of Error)\",\n",
    "        \"ALUCM005\":    \"Asian alone (Margin of Error)\",\n",
    "        \"ALUCM006\":    \"Native Hawaiian and Other Pacific Islander alone (Margin of Error)\",\n",
    "        \"ALUCM007\":    \"Some other race alone (Margin of Error)\",\n",
    "        \"ALUCM008\":    \"Two or more races (Margin of Error)\",\n",
    "        \"ALUCM009\":    \"Two or more races: Two races including Some other race (Margin of Error)\",\n",
    "        \"ALUCM010\":    \"Two or more races: Two races excluding Some other race, and three or more races (Margin of Error)\",\n",
    "        \"ALU3M001\":    \"Travel Total (Margin of Error)\",\n",
    "        \"ALU3M002\":    \"Less than 5 minutes (Margin of Error)\",\n",
    "        \"ALU3M003\":    \"5 to 9 minutes (Margin of Error)\",\n",
    "        \"ALU3M004\":    \"10 to 14 minutes (Margin of Error)\",\n",
    "        \"ALU3M005\":    \"15 to 19 minutes (Margin of Error)\",\n",
    "        \"ALU3M006\":    \"20 to 24 minutes (Margin of Error)\",\n",
    "        \"ALU3M007\":    \"25 to 29 minutes (Margin of Error)\",\n",
    "        \"ALU3M008\":    \"30 to 34 minutes (Margin of Error)\",\n",
    "        \"ALU3M009\":    \"35 to 39 minutes (Margin of Error)\",\n",
    "        \"ALU3M010\":    \"40 to 44 minutes (Margin of Error)\",\n",
    "        \"ALU3M011\":    \"45 to 59 minutes (Margin of Error)\",\n",
    "        \"ALU3M012\":    \"60 to 89 minutes (Margin of Error)\",\n",
    "        \"ALU3M013\":    \"90 or more minutes (Margin of Error)\",\n",
    "        \"ALW1M001\":    \"Median household income in the past 12 months (in 2019 inflation-adjusted dollars) (Margin of Error)\"\n",
    "}\n",
    "        "
   ]
  },
  {
   "cell_type": "code",
   "execution_count": 152,
   "metadata": {},
   "outputs": [],
   "source": [
    "col_names = []\n",
    "for i in rt_dat_ME:\n",
    "    col_names.append(i)\n",
    "for i in range(len(col_names)):\n",
    "    col_names[i] = rt_m_dict_2015_2019[col_names[i]]\n",
    "rt_dat_ME.columns = col_names"
   ]
  },
  {
   "cell_type": "code",
   "execution_count": 153,
   "metadata": {},
   "outputs": [
    {
     "output_type": "execute_result",
     "data": {
      "text/plain": "Index(['GIS Join Match Code', 'Data File Year', 'State Postal Abbreviation',\n       'State Name', 'State Code', 'County Name', 'County Code',\n       'Census Tract Code', 'Census Geographic Identifier', 'Area Name',\n       'Race Total (Margin of Error)', 'White alone (Margin of Error)',\n       'Black or African American alone (Margin of Error)',\n       'American Indian and Alaska Native alone (Margin of Error)',\n       'Asian alone (Margin of Error)',\n       'Native Hawaiian and Other Pacific Islander alone (Margin of Error)',\n       'Some other race alone (Margin of Error)',\n       'Two or more races (Margin of Error)',\n       'Two or more races: Two races including Some other race (Margin of Error)',\n       'Two or more races: Two races excluding Some other race, and three or more races (Margin of Error)',\n       'Travel Total (Margin of Error)',\n       'Less than 5 minutes (Margin of Error)',\n       '5 to 9 minutes (Margin of Error)',\n       '10 to 14 minutes (Margin of Error)',\n       '15 to 19 minutes (Margin of Error)',\n       '20 to 24 minutes (Margin of Error)',\n       '25 to 29 minutes (Margin of Error)',\n       '30 to 34 minutes (Margin of Error)',\n       '35 to 39 minutes (Margin of Error)',\n       '40 to 44 minutes (Margin of Error)',\n       '45 to 59 minutes (Margin of Error)',\n       '60 to 89 minutes (Margin of Error)',\n       '90 or more minutes (Margin of Error)',\n       'Median household income in the past 12 months (in 2019 inflation-adjusted dollars) (Margin of Error)'],\n      dtype='object')"
     },
     "metadata": {},
     "execution_count": 153
    }
   ],
   "source": [
    "rt_dat_ME.columns"
   ]
  },
  {
   "cell_type": "code",
   "execution_count": 154,
   "metadata": {},
   "outputs": [],
   "source": [
    "d_dat_E.dropna(axis=1, how='all', inplace=True)\n",
    "d_dat_E = d_dat_E[d_dat_E[\"STATE\"] == \"Illinois\"]\n",
    "d_dat_E = d_dat_E.reset_index(drop=True)\n",
    "\n",
    "for i in range(d_dat_E.shape[0]):\n",
    "    if d_dat_E.loc[i,\"TRACTA\"] not in tract_list:\n",
    "        d_dat_E = d_dat_E.drop(i)\n",
    "\n"
   ]
  },
  {
   "cell_type": "code",
   "execution_count": 155,
   "metadata": {},
   "outputs": [
    {
     "output_type": "execute_result",
     "data": {
      "text/plain": "Index(['GISJOIN', 'YEAR', 'STUSAB', 'STATE', 'STATEA', 'COUNTY', 'COUNTYA',\n       'TRACTA', 'GEOID', 'NAME', 'AMC4E001', 'AMC4E002', 'AMC4E003',\n       'AMC4E004', 'AMC4E005', 'AMC4E006', 'AMC4E007', 'AMC4E008', 'AMC4E009',\n       'AMC4E010', 'AMC4E011', 'AMC4E012', 'AMC4E013', 'AMC4E014', 'AMC4E015',\n       'AMC4E016', 'AMC4E017', 'AMC4E018', 'AMC4E019', 'AMC4E020', 'AMC4E021',\n       'AMC4E022', 'AMC4E023', 'AMC4E024', 'AMC4E025', 'AMC4E026', 'AMC4E027',\n       'AMC4E028', 'AMC4E029', 'AMC4E030', 'AMC4E031', 'AMC4E032', 'AMC4E033',\n       'AMC4E034', 'AMC4E035', 'AMC4E036', 'AMC4E037', 'AMC4E038', 'AMC4E039'],\n      dtype='object')"
     },
     "metadata": {},
     "execution_count": 155
    }
   ],
   "source": [
    "d_dat_E.columns"
   ]
  },
  {
   "cell_type": "code",
   "execution_count": 156,
   "metadata": {},
   "outputs": [],
   "source": [
    "d_e_dict_2015_2019 = {\"GISJOIN\":     \"GIS Join Match Code\",\n",
    "        \"YEAR\":        \"Data File Year\",\n",
    "        \"STUSAB\":      \"State Postal Abbreviation\",\n",
    "        \"STATE\":       \"State Name\",\n",
    "        \"STATEA\":      \"State Code\",\n",
    "        \"COUNTY\":      \"County Name\",\n",
    "        \"COUNTYA\":     \"County Code\",\n",
    "        \"TRACTA\":      \"Census Tract Code\",\n",
    "        \"GEOID\":       \"Census Geographic Identifier\",\n",
    "        \"NAME\":       \"Area Name\",\n",
    "        \"AMC4E001\":    \"Total (Estimate)\",\n",
    "        \"AMC4E002\":    \"Male (Estimate)\",\n",
    "        \"AMC4E003\":    \"Male: Under 5 years (Estimate)\",\n",
    "        \"AMC4E004\":    \"Male: Under 5 years: With a disability (Estimate)\",\n",
    "        \"AMC4E005\":    \"Male: Under 5 years: No disability (Estimate)\",\n",
    "        \"AMC4E006\":    \"Male: 5 to 17 years (Estimate)\",\n",
    "        \"AMC4E007\":    \"Male: 5 to 17 years: With a disability (Estimate)\",\n",
    "        \"AMC4E008\":    \"Male: 5 to 17 years: No disability (Estimate)\",\n",
    "        \"AMC4E009\":    \"Male: 18 to 34 years (Estimate)\",\n",
    "        \"AMC4E010\":    \"Male: 18 to 34 years: With a disability (Estimate)\",\n",
    "        \"AMC4E011\":    \"Male: 18 to 34 years: No disability (Estimate)\",\n",
    "        \"AMC4E012\":    \"Male: 35 to 64 years (Estimate)\",\n",
    "        \"AMC4E013\":    \"Male: 35 to 64 years: With a disability (Estimate)\",\n",
    "        \"AMC4E014\":    \"Male: 35 to 64 years: No disability (Estimate)\",\n",
    "        \"AMC4E015\":    \"Male: 65 to 74 years (Estimate)\",\n",
    "        \"AMC4E016\":    \"Male: 65 to 74 years: With a disability (Estimate)\",\n",
    "        \"AMC4E017\":    \"Male: 65 to 74 years: No disability (Estimate)\",\n",
    "        \"AMC4E018\":    \"Male: 75 years and over (Estimate)\",\n",
    "        \"AMC4E019\":    \"Male: 75 years and over: With a disability (Estimate)\",\n",
    "        \"AMC4E020\":    \"Male: 75 years and over: No disability (Estimate)\",\n",
    "        \"AMC4E021\":    \"Female (Estimate)\",\n",
    "        \"AMC4E022\":    \"Female: Under 5 years (Estimate)\",\n",
    "        \"AMC4E023\":    \"Female: Under 5 years: With a disability (Estimate)\",\n",
    "        \"AMC4E024\":    \"Female: Under 5 years: No disability (Estimate)\",\n",
    "        \"AMC4E025\":    \"Female: 5 to 17 years (Estimate)\",\n",
    "        \"AMC4E026\":    \"Female: 5 to 17 years: With a disability (Estimate)\",\n",
    "        \"AMC4E027\":    \"Female: 5 to 17 years: No disability (Estimate)\",\n",
    "        \"AMC4E028\":    \"Female: 18 to 34 years (Estimate)\",\n",
    "        \"AMC4E029\":    \"Female: 18 to 34 years: With a disability (Estimate)\",\n",
    "        \"AMC4E030\":    \"Female: 18 to 34 years: No disability (Estimate)\",\n",
    "        \"AMC4E031\":    \"Female: 35 to 64 years (Estimate)\",\n",
    "        \"AMC4E032\":    \"Female: 35 to 64 years: With a disability (Estimate)\",\n",
    "        \"AMC4E033\":    \"Female: 35 to 64 years: No disability (Estimate)\",\n",
    "        \"AMC4E034\":    \"Female: 65 to 74 years (Estimate)\",\n",
    "        \"AMC4E035\":    \"Female: 65 to 74 years: With a disability (Estimate)\",\n",
    "        \"AMC4E036\":    \"Female: 65 to 74 years: No disability (Estimate)\",\n",
    "        \"AMC4E037\":    \"Female: 75 years and over (Estimate)\",\n",
    "        \"AMC4E038\":    \"Female: 75 years and over: With a disability (Estimate)\",\n",
    "        \"AMC4E039\":    \"Female: 75 years and over: No disability (Estimate)\"\n",
    "}"
   ]
  },
  {
   "cell_type": "code",
   "execution_count": 157,
   "metadata": {},
   "outputs": [],
   "source": [
    "col_names = []\n",
    "for i in d_dat_E:\n",
    "    col_names.append(i)\n",
    "for i in range(len(col_names)):\n",
    "    col_names[i] = d_e_dict_2015_2019[col_names[i]]\n",
    "d_dat_E.columns = col_names"
   ]
  },
  {
   "cell_type": "code",
   "execution_count": 158,
   "metadata": {},
   "outputs": [],
   "source": [
    "d_dat_ME.dropna(axis=1, how='all', inplace=True)\n",
    "d_dat_ME = d_dat_ME[d_dat_ME[\"STATE\"] == \"Illinois\"]\n",
    "d_dat_ME = d_dat_ME.reset_index(drop=True)\n",
    "\n",
    "for i in range(d_dat_ME.shape[0]):\n",
    "    if d_dat_ME.loc[i,\"TRACTA\"] not in tract_list:\n",
    "        d_dat_ME = d_dat_ME.drop(i)\n",
    "\n"
   ]
  },
  {
   "cell_type": "code",
   "execution_count": 159,
   "metadata": {},
   "outputs": [
    {
     "output_type": "execute_result",
     "data": {
      "text/plain": "Index(['GISJOIN', 'YEAR', 'STUSAB', 'STATE', 'STATEA', 'COUNTY', 'COUNTYA',\n       'TRACTA', 'GEOID', 'NAME', 'AMC4M001', 'AMC4M002', 'AMC4M003',\n       'AMC4M004', 'AMC4M005', 'AMC4M006', 'AMC4M007', 'AMC4M008', 'AMC4M009',\n       'AMC4M010', 'AMC4M011', 'AMC4M012', 'AMC4M013', 'AMC4M014', 'AMC4M015',\n       'AMC4M016', 'AMC4M017', 'AMC4M018', 'AMC4M019', 'AMC4M020', 'AMC4M021',\n       'AMC4M022', 'AMC4M023', 'AMC4M024', 'AMC4M025', 'AMC4M026', 'AMC4M027',\n       'AMC4M028', 'AMC4M029', 'AMC4M030', 'AMC4M031', 'AMC4M032', 'AMC4M033',\n       'AMC4M034', 'AMC4M035', 'AMC4M036', 'AMC4M037', 'AMC4M038', 'AMC4M039'],\n      dtype='object')"
     },
     "metadata": {},
     "execution_count": 159
    }
   ],
   "source": [
    "d_dat_ME.columns"
   ]
  },
  {
   "cell_type": "code",
   "execution_count": 160,
   "metadata": {},
   "outputs": [],
   "source": [
    "d_m_dict_2015_2019 = {\"GISJOIN\":     \"GIS Join Match Code\",\n",
    "        \"YEAR\":        \"Data File Year\",\n",
    "        \"STUSAB\":      \"State Postal Abbreviation\",\n",
    "        \"STATE\":       \"State Name\",\n",
    "        \"STATEA\":      \"State Code\",\n",
    "        \"COUNTY\":      \"County Name\",\n",
    "        \"COUNTYA\":     \"County Code\",\n",
    "        \"TRACTA\":      \"Census Tract Code\",\n",
    "        \"GEOID\":       \"Census Geographic Identifier\",\n",
    "        \"NAME\":       \"Area Name\",\n",
    "        \"AMC4M001\":    \"Total (Margin of Error)\",\n",
    "        \"AMC4M002\":    \"Male (Margin of Error)\",\n",
    "        \"AMC4M003\":    \"Male: Under 5 years (Margin of Error)\",\n",
    "        \"AMC4M004\":    \"Male: Under 5 years: With a disability (Margin of Error)\",\n",
    "        \"AMC4M005\":    \"Male: Under 5 years: No disability (Margin of Error)\",\n",
    "        \"AMC4M006\":    \"Male: 5 to 17 years (Margin of Error)\",\n",
    "        \"AMC4M007\":    \"Male: 5 to 17 years: With a disability (Margin of Error)\",\n",
    "        \"AMC4M008\":    \"Male: 5 to 17 years: No disability (Margin of Error)\",\n",
    "        \"AMC4M009\":    \"Male: 18 to 34 years (Margin of Error)\",\n",
    "        \"AMC4M010\":    \"Male: 18 to 34 years: With a disability (Margin of Error)\",\n",
    "        \"AMC4M011\":    \"Male: 18 to 34 years: No disability (Margin of Error)\",\n",
    "        \"AMC4M012\":    \"Male: 35 to 64 years (Margin of Error)\",\n",
    "        \"AMC4M013\":    \"Male: 35 to 64 years: With a disability (Margin of Error)\",\n",
    "        \"AMC4M014\":    \"Male: 35 to 64 years: No disability (Margin of Error)\",\n",
    "        \"AMC4M015\":    \"Male: 65 to 74 years (Margin of Error)\",\n",
    "        \"AMC4M016\":    \"Male: 65 to 74 years: With a disability (Margin of Error)\",\n",
    "        \"AMC4M017\":    \"Male: 65 to 74 years: No disability (Margin of Error)\",\n",
    "        \"AMC4M018\":    \"Male: 75 years and over (Margin of Error)\",\n",
    "        \"AMC4M019\":    \"Male: 75 years and over: With a disability (Margin of Error)\",\n",
    "        \"AMC4M020\":    \"Male: 75 years and over: No disability (Margin of Error)\",\n",
    "        \"AMC4M021\":    \"Female (Margin of Error)\",\n",
    "        \"AMC4M022\":    \"Female: Under 5 years (Margin of Error)\",\n",
    "        \"AMC4M023\":    \"Female: Under 5 years: With a disability (Margin of Error)\",\n",
    "        \"AMC4M024\":    \"Female: Under 5 years: No disability (Margin of Error)\",\n",
    "        \"AMC4M025\":    \"Female: 5 to 17 years (Margin of Error)\",\n",
    "        \"AMC4M026\":    \"Female: 5 to 17 years: With a disability (Margin of Error)\",\n",
    "        \"AMC4M027\":    \"Female: 5 to 17 years: No disability (Margin of Error)\",\n",
    "        \"AMC4M028\":    \"Female: 18 to 34 years (Margin of Error)\",\n",
    "        \"AMC4M029\":    \"Female: 18 to 34 years: With a disability (Margin of Error)\",\n",
    "        \"AMC4M030\":    \"Female: 18 to 34 years: No disability (Margin of Error)\",\n",
    "        \"AMC4M031\":    \"Female: 35 to 64 years (Margin of Error)\",\n",
    "        \"AMC4M032\":    \"Female: 35 to 64 years: With a disability (Margin of Error)\",\n",
    "        \"AMC4M033\":    \"Female: 35 to 64 years: No disability (Margin of Error)\",\n",
    "        \"AMC4M034\":    \"Female: 65 to 74 years (Margin of Error)\",\n",
    "        \"AMC4M035\":    \"Female: 65 to 74 years: With a disability (Margin of Error)\",\n",
    "        \"AMC4M036\":    \"Female: 65 to 74 years: No disability (Margin of Error)\",\n",
    "        \"AMC4M037\":    \"Female: 75 years and over (Margin of Error)\",\n",
    "        \"AMC4M038\":    \"Female: 75 years and over: With a disability (Margin of Error)\",\n",
    "        \"AMC4M039\":    \"Female: 75 years and over: No disability (Margin of Error)\"\n",
    "}"
   ]
  },
  {
   "cell_type": "code",
   "execution_count": 161,
   "metadata": {},
   "outputs": [],
   "source": [
    "col_names = []\n",
    "for i in d_dat_ME:\n",
    "    col_names.append(i)\n",
    "for i in range(len(col_names)):\n",
    "    col_names[i] = d_m_dict_2015_2019[col_names[i]]\n",
    "d_dat_ME.columns = col_names"
   ]
  },
  {
   "cell_type": "code",
   "execution_count": 162,
   "metadata": {},
   "outputs": [
    {
     "output_type": "execute_result",
     "data": {
      "text/plain": "Index(['GIS Join Match Code', 'Data File Year', 'State Postal Abbreviation',\n       'State Name', 'State Code', 'County Name', 'County Code',\n       'Census Tract Code', 'Census Geographic Identifier', 'Area Name',\n       'Total (Margin of Error)', 'Male (Margin of Error)',\n       'Male: Under 5 years (Margin of Error)',\n       'Male: Under 5 years: With a disability (Margin of Error)',\n       'Male: Under 5 years: No disability (Margin of Error)',\n       'Male: 5 to 17 years (Margin of Error)',\n       'Male: 5 to 17 years: With a disability (Margin of Error)',\n       'Male: 5 to 17 years: No disability (Margin of Error)',\n       'Male: 18 to 34 years (Margin of Error)',\n       'Male: 18 to 34 years: With a disability (Margin of Error)',\n       'Male: 18 to 34 years: No disability (Margin of Error)',\n       'Male: 35 to 64 years (Margin of Error)',\n       'Male: 35 to 64 years: With a disability (Margin of Error)',\n       'Male: 35 to 64 years: No disability (Margin of Error)',\n       'Male: 65 to 74 years (Margin of Error)',\n       'Male: 65 to 74 years: With a disability (Margin of Error)',\n       'Male: 65 to 74 years: No disability (Margin of Error)',\n       'Male: 75 years and over (Margin of Error)',\n       'Male: 75 years and over: With a disability (Margin of Error)',\n       'Male: 75 years and over: No disability (Margin of Error)',\n       'Female (Margin of Error)', 'Female: Under 5 years (Margin of Error)',\n       'Female: Under 5 years: With a disability (Margin of Error)',\n       'Female: Under 5 years: No disability (Margin of Error)',\n       'Female: 5 to 17 years (Margin of Error)',\n       'Female: 5 to 17 years: With a disability (Margin of Error)',\n       'Female: 5 to 17 years: No disability (Margin of Error)',\n       'Female: 18 to 34 years (Margin of Error)',\n       'Female: 18 to 34 years: With a disability (Margin of Error)',\n       'Female: 18 to 34 years: No disability (Margin of Error)',\n       'Female: 35 to 64 years (Margin of Error)',\n       'Female: 35 to 64 years: With a disability (Margin of Error)',\n       'Female: 35 to 64 years: No disability (Margin of Error)',\n       'Female: 65 to 74 years (Margin of Error)',\n       'Female: 65 to 74 years: With a disability (Margin of Error)',\n       'Female: 65 to 74 years: No disability (Margin of Error)',\n       'Female: 75 years and over (Margin of Error)',\n       'Female: 75 years and over: With a disability (Margin of Error)',\n       'Female: 75 years and over: No disability (Margin of Error)'],\n      dtype='object')"
     },
     "metadata": {},
     "execution_count": 162
    }
   ],
   "source": [
    "d_dat_ME.columns"
   ]
  },
  {
   "cell_type": "code",
   "execution_count": 163,
   "metadata": {},
   "outputs": [
    {
     "output_type": "execute_result",
     "data": {
      "text/plain": "12    Census Tract 101, Adams County, Illinois\n14    Census Tract 103, Adams County, Illinois\n15    Census Tract 104, Adams County, Illinois\n17    Census Tract 106, Adams County, Illinois\n26    Census Tract 101, Boone County, Illinois\nName: Area Name, dtype: object"
     },
     "metadata": {},
     "execution_count": 163
    }
   ],
   "source": [
    "edudat_2015_2019[\"Area Name\"].head()"
   ]
  },
  {
   "cell_type": "code",
   "execution_count": 164,
   "metadata": {},
   "outputs": [
    {
     "output_type": "execute_result",
     "data": {
      "text/plain": "12    Census Tract 101, Adams County, Illinois\n14    Census Tract 103, Adams County, Illinois\n15    Census Tract 104, Adams County, Illinois\n17    Census Tract 106, Adams County, Illinois\n26    Census Tract 101, Boone County, Illinois\nName: Area Name, dtype: object"
     },
     "metadata": {},
     "execution_count": 164
    }
   ],
   "source": [
    "d_dat_ME[\"Area Name\"].head()"
   ]
  },
  {
   "cell_type": "code",
   "execution_count": 165,
   "metadata": {},
   "outputs": [],
   "source": [
    "census_team_dat = pd.merge(edudat_2015_2019,rt_dat_E,on=['GIS Join Match Code', 'Data File Year', 'State Postal Abbreviation',\n",
    "       'State Name', 'State Code', 'County Name', 'County Code',\n",
    "       'Census Tract Code', 'Census Geographic Identifier', 'Area Name'],how='outer')\n",
    "census_team_dat = pd.merge(census_team_dat,rt_dat_ME,on=['GIS Join Match Code', 'Data File Year', 'State Postal Abbreviation',\n",
    "       'State Name', 'State Code', 'County Name', 'County Code',\n",
    "       'Census Tract Code', 'Census Geographic Identifier', 'Area Name'],how='outer')\n",
    "census_team_dat = pd.merge(census_team_dat,d_dat_E,on=['GIS Join Match Code', 'Data File Year', 'State Postal Abbreviation',\n",
    "       'State Name', 'State Code', 'County Name', 'County Code',\n",
    "       'Census Tract Code', 'Census Geographic Identifier', 'Area Name'],how='outer')\n",
    "census_team_2015_2019_dat = pd.merge(census_team_dat,d_dat_ME,on=['GIS Join Match Code', 'Data File Year', 'State Postal Abbreviation',\n",
    "       'State Name', 'State Code', 'County Name', 'County Code',\n",
    "       'Census Tract Code', 'Census Geographic Identifier', 'Area Name'],how='outer')"
   ]
  },
  {
   "cell_type": "code",
   "execution_count": 166,
   "metadata": {
    "tags": []
   },
   "outputs": [
    {
     "output_type": "stream",
     "name": "stdout",
     "text": "gis join match code\ndata file year\nstate postal abbreviation\nstate name\nstate code\ncounty name\ncounty code\ncensus tract code\ncensus geographic identifier\narea name\neducation total (estimate)\nno schooling completed (estimate)\nnursery school (estimate)\nkindergarten (estimate)\n1st grade (estimate)\n2nd grade (estimate)\n3rd grade (estimate)\n4th grade (estimate)\n5th grade (estimate)\n6th grade (estimate)\n7th grade (estimate)\n8th grade (estimate)\n9th grade (estimate)\n10th grade (estimate)\n11th grade (estimate)\n12th grade, no diploma (estimate)\nregular high school diploma (estimate)\nged or alternative credential (estimate)\nsome college, less than 1 year (estimate)\nsome college, 1 or more years, no degree (estimate)\nassociate's degree (estimate)\nbachelor's degree (estimate)\nmaster's degree (estimate)\nprofessional school degree (estimate)\ndoctorate degree (estimate)\neducation total (margin of error)\nno schooling completed (margin of error)\nnursery school (margin of error)\nkindergarten (margin of error)\n1st grade (margin of error)\n2nd grade (margin of error)\n3rd grade (margin of error)\n4th grade (margin of error)\n5th grade (margin of error)\n6th grade (margin of error)\n7th grade (margin of error)\n8th grade (margin of error)\n9th grade (margin of error)\n10th grade (margin of error)\n11th grade (margin of error)\n12th grade, no diploma (margin of error)\nregular high school diploma (margin of error)\nged or alternative credential (margin of error)\nsome college, less than 1 year (margin of error)\nsome college, 1 or more years, no degree (margin of error)\nassociate's degree (margin of error)\nbachelor's degree (margin of error)\nmaster's degree (margin of error)\nprofessional school degree (margin of error)\ndoctorate degree (margin of error)\nrace total (estimate)\nwhite alone (estimate)\nblack or african american alone (estimate)\namerican indian and alaska native alone (estimate)\nasian alone (estimate)\nnative hawaiian and other pacific islander alone (estimate)\nsome other race alone (estimate)\ntwo or more races (estimate)\ntwo or more races: two races including some other race (estimate)\ntwo or more races: two races excluding some other race, and three or more races (estimate)\ntravel total (estimate)\nless than 5 minutes (estimate)\n5 to 9 minutes (estimate)\n10 to 14 minutes (estimate)\n15 to 19 minutes (estimate)\n20 to 24 minutes (estimate)\n25 to 29 minutes (estimate)\n30 to 34 minutes (estimate)\n35 to 39 minutes (estimate)\n40 to 44 minutes (estimate)\n45 to 59 minutes (estimate)\n60 to 89 minutes (estimate)\n90 or more minutes (estimate)\nmedian household income in the past 12 months (in 2019 inflation-adjusted dollars) (estimate)\nrace total (margin of error)\nwhite alone (margin of error)\nblack or african american alone (margin of error)\namerican indian and alaska native alone (margin of error)\nasian alone (margin of error)\nnative hawaiian and other pacific islander alone (margin of error)\nsome other race alone (margin of error)\ntwo or more races (margin of error)\ntwo or more races: two races including some other race (margin of error)\ntwo or more races: two races excluding some other race, and three or more races (margin of error)\ntravel total (margin of error)\nless than 5 minutes (margin of error)\n5 to 9 minutes (margin of error)\n10 to 14 minutes (margin of error)\n15 to 19 minutes (margin of error)\n20 to 24 minutes (margin of error)\n25 to 29 minutes (margin of error)\n30 to 34 minutes (margin of error)\n35 to 39 minutes (margin of error)\n40 to 44 minutes (margin of error)\n45 to 59 minutes (margin of error)\n60 to 89 minutes (margin of error)\n90 or more minutes (margin of error)\nmedian household income in the past 12 months (in 2019 inflation-adjusted dollars) (margin of error)\ntotal (estimate)\nmale (estimate)\nmale: under 5 years (estimate)\nmale: under 5 years: with a disability (estimate)\nmale: under 5 years: no disability (estimate)\nmale: 5 to 17 years (estimate)\nmale: 5 to 17 years: with a disability (estimate)\nmale: 5 to 17 years: no disability (estimate)\nmale: 18 to 34 years (estimate)\nmale: 18 to 34 years: with a disability (estimate)\nmale: 18 to 34 years: no disability (estimate)\nmale: 35 to 64 years (estimate)\nmale: 35 to 64 years: with a disability (estimate)\nmale: 35 to 64 years: no disability (estimate)\nmale: 65 to 74 years (estimate)\nmale: 65 to 74 years: with a disability (estimate)\nmale: 65 to 74 years: no disability (estimate)\nmale: 75 years and over (estimate)\nmale: 75 years and over: with a disability (estimate)\nmale: 75 years and over: no disability (estimate)\nfemale (estimate)\nfemale: under 5 years (estimate)\nfemale: under 5 years: with a disability (estimate)\nfemale: under 5 years: no disability (estimate)\nfemale: 5 to 17 years (estimate)\nfemale: 5 to 17 years: with a disability (estimate)\nfemale: 5 to 17 years: no disability (estimate)\nfemale: 18 to 34 years (estimate)\nfemale: 18 to 34 years: with a disability (estimate)\nfemale: 18 to 34 years: no disability (estimate)\nfemale: 35 to 64 years (estimate)\nfemale: 35 to 64 years: with a disability (estimate)\nfemale: 35 to 64 years: no disability (estimate)\nfemale: 65 to 74 years (estimate)\nfemale: 65 to 74 years: with a disability (estimate)\nfemale: 65 to 74 years: no disability (estimate)\nfemale: 75 years and over (estimate)\nfemale: 75 years and over: with a disability (estimate)\nfemale: 75 years and over: no disability (estimate)\ntotal (margin of error)\nmale (margin of error)\nmale: under 5 years (margin of error)\nmale: under 5 years: with a disability (margin of error)\nmale: under 5 years: no disability (margin of error)\nmale: 5 to 17 years (margin of error)\nmale: 5 to 17 years: with a disability (margin of error)\nmale: 5 to 17 years: no disability (margin of error)\nmale: 18 to 34 years (margin of error)\nmale: 18 to 34 years: with a disability (margin of error)\nmale: 18 to 34 years: no disability (margin of error)\nmale: 35 to 64 years (margin of error)\nmale: 35 to 64 years: with a disability (margin of error)\nmale: 35 to 64 years: no disability (margin of error)\nmale: 65 to 74 years (margin of error)\nmale: 65 to 74 years: with a disability (margin of error)\nmale: 65 to 74 years: no disability (margin of error)\nmale: 75 years and over (margin of error)\nmale: 75 years and over: with a disability (margin of error)\nmale: 75 years and over: no disability (margin of error)\nfemale (margin of error)\nfemale: under 5 years (margin of error)\nfemale: under 5 years: with a disability (margin of error)\nfemale: under 5 years: no disability (margin of error)\nfemale: 5 to 17 years (margin of error)\nfemale: 5 to 17 years: with a disability (margin of error)\nfemale: 5 to 17 years: no disability (margin of error)\nfemale: 18 to 34 years (margin of error)\nfemale: 18 to 34 years: with a disability (margin of error)\nfemale: 18 to 34 years: no disability (margin of error)\nfemale: 35 to 64 years (margin of error)\nfemale: 35 to 64 years: with a disability (margin of error)\nfemale: 35 to 64 years: no disability (margin of error)\nfemale: 65 to 74 years (margin of error)\nfemale: 65 to 74 years: with a disability (margin of error)\nfemale: 65 to 74 years: no disability (margin of error)\nfemale: 75 years and over (margin of error)\nfemale: 75 years and over: with a disability (margin of error)\nfemale: 75 years and over: no disability (margin of error)\n"
    }
   ],
   "source": [
    "census_team_2015_2019_dat = census_team_2015_2019_dat.rename(columns = str.lower)\n",
    "census_team_2015_2019_dat = census_team_2015_2019_dat.drop(\"area name (margin of error)\", axis=1)\n",
    "for i in range(len(census_team_2015_2019_dat.columns)):\n",
    "    print(census_team_2015_2019_dat.columns[i])"
   ]
  },
  {
   "cell_type": "code",
   "execution_count": 167,
   "metadata": {},
   "outputs": [],
   "source": [
    "geom_list = []\n",
    "for i in range(census_team_2015_2019_dat.shape[0]):\n",
    "    for j in range(tracts_dat.shape[0]):\n",
    "        if census_team_2015_2019_dat.loc[i,\"census tract code\"] == tracts_dat.loc[j,\"TRACTCE10\"]:\n",
    "            geom_list.append(tracts_dat.loc[j,\"the_geom\"])\n",
    "census_team_2015_2019_dat[\"geom\"] = geom_list"
   ]
  },
  {
   "cell_type": "code",
   "execution_count": 168,
   "metadata": {},
   "outputs": [
    {
     "output_type": "execute_result",
     "data": {
      "text/plain": "    gis join match code data file year state postal abbreviation state name  \\\n0        G1700010010100      2015-2019                        IL   Illinois   \n1        G1700010010300      2015-2019                        IL   Illinois   \n2        G1700010010400      2015-2019                        IL   Illinois   \n3        G1700010010600      2015-2019                        IL   Illinois   \n4        G1700070010100      2015-2019                        IL   Illinois   \n..                  ...            ...                       ...        ...   \n908      G1702010980000      2015-2019                        IL   Illinois   \n909      G1702030030200      2015-2019                        IL   Illinois   \n910      G1702030030300      2015-2019                        IL   Illinois   \n911      G1702030030400      2015-2019                        IL   Illinois   \n912      G1702030030601      2015-2019                        IL   Illinois   \n\n     state code       county name  county code  census tract code  \\\n0            17      Adams County            1              10100   \n1            17      Adams County            1              10300   \n2            17      Adams County            1              10400   \n3            17      Adams County            1              10600   \n4            17      Boone County            7              10100   \n..          ...               ...          ...                ...   \n908          17  Winnebago County          201             980000   \n909          17   Woodford County          203              30200   \n910          17   Woodford County          203              30300   \n911          17   Woodford County          203              30400   \n912          17   Woodford County          203              30601   \n\n    census geographic identifier  \\\n0             14000US17001010100   \n1             14000US17001010300   \n2             14000US17001010400   \n3             14000US17001010600   \n4             14000US17007010100   \n..                           ...   \n908           14000US17201980000   \n909           14000US17203030200   \n910           14000US17203030300   \n911           14000US17203030400   \n912           14000US17203030601   \n\n                                          area name  ...  \\\n0          Census Tract 101, Adams County, Illinois  ...   \n1          Census Tract 103, Adams County, Illinois  ...   \n2          Census Tract 104, Adams County, Illinois  ...   \n3          Census Tract 106, Adams County, Illinois  ...   \n4          Census Tract 101, Boone County, Illinois  ...   \n..                                              ...  ...   \n908   Census Tract 9800, Winnebago County, Illinois  ...   \n909     Census Tract 302, Woodford County, Illinois  ...   \n910     Census Tract 303, Woodford County, Illinois  ...   \n911     Census Tract 304, Woodford County, Illinois  ...   \n912  Census Tract 306.01, Woodford County, Illinois  ...   \n\n     female: 35 to 64 years (margin of error)  \\\n0                                          91   \n1                                         112   \n2                                          89   \n3                                         157   \n4                                         128   \n..                                        ...   \n908                                         5   \n909                                        66   \n910                                        71   \n911                                       148   \n912                                       171   \n\n     female: 35 to 64 years: with a disability (margin of error)  \\\n0                                                   43             \n1                                                   37             \n2                                                   43             \n3                                                   81             \n4                                                   93             \n..                                                 ...             \n908                                                 11             \n909                                                 17             \n910                                                 22             \n911                                                 29             \n912                                                 78             \n\n     female: 35 to 64 years: no disability (margin of error)  \\\n0                                                   87         \n1                                                  105         \n2                                                   94         \n3                                                  164         \n4                                                  145         \n..                                                 ...         \n908                                                  5         \n909                                                 67         \n910                                                 76         \n911                                                146         \n912                                                164         \n\n     female: 65 to 74 years (margin of error)  \\\n0                                          46   \n1                                          70   \n2                                          54   \n3                                          90   \n4                                          88   \n..                                        ...   \n908                                        11   \n909                                        33   \n910                                        52   \n911                                       113   \n912                                        94   \n\n     female: 65 to 74 years: with a disability (margin of error)  \\\n0                                                   41             \n1                                                   30             \n2                                                   11             \n3                                                   20             \n4                                                   58             \n..                                                 ...             \n908                                                 11             \n909                                                  8             \n910                                                 17             \n911                                                 85             \n912                                                 48             \n\n     female: 65 to 74 years: no disability (margin of error)  \\\n0                                                   34         \n1                                                   69         \n2                                                   54         \n3                                                   89         \n4                                                   83         \n..                                                 ...         \n908                                                 11         \n909                                                 32         \n910                                                 51         \n911                                                109         \n912                                                 90         \n\n     female: 75 years and over (margin of error)  \\\n0                                             38   \n1                                             85   \n2                                             59   \n3                                             76   \n4                                            119   \n..                                           ...   \n908                                           11   \n909                                           39   \n910                                           36   \n911                                           84   \n912                                           77   \n\n     female: 75 years and over: with a disability (margin of error)  \\\n0                                                   31                \n1                                                   78                \n2                                                   43                \n3                                                   49                \n4                                                   59                \n..                                                 ...                \n908                                                 11                \n909                                                 22                \n910                                                 27                \n911                                                 80                \n912                                                 77                \n\n     female: 75 years and over: no disability (margin of error)  \\\n0                                                   31            \n1                                                   32            \n2                                                   54            \n3                                                   73            \n4                                                  112            \n..                                                 ...            \n908                                                 11            \n909                                                 37            \n910                                                 25            \n911                                                 47            \n912                                                 85            \n\n                                                  geom  \n0    MULTIPOLYGON (((-87.66368000002299 42.01939800...  \n1    MULTIPOLYGON (((-87.66505999995483 42.01280100...  \n2    MULTIPOLYGON (((-87.65080299995667 41.99848500...  \n3    MULTIPOLYGON (((-87.6657209999605 42.004978999...  \n4    MULTIPOLYGON (((-87.66368000002299 42.01939800...  \n..                                                 ...  \n908  MULTIPOLYGON (((-87.92062799997296 42.00453199...  \n909  MULTIPOLYGON (((-87.67062299996495 41.99807500...  \n910  MULTIPOLYGON (((-87.67470499998184 41.99076299...  \n911  MULTIPOLYGON (((-87.66987500003228 41.98869599...  \n912  MULTIPOLYGON (((-87.6543830000042 41.990202000...  \n\n[913 rows x 187 columns]",
      "text/html": "<div>\n<style scoped>\n    .dataframe tbody tr th:only-of-type {\n        vertical-align: middle;\n    }\n\n    .dataframe tbody tr th {\n        vertical-align: top;\n    }\n\n    .dataframe thead th {\n        text-align: right;\n    }\n</style>\n<table border=\"1\" class=\"dataframe\">\n  <thead>\n    <tr style=\"text-align: right;\">\n      <th></th>\n      <th>gis join match code</th>\n      <th>data file year</th>\n      <th>state postal abbreviation</th>\n      <th>state name</th>\n      <th>state code</th>\n      <th>county name</th>\n      <th>county code</th>\n      <th>census tract code</th>\n      <th>census geographic identifier</th>\n      <th>area name</th>\n      <th>...</th>\n      <th>female: 35 to 64 years (margin of error)</th>\n      <th>female: 35 to 64 years: with a disability (margin of error)</th>\n      <th>female: 35 to 64 years: no disability (margin of error)</th>\n      <th>female: 65 to 74 years (margin of error)</th>\n      <th>female: 65 to 74 years: with a disability (margin of error)</th>\n      <th>female: 65 to 74 years: no disability (margin of error)</th>\n      <th>female: 75 years and over (margin of error)</th>\n      <th>female: 75 years and over: with a disability (margin of error)</th>\n      <th>female: 75 years and over: no disability (margin of error)</th>\n      <th>geom</th>\n    </tr>\n  </thead>\n  <tbody>\n    <tr>\n      <th>0</th>\n      <td>G1700010010100</td>\n      <td>2015-2019</td>\n      <td>IL</td>\n      <td>Illinois</td>\n      <td>17</td>\n      <td>Adams County</td>\n      <td>1</td>\n      <td>10100</td>\n      <td>14000US17001010100</td>\n      <td>Census Tract 101, Adams County, Illinois</td>\n      <td>...</td>\n      <td>91</td>\n      <td>43</td>\n      <td>87</td>\n      <td>46</td>\n      <td>41</td>\n      <td>34</td>\n      <td>38</td>\n      <td>31</td>\n      <td>31</td>\n      <td>MULTIPOLYGON (((-87.66368000002299 42.01939800...</td>\n    </tr>\n    <tr>\n      <th>1</th>\n      <td>G1700010010300</td>\n      <td>2015-2019</td>\n      <td>IL</td>\n      <td>Illinois</td>\n      <td>17</td>\n      <td>Adams County</td>\n      <td>1</td>\n      <td>10300</td>\n      <td>14000US17001010300</td>\n      <td>Census Tract 103, Adams County, Illinois</td>\n      <td>...</td>\n      <td>112</td>\n      <td>37</td>\n      <td>105</td>\n      <td>70</td>\n      <td>30</td>\n      <td>69</td>\n      <td>85</td>\n      <td>78</td>\n      <td>32</td>\n      <td>MULTIPOLYGON (((-87.66505999995483 42.01280100...</td>\n    </tr>\n    <tr>\n      <th>2</th>\n      <td>G1700010010400</td>\n      <td>2015-2019</td>\n      <td>IL</td>\n      <td>Illinois</td>\n      <td>17</td>\n      <td>Adams County</td>\n      <td>1</td>\n      <td>10400</td>\n      <td>14000US17001010400</td>\n      <td>Census Tract 104, Adams County, Illinois</td>\n      <td>...</td>\n      <td>89</td>\n      <td>43</td>\n      <td>94</td>\n      <td>54</td>\n      <td>11</td>\n      <td>54</td>\n      <td>59</td>\n      <td>43</td>\n      <td>54</td>\n      <td>MULTIPOLYGON (((-87.65080299995667 41.99848500...</td>\n    </tr>\n    <tr>\n      <th>3</th>\n      <td>G1700010010600</td>\n      <td>2015-2019</td>\n      <td>IL</td>\n      <td>Illinois</td>\n      <td>17</td>\n      <td>Adams County</td>\n      <td>1</td>\n      <td>10600</td>\n      <td>14000US17001010600</td>\n      <td>Census Tract 106, Adams County, Illinois</td>\n      <td>...</td>\n      <td>157</td>\n      <td>81</td>\n      <td>164</td>\n      <td>90</td>\n      <td>20</td>\n      <td>89</td>\n      <td>76</td>\n      <td>49</td>\n      <td>73</td>\n      <td>MULTIPOLYGON (((-87.6657209999605 42.004978999...</td>\n    </tr>\n    <tr>\n      <th>4</th>\n      <td>G1700070010100</td>\n      <td>2015-2019</td>\n      <td>IL</td>\n      <td>Illinois</td>\n      <td>17</td>\n      <td>Boone County</td>\n      <td>7</td>\n      <td>10100</td>\n      <td>14000US17007010100</td>\n      <td>Census Tract 101, Boone County, Illinois</td>\n      <td>...</td>\n      <td>128</td>\n      <td>93</td>\n      <td>145</td>\n      <td>88</td>\n      <td>58</td>\n      <td>83</td>\n      <td>119</td>\n      <td>59</td>\n      <td>112</td>\n      <td>MULTIPOLYGON (((-87.66368000002299 42.01939800...</td>\n    </tr>\n    <tr>\n      <th>...</th>\n      <td>...</td>\n      <td>...</td>\n      <td>...</td>\n      <td>...</td>\n      <td>...</td>\n      <td>...</td>\n      <td>...</td>\n      <td>...</td>\n      <td>...</td>\n      <td>...</td>\n      <td>...</td>\n      <td>...</td>\n      <td>...</td>\n      <td>...</td>\n      <td>...</td>\n      <td>...</td>\n      <td>...</td>\n      <td>...</td>\n      <td>...</td>\n      <td>...</td>\n      <td>...</td>\n    </tr>\n    <tr>\n      <th>908</th>\n      <td>G1702010980000</td>\n      <td>2015-2019</td>\n      <td>IL</td>\n      <td>Illinois</td>\n      <td>17</td>\n      <td>Winnebago County</td>\n      <td>201</td>\n      <td>980000</td>\n      <td>14000US17201980000</td>\n      <td>Census Tract 9800, Winnebago County, Illinois</td>\n      <td>...</td>\n      <td>5</td>\n      <td>11</td>\n      <td>5</td>\n      <td>11</td>\n      <td>11</td>\n      <td>11</td>\n      <td>11</td>\n      <td>11</td>\n      <td>11</td>\n      <td>MULTIPOLYGON (((-87.92062799997296 42.00453199...</td>\n    </tr>\n    <tr>\n      <th>909</th>\n      <td>G1702030030200</td>\n      <td>2015-2019</td>\n      <td>IL</td>\n      <td>Illinois</td>\n      <td>17</td>\n      <td>Woodford County</td>\n      <td>203</td>\n      <td>30200</td>\n      <td>14000US17203030200</td>\n      <td>Census Tract 302, Woodford County, Illinois</td>\n      <td>...</td>\n      <td>66</td>\n      <td>17</td>\n      <td>67</td>\n      <td>33</td>\n      <td>8</td>\n      <td>32</td>\n      <td>39</td>\n      <td>22</td>\n      <td>37</td>\n      <td>MULTIPOLYGON (((-87.67062299996495 41.99807500...</td>\n    </tr>\n    <tr>\n      <th>910</th>\n      <td>G1702030030300</td>\n      <td>2015-2019</td>\n      <td>IL</td>\n      <td>Illinois</td>\n      <td>17</td>\n      <td>Woodford County</td>\n      <td>203</td>\n      <td>30300</td>\n      <td>14000US17203030300</td>\n      <td>Census Tract 303, Woodford County, Illinois</td>\n      <td>...</td>\n      <td>71</td>\n      <td>22</td>\n      <td>76</td>\n      <td>52</td>\n      <td>17</td>\n      <td>51</td>\n      <td>36</td>\n      <td>27</td>\n      <td>25</td>\n      <td>MULTIPOLYGON (((-87.67470499998184 41.99076299...</td>\n    </tr>\n    <tr>\n      <th>911</th>\n      <td>G1702030030400</td>\n      <td>2015-2019</td>\n      <td>IL</td>\n      <td>Illinois</td>\n      <td>17</td>\n      <td>Woodford County</td>\n      <td>203</td>\n      <td>30400</td>\n      <td>14000US17203030400</td>\n      <td>Census Tract 304, Woodford County, Illinois</td>\n      <td>...</td>\n      <td>148</td>\n      <td>29</td>\n      <td>146</td>\n      <td>113</td>\n      <td>85</td>\n      <td>109</td>\n      <td>84</td>\n      <td>80</td>\n      <td>47</td>\n      <td>MULTIPOLYGON (((-87.66987500003228 41.98869599...</td>\n    </tr>\n    <tr>\n      <th>912</th>\n      <td>G1702030030601</td>\n      <td>2015-2019</td>\n      <td>IL</td>\n      <td>Illinois</td>\n      <td>17</td>\n      <td>Woodford County</td>\n      <td>203</td>\n      <td>30601</td>\n      <td>14000US17203030601</td>\n      <td>Census Tract 306.01, Woodford County, Illinois</td>\n      <td>...</td>\n      <td>171</td>\n      <td>78</td>\n      <td>164</td>\n      <td>94</td>\n      <td>48</td>\n      <td>90</td>\n      <td>77</td>\n      <td>77</td>\n      <td>85</td>\n      <td>MULTIPOLYGON (((-87.6543830000042 41.990202000...</td>\n    </tr>\n  </tbody>\n</table>\n<p>913 rows × 187 columns</p>\n</div>"
     },
     "metadata": {},
     "execution_count": 168
    }
   ],
   "source": [
    "census_team_2015_2019_dat"
   ]
  },
  {
   "cell_type": "code",
   "execution_count": 169,
   "metadata": {},
   "outputs": [],
   "source": [
    "census_team_2015_2019_dat.to_csv(\"/Users/benedictjung/Desktop/STAT349/census_team_2015_2019_dat.csv\", index=False)"
   ]
  },
  {
   "cell_type": "code",
   "execution_count": null,
   "metadata": {},
   "outputs": [],
   "source": []
  }
 ]
}