{
 "metadata": {
  "language_info": {
   "codemirror_mode": {
    "name": "ipython",
    "version": 3
   },
   "file_extension": ".py",
   "mimetype": "text/x-python",
   "name": "python",
   "nbconvert_exporter": "python",
   "pygments_lexer": "ipython3",
   "version": "3.8.5-final"
  },
  "orig_nbformat": 2,
  "kernelspec": {
   "name": "python38564bitfc1cbcb307194b9ba54a54a5c9ad8180",
   "display_name": "Python 3.8.5 64-bit"
  }
 },
 "nbformat": 4,
 "nbformat_minor": 2,
 "cells": [
  {
   "cell_type": "code",
   "execution_count": 1,
   "metadata": {},
   "outputs": [],
   "source": [
    "from keplergl import KeplerGl\n",
    "import pandas as pd"
   ]
  },
  {
   "cell_type": "code",
   "execution_count": 6,
   "metadata": {
    "tags": []
   },
   "outputs": [
    {
     "output_type": "stream",
     "name": "stdout",
     "text": "User Guide: https://docs.kepler.gl/docs/keplergl-jupyter\nMap saved to census.html!\n"
    }
   ],
   "source": [
    "dat = pd.read_csv(f\"output/cleaned_nhgis0004_ds244_20195_tract_E.csv\")\n",
    "custom_config = {\n",
    "  \"version\": \"v1\",\n",
    "  \"config\": {\n",
    "    \"visState\": {\n",
    "      \"filters\": [],\n",
    "      \"layers\": [],\n",
    "      \"interactionConfig\": {}\n",
    "    },\n",
    "    \"mapState\": {\n",
    "      \"latitude\": 41.8781,\n",
    "      \"longitude\": -87.6298\n",
    "    }\n",
    "  }\n",
    "}\n",
    "kepler_map = KeplerGl(\n",
    "    height = 700,\n",
    "    config=custom_config,\n",
    "    data = {\n",
    "        'Census' : dat\n",
    "    }\n",
    ")\n",
    "kepler_map.save_to_html(file_name = \"census.html\")"
   ]
  },
  {
   "cell_type": "code",
   "execution_count": null,
   "metadata": {},
   "outputs": [],
   "source": []
  }
 ]
}